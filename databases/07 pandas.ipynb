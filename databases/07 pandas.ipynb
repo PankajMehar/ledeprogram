{
 "cells": [
  {
   "cell_type": "markdown",
   "metadata": {},
   "source": [
    "#Lede Program\n",
    "#Data and databases 2015\n",
    "#Session 07\n",
    "#Number munging:  vectors, Pandas, probabilities"
   ]
  },
  {
   "cell_type": "code",
   "execution_count": 3,
   "metadata": {
    "collapsed": false
   },
   "outputs": [],
   "source": [
    "# Render our plots inline\n",
    "%matplotlib inline\n",
    "\n",
    "import pandas as pd\n",
    "import matplotlib.pyplot as plt\n",
    "import numpy as np\n",
    "\n",
    "pd.set_option('display.mpl_style', 'default') # Make the graphs a bit prettier\n",
    "plt.rcParams['figure.figsize'] = (15, 5)\n",
    "\n",
    "\n"
   ]
  },
  {
   "cell_type": "markdown",
   "metadata": {},
   "source": [
    "Get our big data file from my webpage. You can use `http` in your browser or `wget` or whatever. You'll need to uncompress it."
   ]
  },
  {
   "cell_type": "markdown",
   "metadata": {
    "collapsed": false
   },
   "source": [
    "!wget http://www.columbia.edu/~mj340/HMXPC_13.zip    #etc. whatever"
   ]
  },
  {
   "cell_type": "code",
   "execution_count": 4,
   "metadata": {
    "collapsed": false
   },
   "outputs": [],
   "source": [
    "#check contents of directory!"
   ]
  },
  {
   "cell_type": "markdown",
   "metadata": {},
   "source": [
    "\n",
    "\n",
    "#Our ritual: Exploratory data analysis\n",
    "\n",
    "\n",
    "> Exploratory data analysis (EDA) seeks to reveal structure, or simple descriptions, in data. We look at numbers and graphs and try to find patterns.  \n",
    "    - Persi Diaconis, \"Theories of Data Analysis: From Magical Thinking Through Classical statistics\"\n",
    "\n",
    "> . . . proceeding via a ‘dustbowl’ empiricism is dangerous at worst and foolish at best . . . . The purely empirical approach is particularly dangerous in an age when computers and packaged programs are readily available, since there is temptation to substitute immediate empirical analysis for more analytic thought and theory building.\n",
    "    - Einhorn, “Alchemy in the Behavioral Sciences,” 1972\n",
    "\n",
    ">. . . we can view the techniques of EDA as a ritual designed to reveal patters in a data set. Thus, we may believe that naturally occurring data sets contain structure, that EDA is a useful vehicle for revealing the structure. . . . If we make no attempt to check whether the structure could have arisen by chance, and tend to accept the findinds as gospel, then the ritual comes close to magical thinking. ... a controlled form of magical thinking--in the guise of 'working hypothesis'--is a basic ingredient of scientific progress. \n",
    "    - Persi Diaconis, \"Theories of Data Analysis: From Magical Thinking Through Classical statistics\"\n",
    "\n",
    "#From data to databases to data mining\n",
    "- move from accessing and manipulating data to performing ever more complicated *queries* on our data\n",
    "\n",
    "\n",
    "#`Pandas` first-line `python` tool for EDA\n",
    "- rich data structures\n",
    "- powerful ways to slice, dice, reformate, fix, and eliminate data\n",
    "    - taste of what can do\n",
    "- tables like Excel or a spreadsheet\n",
    "- rich queries like databases\n",
    "- manipulation on vectors and matrices directly\n"
   ]
  },
  {
   "cell_type": "markdown",
   "metadata": {},
   "source": [
    "#`Pandas`: charismatic megafauna"
   ]
  },
  {
   "cell_type": "code",
   "execution_count": 5,
   "metadata": {
    "collapsed": false
   },
   "outputs": [],
   "source": [
    "import pandas as pd"
   ]
  },
  {
   "cell_type": "code",
   "execution_count": 6,
   "metadata": {
    "collapsed": false
   },
   "outputs": [],
   "source": [
    "df = pd.read_csv(\"HMXPC_13.csv\", sep=\",\")"
   ]
  },
  {
   "cell_type": "code",
   "execution_count": 7,
   "metadata": {
    "collapsed": false
   },
   "outputs": [
    {
     "data": {
      "text/html": [
       "<div style=\"max-height:1000px;max-width:1500px;overflow:auto;\">\n",
       "<table border=\"1\" class=\"dataframe\">\n",
       "  <thead>\n",
       "    <tr style=\"text-align: right;\">\n",
       "      <th></th>\n",
       "      <th>course_id</th>\n",
       "      <th>userid_DI</th>\n",
       "      <th>registered</th>\n",
       "      <th>viewed</th>\n",
       "      <th>explored</th>\n",
       "      <th>certified</th>\n",
       "      <th>final_cc_cname_DI</th>\n",
       "      <th>LoE_DI</th>\n",
       "      <th>YoB</th>\n",
       "      <th>gender</th>\n",
       "      <th>grade</th>\n",
       "      <th>start_time_DI</th>\n",
       "      <th>last_event_DI</th>\n",
       "      <th>nevents</th>\n",
       "      <th>ndays_act</th>\n",
       "      <th>nplay_video</th>\n",
       "      <th>nchapters</th>\n",
       "      <th>nforum_posts</th>\n",
       "      <th>roles</th>\n",
       "      <th>incomplete_flag</th>\n",
       "    </tr>\n",
       "  </thead>\n",
       "  <tbody>\n",
       "    <tr>\n",
       "      <th>0</th>\n",
       "      <td> HarvardX/CB22x/2013_Spring</td>\n",
       "      <td> MHxPC130442623</td>\n",
       "      <td> 1</td>\n",
       "      <td> 0</td>\n",
       "      <td> 0</td>\n",
       "      <td> 0</td>\n",
       "      <td> United States</td>\n",
       "      <td> NaN</td>\n",
       "      <td>NaN</td>\n",
       "      <td> NaN</td>\n",
       "      <td> 0</td>\n",
       "      <td> 2012-12-19</td>\n",
       "      <td> 2013-11-17</td>\n",
       "      <td>NaN</td>\n",
       "      <td>  9</td>\n",
       "      <td>NaN</td>\n",
       "      <td>NaN</td>\n",
       "      <td> 0</td>\n",
       "      <td>NaN</td>\n",
       "      <td> 1</td>\n",
       "    </tr>\n",
       "    <tr>\n",
       "      <th>1</th>\n",
       "      <td>        HarvardX/CS50x/2012</td>\n",
       "      <td> MHxPC130442623</td>\n",
       "      <td> 1</td>\n",
       "      <td> 1</td>\n",
       "      <td> 0</td>\n",
       "      <td> 0</td>\n",
       "      <td> United States</td>\n",
       "      <td> NaN</td>\n",
       "      <td>NaN</td>\n",
       "      <td> NaN</td>\n",
       "      <td> 0</td>\n",
       "      <td> 2012-10-15</td>\n",
       "      <td>        NaN</td>\n",
       "      <td>NaN</td>\n",
       "      <td>  9</td>\n",
       "      <td>NaN</td>\n",
       "      <td>  1</td>\n",
       "      <td> 0</td>\n",
       "      <td>NaN</td>\n",
       "      <td> 1</td>\n",
       "    </tr>\n",
       "    <tr>\n",
       "      <th>2</th>\n",
       "      <td> HarvardX/CB22x/2013_Spring</td>\n",
       "      <td> MHxPC130275857</td>\n",
       "      <td> 1</td>\n",
       "      <td> 0</td>\n",
       "      <td> 0</td>\n",
       "      <td> 0</td>\n",
       "      <td> United States</td>\n",
       "      <td> NaN</td>\n",
       "      <td>NaN</td>\n",
       "      <td> NaN</td>\n",
       "      <td> 0</td>\n",
       "      <td> 2013-02-08</td>\n",
       "      <td> 2013-11-17</td>\n",
       "      <td>NaN</td>\n",
       "      <td> 16</td>\n",
       "      <td>NaN</td>\n",
       "      <td>NaN</td>\n",
       "      <td> 0</td>\n",
       "      <td>NaN</td>\n",
       "      <td> 1</td>\n",
       "    </tr>\n",
       "    <tr>\n",
       "      <th>3</th>\n",
       "      <td>        HarvardX/CS50x/2012</td>\n",
       "      <td> MHxPC130275857</td>\n",
       "      <td> 1</td>\n",
       "      <td> 0</td>\n",
       "      <td> 0</td>\n",
       "      <td> 0</td>\n",
       "      <td> United States</td>\n",
       "      <td> NaN</td>\n",
       "      <td>NaN</td>\n",
       "      <td> NaN</td>\n",
       "      <td> 0</td>\n",
       "      <td> 2012-09-17</td>\n",
       "      <td>        NaN</td>\n",
       "      <td>NaN</td>\n",
       "      <td> 16</td>\n",
       "      <td>NaN</td>\n",
       "      <td>NaN</td>\n",
       "      <td> 0</td>\n",
       "      <td>NaN</td>\n",
       "      <td> 1</td>\n",
       "    </tr>\n",
       "    <tr>\n",
       "      <th>4</th>\n",
       "      <td> HarvardX/ER22x/2013_Spring</td>\n",
       "      <td> MHxPC130275857</td>\n",
       "      <td> 1</td>\n",
       "      <td> 0</td>\n",
       "      <td> 0</td>\n",
       "      <td> 0</td>\n",
       "      <td> United States</td>\n",
       "      <td> NaN</td>\n",
       "      <td>NaN</td>\n",
       "      <td> NaN</td>\n",
       "      <td> 0</td>\n",
       "      <td> 2012-12-19</td>\n",
       "      <td>        NaN</td>\n",
       "      <td>NaN</td>\n",
       "      <td> 16</td>\n",
       "      <td>NaN</td>\n",
       "      <td>NaN</td>\n",
       "      <td> 0</td>\n",
       "      <td>NaN</td>\n",
       "      <td> 1</td>\n",
       "    </tr>\n",
       "  </tbody>\n",
       "</table>\n",
       "</div>"
      ],
      "text/plain": [
       "                    course_id       userid_DI  registered  viewed  explored  \\\n",
       "0  HarvardX/CB22x/2013_Spring  MHxPC130442623           1       0         0   \n",
       "1         HarvardX/CS50x/2012  MHxPC130442623           1       1         0   \n",
       "2  HarvardX/CB22x/2013_Spring  MHxPC130275857           1       0         0   \n",
       "3         HarvardX/CS50x/2012  MHxPC130275857           1       0         0   \n",
       "4  HarvardX/ER22x/2013_Spring  MHxPC130275857           1       0         0   \n",
       "\n",
       "   certified final_cc_cname_DI LoE_DI  YoB gender grade start_time_DI  \\\n",
       "0          0     United States    NaN  NaN    NaN     0    2012-12-19   \n",
       "1          0     United States    NaN  NaN    NaN     0    2012-10-15   \n",
       "2          0     United States    NaN  NaN    NaN     0    2013-02-08   \n",
       "3          0     United States    NaN  NaN    NaN     0    2012-09-17   \n",
       "4          0     United States    NaN  NaN    NaN     0    2012-12-19   \n",
       "\n",
       "  last_event_DI  nevents  ndays_act  nplay_video  nchapters  nforum_posts  \\\n",
       "0    2013-11-17      NaN          9          NaN        NaN             0   \n",
       "1           NaN      NaN          9          NaN          1             0   \n",
       "2    2013-11-17      NaN         16          NaN        NaN             0   \n",
       "3           NaN      NaN         16          NaN        NaN             0   \n",
       "4           NaN      NaN         16          NaN        NaN             0   \n",
       "\n",
       "   roles  incomplete_flag  \n",
       "0    NaN                1  \n",
       "1    NaN                1  \n",
       "2    NaN                1  \n",
       "3    NaN                1  \n",
       "4    NaN                1  "
      ]
     },
     "execution_count": 7,
     "metadata": {},
     "output_type": "execute_result"
    }
   ],
   "source": [
    "df.head()"
   ]
  },
  {
   "cell_type": "code",
   "execution_count": 8,
   "metadata": {
    "collapsed": false
   },
   "outputs": [
    {
     "data": {
      "text/html": [
       "<div style=\"max-height:1000px;max-width:1500px;overflow:auto;\">\n",
       "<table border=\"1\" class=\"dataframe\">\n",
       "  <thead>\n",
       "    <tr style=\"text-align: right;\">\n",
       "      <th></th>\n",
       "      <th>registered</th>\n",
       "      <th>viewed</th>\n",
       "      <th>explored</th>\n",
       "      <th>certified</th>\n",
       "      <th>YoB</th>\n",
       "      <th>nevents</th>\n",
       "      <th>ndays_act</th>\n",
       "      <th>nplay_video</th>\n",
       "      <th>nchapters</th>\n",
       "      <th>nforum_posts</th>\n",
       "      <th>roles</th>\n",
       "      <th>incomplete_flag</th>\n",
       "    </tr>\n",
       "  </thead>\n",
       "  <tbody>\n",
       "    <tr>\n",
       "      <th>count</th>\n",
       "      <td> 641138</td>\n",
       "      <td> 641138.000000</td>\n",
       "      <td> 641138.000000</td>\n",
       "      <td> 641138.000000</td>\n",
       "      <td> 544533.000000</td>\n",
       "      <td> 441987.000000</td>\n",
       "      <td> 478395.000000</td>\n",
       "      <td> 183608.000000</td>\n",
       "      <td> 382385.000000</td>\n",
       "      <td> 641138.000000</td>\n",
       "      <td>  0</td>\n",
       "      <td> 100161</td>\n",
       "    </tr>\n",
       "    <tr>\n",
       "      <th>mean</th>\n",
       "      <td>      1</td>\n",
       "      <td>      0.624299</td>\n",
       "      <td>      0.061899</td>\n",
       "      <td>      0.027587</td>\n",
       "      <td>   1985.253279</td>\n",
       "      <td>    431.008018</td>\n",
       "      <td>      5.710254</td>\n",
       "      <td>    114.844173</td>\n",
       "      <td>      3.634423</td>\n",
       "      <td>      0.018968</td>\n",
       "      <td>NaN</td>\n",
       "      <td>      1</td>\n",
       "    </tr>\n",
       "    <tr>\n",
       "      <th>std</th>\n",
       "      <td>      0</td>\n",
       "      <td>      0.484304</td>\n",
       "      <td>      0.240973</td>\n",
       "      <td>      0.163786</td>\n",
       "      <td>      8.891814</td>\n",
       "      <td>   1516.116057</td>\n",
       "      <td>     11.866471</td>\n",
       "      <td>    426.996844</td>\n",
       "      <td>      4.490987</td>\n",
       "      <td>      0.229539</td>\n",
       "      <td>NaN</td>\n",
       "      <td>      0</td>\n",
       "    </tr>\n",
       "    <tr>\n",
       "      <th>min</th>\n",
       "      <td>      1</td>\n",
       "      <td>      0.000000</td>\n",
       "      <td>      0.000000</td>\n",
       "      <td>      0.000000</td>\n",
       "      <td>   1931.000000</td>\n",
       "      <td>      1.000000</td>\n",
       "      <td>      1.000000</td>\n",
       "      <td>      1.000000</td>\n",
       "      <td>      1.000000</td>\n",
       "      <td>      0.000000</td>\n",
       "      <td>NaN</td>\n",
       "      <td>      1</td>\n",
       "    </tr>\n",
       "    <tr>\n",
       "      <th>25%</th>\n",
       "      <td>      1</td>\n",
       "      <td>      0.000000</td>\n",
       "      <td>      0.000000</td>\n",
       "      <td>      0.000000</td>\n",
       "      <td>   1982.000000</td>\n",
       "      <td>      3.000000</td>\n",
       "      <td>      1.000000</td>\n",
       "      <td>      5.000000</td>\n",
       "      <td>      1.000000</td>\n",
       "      <td>      0.000000</td>\n",
       "      <td>NaN</td>\n",
       "      <td>      1</td>\n",
       "    </tr>\n",
       "    <tr>\n",
       "      <th>50%</th>\n",
       "      <td>      1</td>\n",
       "      <td>      1.000000</td>\n",
       "      <td>      0.000000</td>\n",
       "      <td>      0.000000</td>\n",
       "      <td>   1988.000000</td>\n",
       "      <td>     24.000000</td>\n",
       "      <td>      2.000000</td>\n",
       "      <td>     18.000000</td>\n",
       "      <td>      2.000000</td>\n",
       "      <td>      0.000000</td>\n",
       "      <td>NaN</td>\n",
       "      <td>      1</td>\n",
       "    </tr>\n",
       "    <tr>\n",
       "      <th>75%</th>\n",
       "      <td>      1</td>\n",
       "      <td>      1.000000</td>\n",
       "      <td>      0.000000</td>\n",
       "      <td>      0.000000</td>\n",
       "      <td>   1991.000000</td>\n",
       "      <td>    158.000000</td>\n",
       "      <td>      4.000000</td>\n",
       "      <td>     73.000000</td>\n",
       "      <td>      4.000000</td>\n",
       "      <td>      0.000000</td>\n",
       "      <td>NaN</td>\n",
       "      <td>      1</td>\n",
       "    </tr>\n",
       "    <tr>\n",
       "      <th>max</th>\n",
       "      <td>      1</td>\n",
       "      <td>      1.000000</td>\n",
       "      <td>      1.000000</td>\n",
       "      <td>      1.000000</td>\n",
       "      <td>   2013.000000</td>\n",
       "      <td> 197757.000000</td>\n",
       "      <td>    205.000000</td>\n",
       "      <td>  98517.000000</td>\n",
       "      <td>     48.000000</td>\n",
       "      <td>     20.000000</td>\n",
       "      <td>NaN</td>\n",
       "      <td>      1</td>\n",
       "    </tr>\n",
       "  </tbody>\n",
       "</table>\n",
       "</div>"
      ],
      "text/plain": [
       "       registered         viewed       explored      certified            YoB  \\\n",
       "count      641138  641138.000000  641138.000000  641138.000000  544533.000000   \n",
       "mean            1       0.624299       0.061899       0.027587    1985.253279   \n",
       "std             0       0.484304       0.240973       0.163786       8.891814   \n",
       "min             1       0.000000       0.000000       0.000000    1931.000000   \n",
       "25%             1       0.000000       0.000000       0.000000    1982.000000   \n",
       "50%             1       1.000000       0.000000       0.000000    1988.000000   \n",
       "75%             1       1.000000       0.000000       0.000000    1991.000000   \n",
       "max             1       1.000000       1.000000       1.000000    2013.000000   \n",
       "\n",
       "             nevents      ndays_act    nplay_video      nchapters  \\\n",
       "count  441987.000000  478395.000000  183608.000000  382385.000000   \n",
       "mean      431.008018       5.710254     114.844173       3.634423   \n",
       "std      1516.116057      11.866471     426.996844       4.490987   \n",
       "min         1.000000       1.000000       1.000000       1.000000   \n",
       "25%         3.000000       1.000000       5.000000       1.000000   \n",
       "50%        24.000000       2.000000      18.000000       2.000000   \n",
       "75%       158.000000       4.000000      73.000000       4.000000   \n",
       "max    197757.000000     205.000000   98517.000000      48.000000   \n",
       "\n",
       "        nforum_posts  roles  incomplete_flag  \n",
       "count  641138.000000      0           100161  \n",
       "mean        0.018968    NaN                1  \n",
       "std         0.229539    NaN                0  \n",
       "min         0.000000    NaN                1  \n",
       "25%         0.000000    NaN                1  \n",
       "50%         0.000000    NaN                1  \n",
       "75%         0.000000    NaN                1  \n",
       "max        20.000000    NaN                1  "
      ]
     },
     "execution_count": 8,
     "metadata": {},
     "output_type": "execute_result"
    }
   ],
   "source": [
    "df.describe()"
   ]
  },
  {
   "cell_type": "code",
   "execution_count": 9,
   "metadata": {
    "collapsed": false
   },
   "outputs": [
    {
     "data": {
      "text/plain": [
       "(641138, 20)"
      ]
     },
     "execution_count": 9,
     "metadata": {},
     "output_type": "execute_result"
    }
   ],
   "source": [
    "df.shape"
   ]
  },
  {
   "cell_type": "code",
   "execution_count": 10,
   "metadata": {
    "collapsed": false
   },
   "outputs": [
    {
     "data": {
      "text/plain": [
       "0      HarvardX/CB22x/2013_Spring\n",
       "1             HarvardX/CS50x/2012\n",
       "2      HarvardX/CB22x/2013_Spring\n",
       "3             HarvardX/CS50x/2012\n",
       "4      HarvardX/ER22x/2013_Spring\n",
       "5       HarvardX/PH207x/2012_Fall\n",
       "6     HarvardX/PH278x/2013_Spring\n",
       "7      HarvardX/CB22x/2013_Spring\n",
       "8      HarvardX/CB22x/2013_Spring\n",
       "9             HarvardX/CS50x/2012\n",
       "10     HarvardX/ER22x/2013_Spring\n",
       "11     HarvardX/ER22x/2013_Spring\n",
       "12     HarvardX/CB22x/2013_Spring\n",
       "13            HarvardX/CS50x/2012\n",
       "14     HarvardX/ER22x/2013_Spring\n",
       "...\n",
       "641123     MITx/6.00x/2013_Spring\n",
       "641124     MITx/6.00x/2013_Spring\n",
       "641125    MITx/6.002x/2013_Spring\n",
       "641126     MITx/6.00x/2013_Spring\n",
       "641127    MITx/6.002x/2013_Spring\n",
       "641128    MITx/14.73x/2013_Spring\n",
       "641129     MITx/6.00x/2013_Spring\n",
       "641130    MITx/14.73x/2013_Spring\n",
       "641131     MITx/8.02x/2013_Spring\n",
       "641132    MITx/6.002x/2013_Spring\n",
       "641133     MITx/6.00x/2013_Spring\n",
       "641134     MITx/6.00x/2013_Spring\n",
       "641135    MITx/6.002x/2013_Spring\n",
       "641136     MITx/6.00x/2013_Spring\n",
       "641137     MITx/8.02x/2013_Spring\n",
       "Name: course_id, Length: 641138, dtype: object"
      ]
     },
     "execution_count": 10,
     "metadata": {},
     "output_type": "execute_result"
    }
   ],
   "source": [
    "df[\"course_id\"]"
   ]
  },
  {
   "cell_type": "code",
   "execution_count": 11,
   "metadata": {
    "collapsed": false
   },
   "outputs": [
    {
     "data": {
      "text/plain": [
       "3000            HarvardX/CS50x/2012\n",
       "3001      HarvardX/PH207x/2012_Fall\n",
       "3002    HarvardX/PH278x/2013_Spring\n",
       "3003            HarvardX/CS50x/2012\n",
       "3004            HarvardX/CS50x/2012\n",
       "Name: course_id, dtype: object"
      ]
     },
     "execution_count": 11,
     "metadata": {},
     "output_type": "execute_result"
    }
   ],
   "source": [
    "df[\"course_id\"][3000:3005]"
   ]
  },
  {
   "cell_type": "code",
   "execution_count": 12,
   "metadata": {
    "collapsed": false
   },
   "outputs": [
    {
     "data": {
      "text/html": [
       "<div style=\"max-height:1000px;max-width:1500px;overflow:auto;\">\n",
       "<table border=\"1\" class=\"dataframe\">\n",
       "  <thead>\n",
       "    <tr style=\"text-align: right;\">\n",
       "      <th></th>\n",
       "      <th>course_id</th>\n",
       "      <th>userid_DI</th>\n",
       "      <th>registered</th>\n",
       "      <th>viewed</th>\n",
       "      <th>explored</th>\n",
       "      <th>certified</th>\n",
       "      <th>final_cc_cname_DI</th>\n",
       "      <th>LoE_DI</th>\n",
       "      <th>YoB</th>\n",
       "      <th>gender</th>\n",
       "      <th>grade</th>\n",
       "      <th>start_time_DI</th>\n",
       "      <th>last_event_DI</th>\n",
       "      <th>nevents</th>\n",
       "      <th>ndays_act</th>\n",
       "      <th>nplay_video</th>\n",
       "      <th>nchapters</th>\n",
       "      <th>nforum_posts</th>\n",
       "      <th>roles</th>\n",
       "      <th>incomplete_flag</th>\n",
       "    </tr>\n",
       "  </thead>\n",
       "  <tbody>\n",
       "    <tr>\n",
       "      <th>3000</th>\n",
       "      <td>         HarvardX/CS50x/2012</td>\n",
       "      <td> MHxPC130344411</td>\n",
       "      <td> 1</td>\n",
       "      <td> 0</td>\n",
       "      <td> 0</td>\n",
       "      <td> 0</td>\n",
       "      <td> United States</td>\n",
       "      <td> NaN</td>\n",
       "      <td>NaN</td>\n",
       "      <td> NaN</td>\n",
       "      <td>   0</td>\n",
       "      <td> 2012-08-16</td>\n",
       "      <td>        NaN</td>\n",
       "      <td> NaN</td>\n",
       "      <td> 12</td>\n",
       "      <td> NaN</td>\n",
       "      <td>NaN</td>\n",
       "      <td> 0</td>\n",
       "      <td>NaN</td>\n",
       "      <td>  1</td>\n",
       "    </tr>\n",
       "    <tr>\n",
       "      <th>3001</th>\n",
       "      <td>   HarvardX/PH207x/2012_Fall</td>\n",
       "      <td> MHxPC130344411</td>\n",
       "      <td> 1</td>\n",
       "      <td> 1</td>\n",
       "      <td> 0</td>\n",
       "      <td> 0</td>\n",
       "      <td> United States</td>\n",
       "      <td> NaN</td>\n",
       "      <td>NaN</td>\n",
       "      <td> NaN</td>\n",
       "      <td>   0</td>\n",
       "      <td> 2012-08-16</td>\n",
       "      <td> 2013-03-21</td>\n",
       "      <td> 239</td>\n",
       "      <td> 12</td>\n",
       "      <td> 100</td>\n",
       "      <td>  4</td>\n",
       "      <td> 0</td>\n",
       "      <td>NaN</td>\n",
       "      <td>NaN</td>\n",
       "    </tr>\n",
       "    <tr>\n",
       "      <th>3002</th>\n",
       "      <td> HarvardX/PH278x/2013_Spring</td>\n",
       "      <td> MHxPC130344411</td>\n",
       "      <td> 1</td>\n",
       "      <td> 0</td>\n",
       "      <td> 0</td>\n",
       "      <td> 0</td>\n",
       "      <td> United States</td>\n",
       "      <td> NaN</td>\n",
       "      <td>NaN</td>\n",
       "      <td> NaN</td>\n",
       "      <td>   0</td>\n",
       "      <td> 2013-03-21</td>\n",
       "      <td>        NaN</td>\n",
       "      <td> NaN</td>\n",
       "      <td> 12</td>\n",
       "      <td> NaN</td>\n",
       "      <td>NaN</td>\n",
       "      <td> 0</td>\n",
       "      <td>NaN</td>\n",
       "      <td>  1</td>\n",
       "    </tr>\n",
       "    <tr>\n",
       "      <th>3003</th>\n",
       "      <td>         HarvardX/CS50x/2012</td>\n",
       "      <td> MHxPC130210735</td>\n",
       "      <td> 1</td>\n",
       "      <td> 0</td>\n",
       "      <td> 0</td>\n",
       "      <td> 0</td>\n",
       "      <td>      Pakistan</td>\n",
       "      <td> NaN</td>\n",
       "      <td>NaN</td>\n",
       "      <td> NaN</td>\n",
       "      <td> 0.0</td>\n",
       "      <td> 2012-09-13</td>\n",
       "      <td>        NaN</td>\n",
       "      <td> NaN</td>\n",
       "      <td>NaN</td>\n",
       "      <td> NaN</td>\n",
       "      <td>NaN</td>\n",
       "      <td> 0</td>\n",
       "      <td>NaN</td>\n",
       "      <td>NaN</td>\n",
       "    </tr>\n",
       "    <tr>\n",
       "      <th>3004</th>\n",
       "      <td>         HarvardX/CS50x/2012</td>\n",
       "      <td> MHxPC130411842</td>\n",
       "      <td> 1</td>\n",
       "      <td> 1</td>\n",
       "      <td> 0</td>\n",
       "      <td> 0</td>\n",
       "      <td> Unknown/Other</td>\n",
       "      <td> NaN</td>\n",
       "      <td>NaN</td>\n",
       "      <td> NaN</td>\n",
       "      <td>   0</td>\n",
       "      <td> 2012-08-16</td>\n",
       "      <td>        NaN</td>\n",
       "      <td> NaN</td>\n",
       "      <td>NaN</td>\n",
       "      <td> NaN</td>\n",
       "      <td>  1</td>\n",
       "      <td> 0</td>\n",
       "      <td>NaN</td>\n",
       "      <td>  1</td>\n",
       "    </tr>\n",
       "  </tbody>\n",
       "</table>\n",
       "</div>"
      ],
      "text/plain": [
       "                        course_id       userid_DI  registered  viewed  \\\n",
       "3000          HarvardX/CS50x/2012  MHxPC130344411           1       0   \n",
       "3001    HarvardX/PH207x/2012_Fall  MHxPC130344411           1       1   \n",
       "3002  HarvardX/PH278x/2013_Spring  MHxPC130344411           1       0   \n",
       "3003          HarvardX/CS50x/2012  MHxPC130210735           1       0   \n",
       "3004          HarvardX/CS50x/2012  MHxPC130411842           1       1   \n",
       "\n",
       "      explored  certified final_cc_cname_DI LoE_DI  YoB gender grade  \\\n",
       "3000         0          0     United States    NaN  NaN    NaN     0   \n",
       "3001         0          0     United States    NaN  NaN    NaN     0   \n",
       "3002         0          0     United States    NaN  NaN    NaN     0   \n",
       "3003         0          0          Pakistan    NaN  NaN    NaN   0.0   \n",
       "3004         0          0     Unknown/Other    NaN  NaN    NaN     0   \n",
       "\n",
       "     start_time_DI last_event_DI  nevents  ndays_act  nplay_video  nchapters  \\\n",
       "3000    2012-08-16           NaN      NaN         12          NaN        NaN   \n",
       "3001    2012-08-16    2013-03-21      239         12          100          4   \n",
       "3002    2013-03-21           NaN      NaN         12          NaN        NaN   \n",
       "3003    2012-09-13           NaN      NaN        NaN          NaN        NaN   \n",
       "3004    2012-08-16           NaN      NaN        NaN          NaN          1   \n",
       "\n",
       "      nforum_posts  roles  incomplete_flag  \n",
       "3000             0    NaN                1  \n",
       "3001             0    NaN              NaN  \n",
       "3002             0    NaN                1  \n",
       "3003             0    NaN              NaN  \n",
       "3004             0    NaN                1  "
      ]
     },
     "execution_count": 12,
     "metadata": {},
     "output_type": "execute_result"
    }
   ],
   "source": [
    "df[3000:3005]"
   ]
  },
  {
   "cell_type": "code",
   "execution_count": 13,
   "metadata": {
    "collapsed": false
   },
   "outputs": [
    {
     "data": {
      "text/plain": [
       "course_id            HarvardX/CS50x/2012\n",
       "userid_DI                 MHxPC130297337\n",
       "registered                             1\n",
       "viewed                                 0\n",
       "explored                               0\n",
       "certified                              0\n",
       "final_cc_cname_DI         United Kingdom\n",
       "LoE_DI                               NaN\n",
       "YoB                                  NaN\n",
       "gender                               NaN\n",
       "grade                                  0\n",
       "start_time_DI                 2012-08-17\n",
       "last_event_DI                        NaN\n",
       "nevents                              NaN\n",
       "ndays_act                            NaN\n",
       "nplay_video                          NaN\n",
       "nchapters                            NaN\n",
       "nforum_posts                           0\n",
       "roles                                NaN\n",
       "incomplete_flag                      NaN\n",
       "Name: 666, dtype: object"
      ]
     },
     "execution_count": 13,
     "metadata": {},
     "output_type": "execute_result"
    }
   ],
   "source": [
    "df.ix[666]"
   ]
  },
  {
   "cell_type": "code",
   "execution_count": 27,
   "metadata": {
    "collapsed": false
   },
   "outputs": [
    {
     "name": "stdout",
     "output_type": "stream",
     "text": [
      "course_id\n",
      "userid_DI\n",
      "registered\n",
      "viewed\n",
      "explored\n",
      "certified\n",
      "final_cc_cname_DI\n",
      "LoE_DI\n",
      "YoB\n",
      "gender\n",
      "grade\n",
      "start_time_DI\n",
      "last_event_DI\n",
      "nevents\n",
      "ndays_act\n",
      "nplay_video\n",
      "nchapters\n",
      "nforum_posts\n",
      "roles\n",
      "incomplete_flag\n"
     ]
    }
   ],
   "source": [
    "for d in df:\n",
    "    print d"
   ]
  },
  {
   "cell_type": "code",
   "execution_count": 22,
   "metadata": {
    "collapsed": false
   },
   "outputs": [
    {
     "ename": "SyntaxError",
     "evalue": "invalid syntax (<ipython-input-22-a9f54bfb6c2e>, line 1)",
     "output_type": "error",
     "traceback": [
      "\u001b[0;36m  File \u001b[0;32m\"<ipython-input-22-a9f54bfb6c2e>\"\u001b[0;36m, line \u001b[0;32m1\u001b[0m\n\u001b[0;31m    SELECT * FROM df WHERE final_cc_cname_DI = 'United States';\u001b[0m\n\u001b[0m                   ^\u001b[0m\n\u001b[0;31mSyntaxError\u001b[0m\u001b[0;31m:\u001b[0m invalid syntax\n"
     ]
    }
   ],
   "source": [
    "SELECT * FROM df WHERE final_cc_cname_DI = 'United States';"
   ]
  },
  {
   "cell_type": "code",
   "execution_count": 23,
   "metadata": {
    "collapsed": false
   },
   "outputs": [
    {
     "data": {
      "text/plain": [
       "0      True\n",
       "1      True\n",
       "2      True\n",
       "3      True\n",
       "4      True\n",
       "5      True\n",
       "6      True\n",
       "7     False\n",
       "8      True\n",
       "9      True\n",
       "10     True\n",
       "11     True\n",
       "12     True\n",
       "13     True\n",
       "14     True\n",
       "...\n",
       "641123    False\n",
       "641124    False\n",
       "641125     True\n",
       "641126     True\n",
       "641127    False\n",
       "641128     True\n",
       "641129    False\n",
       "641130    False\n",
       "641131    False\n",
       "641132    False\n",
       "641133    False\n",
       "641134    False\n",
       "641135     True\n",
       "641136     True\n",
       "641137     True\n",
       "Name: final_cc_cname_DI, Length: 641138, dtype: bool"
      ]
     },
     "execution_count": 23,
     "metadata": {},
     "output_type": "execute_result"
    }
   ],
   "source": [
    "df[\"final_cc_cname_DI\"] == \"United States\""
   ]
  },
  {
   "cell_type": "code",
   "execution_count": null,
   "metadata": {
    "collapsed": false
   },
   "outputs": [],
   "source": [
    "df_US = df[df[\"final_cc_cname_DI\"] == \"United States\"]\n",
    "\n",
    "df_US"
   ]
  },
  {
   "cell_type": "code",
   "execution_count": null,
   "metadata": {
    "collapsed": false
   },
   "outputs": [],
   "source": [
    "df_ger = df[df[\"final_cc_cname_DI\"] == \"Germany\"]\n",
    "\n",
    "df_ger"
   ]
  },
  {
   "cell_type": "markdown",
   "metadata": {},
   "source": [
    "# PYTHON SQL-ish"
   ]
  },
  {
   "cell_type": "code",
   "execution_count": null,
   "metadata": {
    "collapsed": false
   },
   "outputs": [],
   "source": [
    "df[(df[\"final_cc_cname_DI\"]==\"France\") & (df[\"gender\"]==\"m\")]"
   ]
  },
  {
   "cell_type": "code",
   "execution_count": null,
   "metadata": {
    "collapsed": false
   },
   "outputs": [],
   "source": [
    "df[\"nplay_video\"]"
   ]
  },
  {
   "cell_type": "code",
   "execution_count": null,
   "metadata": {
    "collapsed": false
   },
   "outputs": [],
   "source": [
    "df[\"gender\"]"
   ]
  },
  {
   "cell_type": "code",
   "execution_count": null,
   "metadata": {
    "collapsed": false
   },
   "outputs": [],
   "source": [
    "df[\"nplay_video\"].dropna().plot()"
   ]
  },
  {
   "cell_type": "code",
   "execution_count": null,
   "metadata": {
    "collapsed": false
   },
   "outputs": [],
   "source": [
    "df[df[\"nplay_video\"]>80000]"
   ]
  },
  {
   "cell_type": "code",
   "execution_count": null,
   "metadata": {
    "collapsed": false
   },
   "outputs": [],
   "source": [
    "country = df[\"final_cc_cname_DI\"].value_counts()\n",
    "country"
   ]
  },
  {
   "cell_type": "code",
   "execution_count": null,
   "metadata": {
    "collapsed": false
   },
   "outputs": [],
   "source": [
    "country.describe()"
   ]
  },
  {
   "cell_type": "code",
   "execution_count": null,
   "metadata": {
    "collapsed": false
   },
   "outputs": [],
   "source": [
    "country[:15].plot(kind=\"bar\")"
   ]
  },
  {
   "cell_type": "code",
   "execution_count": null,
   "metadata": {
    "collapsed": false
   },
   "outputs": [],
   "source": [
    "df[\"nplay_video\"].max()"
   ]
  },
  {
   "cell_type": "markdown",
   "metadata": {},
   "source": [
    "# GROUPBY !!"
   ]
  },
  {
   "cell_type": "code",
   "execution_count": null,
   "metadata": {
    "collapsed": false
   },
   "outputs": [],
   "source": [
    "df.groupby(by=\"final_cc_cname_DI\").mean()"
   ]
  },
  {
   "cell_type": "code",
   "execution_count": null,
   "metadata": {
    "collapsed": false
   },
   "outputs": [],
   "source": [
    "df.groupby(by=\"final_cc_cname_DI\").max()"
   ]
  },
  {
   "cell_type": "code",
   "execution_count": null,
   "metadata": {
    "collapsed": false
   },
   "outputs": [],
   "source": [
    "df.groupby(by=\"final_cc_cname_DI\")[\"nplay_video\"].max()"
   ]
  },
  {
   "cell_type": "code",
   "execution_count": null,
   "metadata": {
    "collapsed": false
   },
   "outputs": [],
   "source": [
    "df.groupby(by=\"final_cc_cname_DI\")[\"nplay_video\", \"certified\"].mean()"
   ]
  },
  {
   "cell_type": "code",
   "execution_count": null,
   "metadata": {
    "collapsed": false
   },
   "outputs": [],
   "source": [
    "gender = df.groupby(by=[\"final_cc_cname_DI\", \"gender\"]).mean()"
   ]
  },
  {
   "cell_type": "code",
   "execution_count": null,
   "metadata": {
    "collapsed": false
   },
   "outputs": [],
   "source": [
    "gender.plot(kind=\"bar\")"
   ]
  },
  {
   "cell_type": "markdown",
   "metadata": {},
   "source": [
    "# MATH is FUN"
   ]
  },
  {
   "cell_type": "code",
   "execution_count": null,
   "metadata": {
    "collapsed": true
   },
   "outputs": [],
   "source": [
    "toy_df = pd.DataFrame({\"a\": [10,20,30], \"b\": [15,25,35]})"
   ]
  },
  {
   "cell_type": "code",
   "execution_count": null,
   "metadata": {
    "collapsed": false
   },
   "outputs": [],
   "source": [
    "toy_df"
   ]
  },
  {
   "cell_type": "code",
   "execution_count": null,
   "metadata": {
    "collapsed": false
   },
   "outputs": [],
   "source": [
    "toy_df*10"
   ]
  },
  {
   "cell_type": "code",
   "execution_count": null,
   "metadata": {
    "collapsed": false
   },
   "outputs": [],
   "source": [
    "toy_df.max()"
   ]
  },
  {
   "cell_type": "code",
   "execution_count": null,
   "metadata": {
    "collapsed": false
   },
   "outputs": [],
   "source": [
    "toy_df.max(axis=1)"
   ]
  },
  {
   "cell_type": "code",
   "execution_count": null,
   "metadata": {
    "collapsed": true
   },
   "outputs": [],
   "source": []
  }
 ],
 "metadata": {
  "kernelspec": {
   "display_name": "Python 2",
   "language": "python",
   "name": "python2"
  },
  "language_info": {
   "codemirror_mode": {
    "name": "ipython",
    "version": 2
   },
   "file_extension": ".py",
   "mimetype": "text/x-python",
   "name": "python",
   "nbconvert_exporter": "python",
   "pygments_lexer": "ipython2",
   "version": "2.7.10"
  }
 },
 "nbformat": 4,
 "nbformat_minor": 0
}
