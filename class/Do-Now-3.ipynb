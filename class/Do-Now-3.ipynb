{
 "cells": [
  {
   "cell_type": "markdown",
   "metadata": {},
   "source": [
    "# Do Now 3\n",
    "## Reviewing: dictionaries, lists, CSVs"
   ]
  },
  {
   "cell_type": "markdown",
   "metadata": {},
   "source": [
    "# 1. Print the 3rd element of a list called dogs"
   ]
  },
  {
   "cell_type": "code",
   "execution_count": 2,
   "metadata": {
    "collapsed": true
   },
   "outputs": [],
   "source": [
    "# print dogs[2]"
   ]
  },
  {
   "cell_type": "markdown",
   "metadata": {},
   "source": [
    "# 2. What is the output of the following code?"
   ]
  },
  {
   "cell_type": "markdown",
   "metadata": {},
   "source": [
    "``\n",
    "numbers = [1, 2, 3, 4]\n",
    "colors = [\"green\", \"blue\"]\n",
    "for color in colors:\n",
    "    for number in numbers:\n",
    "        print number, color\n",
    "``\n",
    "\n",
    "It's a for loop. So Python first loops through numbers 1-4, after that the loop starts again and loops through colors"
   ]
  },
  {
   "cell_type": "code",
   "execution_count": 4,
   "metadata": {
    "collapsed": false
   },
   "outputs": [
    {
     "name": "stdout",
     "output_type": "stream",
     "text": [
      "1 green\n",
      "2 green\n",
      "3 green\n",
      "4 green\n",
      "1 blue\n",
      "2 blue\n",
      "3 blue\n",
      "4 blue\n"
     ]
    }
   ],
   "source": [
    "numbers = [1, 2, 3, 4]\n",
    "colors = [\"green\", \"blue\"]\n",
    "for color in colors:\n",
    "    for number in numbers:\n",
    "        print number, color"
   ]
  },
  {
   "cell_type": "markdown",
   "metadata": {},
   "source": [
    "# 3. What command would you use to get the first 100 lines of data.csv, and save it into a new file named sample.csv?"
   ]
  },
  {
   "cell_type": "markdown",
   "metadata": {},
   "source": [
    "``head -n 100 data.csv > sample.csv ``\n"
   ]
  },
  {
   "cell_type": "markdown",
   "metadata": {},
   "source": [
    "# 4. What is missing from the lines below?"
   ]
  },
  {
   "cell_type": "markdown",
   "metadata": {},
   "source": [
    "``\n",
    "file = open(\"lists.csv\")\n",
    "cars = csv.DictReader(file)\n",
    "``\n"
   ]
  },
  {
   "cell_type": "markdown",
   "metadata": {},
   "source": [
    "``\n",
    "import csv\n",
    "``\n",
    "\n",
    "is missing"
   ]
  },
  {
   "cell_type": "markdown",
   "metadata": {},
   "source": [
    "# 5. Write a for loop to add up all of the years. Save it to a variable called ``total``."
   ]
  },
  {
   "cell_type": "markdown",
   "metadata": {},
   "source": [
    "make | year | color\n",
    "-----|------|------\n",
    "Chevrolet | 2011 | black\n",
    "Honda | 2010 | red\n",
    "Honda | 2013 | black\n",
    "Toyota | 2001 | gold"
   ]
  },
  {
   "cell_type": "markdown",
   "metadata": {},
   "source": [
    "``import list.csv``\n",
    "\n",
    "``file = open(\"lists.csv\")``\n",
    "\n",
    "``cars = csv.DictReader(file)``\n",
    "\n",
    "``total = 0\n",
    "    for car in cars\n",
    "    total = total + cars[\"year\"]\n",
    "    print total\n",
    "``\n"
   ]
  },
  {
   "cell_type": "markdown",
   "metadata": {},
   "source": [
    "# 6. I'd like a new list called ``favorites`` that includes all cars that are black or produced after 2010. Write a for loop to create this list."
   ]
  },
  {
   "cell_type": "code",
   "execution_count": 18,
   "metadata": {
    "collapsed": false
   },
   "outputs": [
    {
     "name": "stdout",
     "output_type": "stream",
     "text": [
      "1\n",
      "0\n",
      "1\n",
      "0\n"
     ]
    }
   ],
   "source": [
    "cars = [{\"make\": \"Chevrolet\", \"year\": 2011, \"color\": \"black\"}, {\"make\": \"Honda\", \"year\": 2010, \"color\": \"red\"}, {\"make\": \"Honda\", \"year\": 2013, \"color\": \"black\"}, {\"make\": \"Toyota\", \"year\": 2001, \"color\": \"gold\"}]\n",
    "\n",
    "favorite = []\n",
    "for car in cars:\n",
    "    favorite = 0\n",
    "    if car[\"color\"] == \"black\" or car[\"year\"] > 2010:\n",
    "        favorite = favorite + 1\n",
    "    print favorite"
   ]
  },
  {
   "cell_type": "code",
   "execution_count": 19,
   "metadata": {
    "collapsed": true
   },
   "outputs": [],
   "source": [
    "# fail - don't know why"
   ]
  }
 ],
 "metadata": {
  "kernelspec": {
   "display_name": "Python 2",
   "language": "python",
   "name": "python2"
  },
  "language_info": {
   "codemirror_mode": {
    "name": "ipython",
    "version": 2
   },
   "file_extension": ".py",
   "mimetype": "text/x-python",
   "name": "python",
   "nbconvert_exporter": "python",
   "pygments_lexer": "ipython2",
   "version": "2.7.8"
  }
 },
 "nbformat": 4,
 "nbformat_minor": 0
}
