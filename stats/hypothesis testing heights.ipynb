{
 "cells": [
  {
   "cell_type": "markdown",
   "metadata": {},
   "source": [
    "# Hypothesis Testing: Height in the US\n",
    "\n",
    "\n",
    "Use Wikipedia (http://en.wikipedia.org/wiki/Human_height) to find the currently assumed population mean height of men or women in the U.S. Decide whether you believe the poplulation mean is greater than, less than or simply not equal to this value. Ask at least 10 men or 10 women their height and test the appropriate hypothesis. \n",
    "\n",
    "According to Wikipedia the average height of female is 162.9 cm.\n",
    "\n",
    "Further I collected data of 10 randomly chosen female US-citizens. \n",
    "\n",
    "    n = 10\n",
    "    sample = {168, 172, 158, 166, 163, 161, 162, 158, 166, 162}\n",
    "\n",
    "\n",
    "We don't know the standard derivation for the original mean. So we should use a t-model to test the hypothesis.\n",
    "\n",
    "Assuming that the data is normally distributed, we can apply a normal model with a mean of 162.9.\n"
   ]
  },
  {
   "cell_type": "markdown",
   "metadata": {},
   "source": [
    "# 1. Sampling"
   ]
  },
  {
   "cell_type": "code",
   "execution_count": 12,
   "metadata": {
    "collapsed": true
   },
   "outputs": [],
   "source": [
    "n = 10\n",
    "sample = [168, 172, 158, 166, 163, 161, 162, 158, 166, 162]"
   ]
  },
  {
   "cell_type": "code",
   "execution_count": 21,
   "metadata": {
    "collapsed": true
   },
   "outputs": [],
   "source": [
    "# Gotta inline matplotlib so it displays in the notebook\n",
    "%matplotlib inline\n",
    "import matplotlib.pyplot as plt\n",
    "import numpy as np\n",
    "from scipy import stats\n",
    "from scipy.stats import ttest_ind\n",
    "\n"
   ]
  },
  {
   "cell_type": "code",
   "execution_count": 14,
   "metadata": {
    "collapsed": false
   },
   "outputs": [
    {
     "name": "stdout",
     "output_type": "stream",
     "text": [
      "163.6\n",
      "4.2\n"
     ]
    }
   ],
   "source": [
    "print np.mean(sample)\n",
    "print np.std(sample)"
   ]
  },
  {
   "cell_type": "markdown",
   "metadata": {},
   "source": [
    "My null hypothesis is H0 = 162.9.\n",
    "My alternative hypothesis is H1 > 162.9.\n",
    "\n",
    "Thus I should examine an upper tail test.  "
   ]
  },
  {
   "cell_type": "code",
   "execution_count": 15,
   "metadata": {
    "collapsed": false
   },
   "outputs": [
    {
     "data": {
      "text/plain": [
       "(array([ 2.,  0.,  3.,  1.,  0.,  2.,  0.,  1.,  0.,  1.]),\n",
       " array([ 158. ,  159.4,  160.8,  162.2,  163.6,  165. ,  166.4,  167.8,\n",
       "         169.2,  170.6,  172. ]),\n",
       " <a list of 10 Patch objects>)"
      ]
     },
     "execution_count": 15,
     "metadata": {},
     "output_type": "execute_result"
    },
    {
     "data": {
      "image/png": "[encoded data removed]",
      "text/plain": [
       "<matplotlib.figure.Figure at 0x107a2fa10>"
      ]
     },
     "metadata": {},
     "output_type": "display_data"
    }
   ],
   "source": [
    "plt.hist(sample)"
   ]
  },
  {
   "cell_type": "markdown",
   "metadata": {},
   "source": [
    "## Resampling with the Central Limit Theorem"
   ]
  },
  {
   "cell_type": "code",
   "execution_count": 16,
   "metadata": {
    "collapsed": true
   },
   "outputs": [],
   "source": [
    "# Generate our new sample\n",
    "mean = np.mean(sample)\n",
    "std_dev = np.std(sample)\n",
    "sample_size = 1000\n",
    "# np.random.normal generates a sample based on a mean and a standard deviation\n",
    "resampling = np.random.normal(mean, std_dev, sample_size)"
   ]
  },
  {
   "cell_type": "code",
   "execution_count": 17,
   "metadata": {
    "collapsed": false
   },
   "outputs": [
    {
     "data": {
      "text/plain": [
       "(array([  10.,   27.,   95.,  195.,  237.,  217.,  131.,   67.,   17.,    4.]),\n",
       " array([ 150.583879  ,  153.3185207 ,  156.05316241,  158.78780412,\n",
       "         161.52244582,  164.25708753,  166.99172924,  169.72637094,\n",
       "         172.46101265,  175.19565436,  177.93029607]),\n",
       " <a list of 10 Patch objects>)"
      ]
     },
     "execution_count": 17,
     "metadata": {},
     "output_type": "execute_result"
    },
    {
     "data": {
      "image/png": "[encoded data removed]",
      "text/plain": [
       "<matplotlib.figure.Figure at 0x107caa950>"
      ]
     },
     "metadata": {},
     "output_type": "display_data"
    }
   ],
   "source": [
    "plt.hist(resampling)"
   ]
  },
  {
   "cell_type": "code",
   "execution_count": 18,
   "metadata": {
    "collapsed": false
   },
   "outputs": [
    {
     "name": "stdout",
     "output_type": "stream",
     "text": [
      "163.577640595\n",
      "4.35823476905\n"
     ]
    }
   ],
   "source": [
    "print np.mean(resampling)\n",
    "print np.std(resampling)"
   ]
  },
  {
   "cell_type": "markdown",
   "metadata": {},
   "source": [
    "# One-sample t-test\n",
    "\n",
    "The one-sample t-test is used when we want to compare a sample mean to a population mean (which we already know)."
   ]
  },
  {
   "cell_type": "code",
   "execution_count": 31,
   "metadata": {
    "collapsed": false
   },
   "outputs": [
    {
     "name": "stdout",
     "output_type": "stream",
     "text": [
      "The t-statistic is 0.500 and the p-value is 0.629.\n"
     ]
    }
   ],
   "source": [
    "sample = [168, 172, 158, 166, 163, 161, 162, 158, 166, 162]\n",
    "\n",
    "one_sample = stats.ttest_1samp(sample, 162.9)\n",
    "print \"The t-statistic is %.3f and the p-value is %.3f.\" % one_sample\n"
   ]
  },
  {
   "cell_type": "markdown",
   "metadata": {},
   "source": [
    "With a p-value that high we cannot reject the null hypothesis. We can conclude that the average height of our sample is not significantly different (p > 0.05) from the average US female height. "
   ]
  },
  {
   "cell_type": "code",
   "execution_count": null,
   "metadata": {
    "collapsed": true
   },
   "outputs": [],
   "source": []
  }
 ],
 "metadata": {
  "kernelspec": {
   "display_name": "Python 2",
   "language": "python",
   "name": "python2"
  },
  "language_info": {
   "codemirror_mode": {
    "name": "ipython",
    "version": 2
   },
   "file_extension": ".py",
   "mimetype": "text/x-python",
   "name": "python",
   "nbconvert_exporter": "python",
   "pygments_lexer": "ipython2",
   "version": "2.7.10"
  }
 },
 "nbformat": 4,
 "nbformat_minor": 0
}
