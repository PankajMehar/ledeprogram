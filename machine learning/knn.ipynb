{
 "cells": [
  {
   "cell_type": "markdown",
   "metadata": {},
   "source": [
    "##Let's work with the wine dataset we worked with before, but slightly modified. This has more instances and different target features"
   ]
  },
  {
   "cell_type": "markdown",
   "metadata": {},
   "source": [
    "####based on http://blog.yhathq.com/posts/classification-using-knn-and-python.html"
   ]
  },
  {
   "cell_type": "code",
   "execution_count": 64,
   "metadata": {
    "collapsed": true
   },
   "outputs": [],
   "source": [
    "import pandas as pd\n",
    "import matplotlib.pyplot as plt\n",
    "%matplotlib inline\n",
    "from sklearn.neighbors import KNeighborsClassifier\n",
    "from sklearn import cross_validation\n",
    "import numpy as np"
   ]
  },
  {
   "cell_type": "code",
   "execution_count": null,
   "metadata": {
    "collapsed": true
   },
   "outputs": [],
   "source": []
  },
  {
   "cell_type": "code",
   "execution_count": 65,
   "metadata": {
    "collapsed": false
   },
   "outputs": [],
   "source": [
    "df = pd.read_csv(\"data/wine.csv\")"
   ]
  },
  {
   "cell_type": "code",
   "execution_count": 31,
   "metadata": {
    "collapsed": false
   },
   "outputs": [
    {
     "data": {
      "text/plain": [
       "Index([u'fixed_acidity', u'volatile_acidity', u'citric_acid',\n",
       "       u'residual_sugar', u'chlorides', u'free_sulfur_dioxide',\n",
       "       u'total_sulfur_dioxide', u'density', u'pH', u'sulphates', u'alcohol',\n",
       "       u'quality', u'color', u'is_red', u'high_quality'],\n",
       "      dtype='object')"
      ]
     },
     "execution_count": 31,
     "metadata": {},
     "output_type": "execute_result"
    }
   ],
   "source": [
    "df.columns"
   ]
  },
  {
   "cell_type": "markdown",
   "metadata": {},
   "source": [
    "###Instead of wine cultvar, we have the wine color (red or white), as well as a binary (is red) and high quality indicator (0 or 1)"
   ]
  },
  {
   "cell_type": "code",
   "execution_count": 39,
   "metadata": {
    "collapsed": false
   },
   "outputs": [
    {
     "data": {
      "text/plain": [
       "array([ 0.,  1.])"
      ]
     },
     "execution_count": 39,
     "metadata": {},
     "output_type": "execute_result"
    }
   ],
   "source": [
    "df.high_quality.unique()"
   ]
  },
  {
   "cell_type": "markdown",
   "metadata": {},
   "source": [
    "###Let's set up our training and test sets"
   ]
  },
  {
   "cell_type": "code",
   "execution_count": 42,
   "metadata": {
    "collapsed": false
   },
   "outputs": [],
   "source": [
    "train, test = cross_validation.train_test_split(df[['density','sulphates','residual_sugar','high_quality']],train_size=0.75)"
   ]
  },
  {
   "cell_type": "markdown",
   "metadata": {},
   "source": [
    "###We'll use just three columns (dimensions) for classification"
   ]
  },
  {
   "cell_type": "code",
   "execution_count": 43,
   "metadata": {
    "collapsed": false
   },
   "outputs": [
    {
     "data": {
      "text/html": [
       "<div>\n",
       "<table border=\"1\" class=\"dataframe\">\n",
       "  <thead>\n",
       "    <tr style=\"text-align: right;\">\n",
       "      <th></th>\n",
       "      <th>density</th>\n",
       "      <th>sulphates</th>\n",
       "      <th>residual_sugar</th>\n",
       "      <th>high_quality</th>\n",
       "    </tr>\n",
       "  </thead>\n",
       "  <tbody>\n",
       "    <tr>\n",
       "      <th>1556</th>\n",
       "      <td>0.99636</td>\n",
       "      <td>0.56</td>\n",
       "      <td>2.20</td>\n",
       "      <td>0</td>\n",
       "    </tr>\n",
       "    <tr>\n",
       "      <th>6201</th>\n",
       "      <td>0.99752</td>\n",
       "      <td>0.43</td>\n",
       "      <td>13.40</td>\n",
       "      <td>0</td>\n",
       "    </tr>\n",
       "    <tr>\n",
       "      <th>127</th>\n",
       "      <td>0.99640</td>\n",
       "      <td>0.48</td>\n",
       "      <td>1.80</td>\n",
       "      <td>0</td>\n",
       "    </tr>\n",
       "    <tr>\n",
       "      <th>2760</th>\n",
       "      <td>0.99980</td>\n",
       "      <td>0.38</td>\n",
       "      <td>16.85</td>\n",
       "      <td>0</td>\n",
       "    </tr>\n",
       "    <tr>\n",
       "      <th>3463</th>\n",
       "      <td>0.99400</td>\n",
       "      <td>0.61</td>\n",
       "      <td>2.40</td>\n",
       "      <td>0</td>\n",
       "    </tr>\n",
       "    <tr>\n",
       "      <th>5362</th>\n",
       "      <td>0.99084</td>\n",
       "      <td>0.37</td>\n",
       "      <td>2.70</td>\n",
       "      <td>0</td>\n",
       "    </tr>\n",
       "    <tr>\n",
       "      <th>5737</th>\n",
       "      <td>0.98949</td>\n",
       "      <td>0.39</td>\n",
       "      <td>1.50</td>\n",
       "      <td>0</td>\n",
       "    </tr>\n",
       "    <tr>\n",
       "      <th>922</th>\n",
       "      <td>0.99504</td>\n",
       "      <td>0.89</td>\n",
       "      <td>1.80</td>\n",
       "      <td>0</td>\n",
       "    </tr>\n",
       "    <tr>\n",
       "      <th>5456</th>\n",
       "      <td>0.99224</td>\n",
       "      <td>0.55</td>\n",
       "      <td>2.70</td>\n",
       "      <td>0</td>\n",
       "    </tr>\n",
       "    <tr>\n",
       "      <th>4265</th>\n",
       "      <td>0.98892</td>\n",
       "      <td>0.41</td>\n",
       "      <td>2.00</td>\n",
       "      <td>1</td>\n",
       "    </tr>\n",
       "    <tr>\n",
       "      <th>4904</th>\n",
       "      <td>0.98902</td>\n",
       "      <td>0.54</td>\n",
       "      <td>2.00</td>\n",
       "      <td>1</td>\n",
       "    </tr>\n",
       "    <tr>\n",
       "      <th>2096</th>\n",
       "      <td>0.99040</td>\n",
       "      <td>0.54</td>\n",
       "      <td>1.60</td>\n",
       "      <td>0</td>\n",
       "    </tr>\n",
       "    <tr>\n",
       "      <th>1119</th>\n",
       "      <td>0.99256</td>\n",
       "      <td>0.58</td>\n",
       "      <td>2.50</td>\n",
       "      <td>0</td>\n",
       "    </tr>\n",
       "    <tr>\n",
       "      <th>1331</th>\n",
       "      <td>0.99668</td>\n",
       "      <td>0.46</td>\n",
       "      <td>3.80</td>\n",
       "      <td>0</td>\n",
       "    </tr>\n",
       "    <tr>\n",
       "      <th>5641</th>\n",
       "      <td>0.99840</td>\n",
       "      <td>0.43</td>\n",
       "      <td>15.50</td>\n",
       "      <td>1</td>\n",
       "    </tr>\n",
       "    <tr>\n",
       "      <th>3943</th>\n",
       "      <td>0.99509</td>\n",
       "      <td>0.55</td>\n",
       "      <td>7.20</td>\n",
       "      <td>0</td>\n",
       "    </tr>\n",
       "    <tr>\n",
       "      <th>1642</th>\n",
       "      <td>0.99340</td>\n",
       "      <td>0.56</td>\n",
       "      <td>1.40</td>\n",
       "      <td>0</td>\n",
       "    </tr>\n",
       "    <tr>\n",
       "      <th>4295</th>\n",
       "      <td>0.99904</td>\n",
       "      <td>0.49</td>\n",
       "      <td>16.40</td>\n",
       "      <td>0</td>\n",
       "    </tr>\n",
       "    <tr>\n",
       "      <th>4696</th>\n",
       "      <td>0.99104</td>\n",
       "      <td>0.48</td>\n",
       "      <td>1.50</td>\n",
       "      <td>0</td>\n",
       "    </tr>\n",
       "    <tr>\n",
       "      <th>5006</th>\n",
       "      <td>0.99657</td>\n",
       "      <td>0.65</td>\n",
       "      <td>7.80</td>\n",
       "      <td>0</td>\n",
       "    </tr>\n",
       "    <tr>\n",
       "      <th>950</th>\n",
       "      <td>0.99552</td>\n",
       "      <td>0.76</td>\n",
       "      <td>1.80</td>\n",
       "      <td>1</td>\n",
       "    </tr>\n",
       "    <tr>\n",
       "      <th>313</th>\n",
       "      <td>0.99760</td>\n",
       "      <td>0.53</td>\n",
       "      <td>3.00</td>\n",
       "      <td>0</td>\n",
       "    </tr>\n",
       "    <tr>\n",
       "      <th>3011</th>\n",
       "      <td>0.99250</td>\n",
       "      <td>0.79</td>\n",
       "      <td>4.10</td>\n",
       "      <td>1</td>\n",
       "    </tr>\n",
       "    <tr>\n",
       "      <th>157</th>\n",
       "      <td>0.99730</td>\n",
       "      <td>0.71</td>\n",
       "      <td>5.50</td>\n",
       "      <td>0</td>\n",
       "    </tr>\n",
       "    <tr>\n",
       "      <th>3479</th>\n",
       "      <td>0.99910</td>\n",
       "      <td>0.63</td>\n",
       "      <td>14.30</td>\n",
       "      <td>0</td>\n",
       "    </tr>\n",
       "    <tr>\n",
       "      <th>905</th>\n",
       "      <td>0.99800</td>\n",
       "      <td>0.59</td>\n",
       "      <td>3.00</td>\n",
       "      <td>0</td>\n",
       "    </tr>\n",
       "    <tr>\n",
       "      <th>5041</th>\n",
       "      <td>0.99058</td>\n",
       "      <td>0.33</td>\n",
       "      <td>5.00</td>\n",
       "      <td>1</td>\n",
       "    </tr>\n",
       "    <tr>\n",
       "      <th>5173</th>\n",
       "      <td>0.99396</td>\n",
       "      <td>0.52</td>\n",
       "      <td>1.60</td>\n",
       "      <td>0</td>\n",
       "    </tr>\n",
       "    <tr>\n",
       "      <th>3314</th>\n",
       "      <td>0.99120</td>\n",
       "      <td>0.59</td>\n",
       "      <td>1.60</td>\n",
       "      <td>1</td>\n",
       "    </tr>\n",
       "    <tr>\n",
       "      <th>126</th>\n",
       "      <td>0.99640</td>\n",
       "      <td>0.49</td>\n",
       "      <td>1.70</td>\n",
       "      <td>0</td>\n",
       "    </tr>\n",
       "    <tr>\n",
       "      <th>...</th>\n",
       "      <td>...</td>\n",
       "      <td>...</td>\n",
       "      <td>...</td>\n",
       "      <td>...</td>\n",
       "    </tr>\n",
       "    <tr>\n",
       "      <th>4925</th>\n",
       "      <td>0.99204</td>\n",
       "      <td>0.42</td>\n",
       "      <td>1.80</td>\n",
       "      <td>0</td>\n",
       "    </tr>\n",
       "    <tr>\n",
       "      <th>1004</th>\n",
       "      <td>0.99603</td>\n",
       "      <td>0.54</td>\n",
       "      <td>1.60</td>\n",
       "      <td>0</td>\n",
       "    </tr>\n",
       "    <tr>\n",
       "      <th>4418</th>\n",
       "      <td>0.99052</td>\n",
       "      <td>0.42</td>\n",
       "      <td>2.00</td>\n",
       "      <td>0</td>\n",
       "    </tr>\n",
       "    <tr>\n",
       "      <th>5964</th>\n",
       "      <td>0.99561</td>\n",
       "      <td>0.41</td>\n",
       "      <td>10.10</td>\n",
       "      <td>0</td>\n",
       "    </tr>\n",
       "    <tr>\n",
       "      <th>1666</th>\n",
       "      <td>0.99200</td>\n",
       "      <td>0.42</td>\n",
       "      <td>1.20</td>\n",
       "      <td>0</td>\n",
       "    </tr>\n",
       "    <tr>\n",
       "      <th>2636</th>\n",
       "      <td>0.99560</td>\n",
       "      <td>0.56</td>\n",
       "      <td>6.00</td>\n",
       "      <td>0</td>\n",
       "    </tr>\n",
       "    <tr>\n",
       "      <th>2388</th>\n",
       "      <td>0.99815</td>\n",
       "      <td>0.30</td>\n",
       "      <td>10.60</td>\n",
       "      <td>0</td>\n",
       "    </tr>\n",
       "    <tr>\n",
       "      <th>488</th>\n",
       "      <td>1.00020</td>\n",
       "      <td>0.92</td>\n",
       "      <td>2.80</td>\n",
       "      <td>1</td>\n",
       "    </tr>\n",
       "    <tr>\n",
       "      <th>4221</th>\n",
       "      <td>0.99089</td>\n",
       "      <td>0.38</td>\n",
       "      <td>2.90</td>\n",
       "      <td>1</td>\n",
       "    </tr>\n",
       "    <tr>\n",
       "      <th>3265</th>\n",
       "      <td>0.99380</td>\n",
       "      <td>0.43</td>\n",
       "      <td>1.00</td>\n",
       "      <td>0</td>\n",
       "    </tr>\n",
       "    <tr>\n",
       "      <th>6103</th>\n",
       "      <td>0.99430</td>\n",
       "      <td>0.42</td>\n",
       "      <td>8.50</td>\n",
       "      <td>0</td>\n",
       "    </tr>\n",
       "    <tr>\n",
       "      <th>4962</th>\n",
       "      <td>0.98862</td>\n",
       "      <td>0.38</td>\n",
       "      <td>1.10</td>\n",
       "      <td>0</td>\n",
       "    </tr>\n",
       "    <tr>\n",
       "      <th>373</th>\n",
       "      <td>0.99590</td>\n",
       "      <td>0.63</td>\n",
       "      <td>2.20</td>\n",
       "      <td>0</td>\n",
       "    </tr>\n",
       "    <tr>\n",
       "      <th>4378</th>\n",
       "      <td>0.99022</td>\n",
       "      <td>0.45</td>\n",
       "      <td>1.65</td>\n",
       "      <td>0</td>\n",
       "    </tr>\n",
       "    <tr>\n",
       "      <th>5522</th>\n",
       "      <td>0.99249</td>\n",
       "      <td>0.39</td>\n",
       "      <td>0.90</td>\n",
       "      <td>0</td>\n",
       "    </tr>\n",
       "    <tr>\n",
       "      <th>5219</th>\n",
       "      <td>0.99278</td>\n",
       "      <td>0.75</td>\n",
       "      <td>4.70</td>\n",
       "      <td>1</td>\n",
       "    </tr>\n",
       "    <tr>\n",
       "      <th>5430</th>\n",
       "      <td>0.99300</td>\n",
       "      <td>0.44</td>\n",
       "      <td>3.50</td>\n",
       "      <td>0</td>\n",
       "    </tr>\n",
       "    <tr>\n",
       "      <th>601</th>\n",
       "      <td>1.00060</td>\n",
       "      <td>0.56</td>\n",
       "      <td>2.20</td>\n",
       "      <td>0</td>\n",
       "    </tr>\n",
       "    <tr>\n",
       "      <th>649</th>\n",
       "      <td>0.99480</td>\n",
       "      <td>0.57</td>\n",
       "      <td>8.60</td>\n",
       "      <td>0</td>\n",
       "    </tr>\n",
       "    <tr>\n",
       "      <th>5813</th>\n",
       "      <td>0.99718</td>\n",
       "      <td>0.50</td>\n",
       "      <td>12.10</td>\n",
       "      <td>0</td>\n",
       "    </tr>\n",
       "    <tr>\n",
       "      <th>5751</th>\n",
       "      <td>0.99767</td>\n",
       "      <td>0.53</td>\n",
       "      <td>15.00</td>\n",
       "      <td>0</td>\n",
       "    </tr>\n",
       "    <tr>\n",
       "      <th>883</th>\n",
       "      <td>0.99745</td>\n",
       "      <td>0.55</td>\n",
       "      <td>2.50</td>\n",
       "      <td>0</td>\n",
       "    </tr>\n",
       "    <tr>\n",
       "      <th>3449</th>\n",
       "      <td>0.99250</td>\n",
       "      <td>0.42</td>\n",
       "      <td>1.60</td>\n",
       "      <td>1</td>\n",
       "    </tr>\n",
       "    <tr>\n",
       "      <th>4529</th>\n",
       "      <td>0.99010</td>\n",
       "      <td>0.95</td>\n",
       "      <td>1.30</td>\n",
       "      <td>1</td>\n",
       "    </tr>\n",
       "    <tr>\n",
       "      <th>2901</th>\n",
       "      <td>0.99580</td>\n",
       "      <td>0.33</td>\n",
       "      <td>6.40</td>\n",
       "      <td>0</td>\n",
       "    </tr>\n",
       "    <tr>\n",
       "      <th>4718</th>\n",
       "      <td>0.98970</td>\n",
       "      <td>0.31</td>\n",
       "      <td>0.80</td>\n",
       "      <td>0</td>\n",
       "    </tr>\n",
       "    <tr>\n",
       "      <th>1743</th>\n",
       "      <td>0.99210</td>\n",
       "      <td>0.54</td>\n",
       "      <td>2.00</td>\n",
       "      <td>0</td>\n",
       "    </tr>\n",
       "    <tr>\n",
       "      <th>6306</th>\n",
       "      <td>0.99564</td>\n",
       "      <td>0.38</td>\n",
       "      <td>12.55</td>\n",
       "      <td>0</td>\n",
       "    </tr>\n",
       "    <tr>\n",
       "      <th>5348</th>\n",
       "      <td>0.99374</td>\n",
       "      <td>0.59</td>\n",
       "      <td>6.80</td>\n",
       "      <td>0</td>\n",
       "    </tr>\n",
       "    <tr>\n",
       "      <th>6249</th>\n",
       "      <td>0.99432</td>\n",
       "      <td>0.44</td>\n",
       "      <td>6.80</td>\n",
       "      <td>0</td>\n",
       "    </tr>\n",
       "  </tbody>\n",
       "</table>\n",
       "<p>4872 rows × 4 columns</p>\n",
       "</div>"
      ],
      "text/plain": [
       "      density  sulphates  residual_sugar  high_quality\n",
       "1556  0.99636       0.56            2.20             0\n",
       "6201  0.99752       0.43           13.40             0\n",
       "127   0.99640       0.48            1.80             0\n",
       "2760  0.99980       0.38           16.85             0\n",
       "3463  0.99400       0.61            2.40             0\n",
       "5362  0.99084       0.37            2.70             0\n",
       "5737  0.98949       0.39            1.50             0\n",
       "922   0.99504       0.89            1.80             0\n",
       "5456  0.99224       0.55            2.70             0\n",
       "4265  0.98892       0.41            2.00             1\n",
       "4904  0.98902       0.54            2.00             1\n",
       "2096  0.99040       0.54            1.60             0\n",
       "1119  0.99256       0.58            2.50             0\n",
       "1331  0.99668       0.46            3.80             0\n",
       "5641  0.99840       0.43           15.50             1\n",
       "3943  0.99509       0.55            7.20             0\n",
       "1642  0.99340       0.56            1.40             0\n",
       "4295  0.99904       0.49           16.40             0\n",
       "4696  0.99104       0.48            1.50             0\n",
       "5006  0.99657       0.65            7.80             0\n",
       "950   0.99552       0.76            1.80             1\n",
       "313   0.99760       0.53            3.00             0\n",
       "3011  0.99250       0.79            4.10             1\n",
       "157   0.99730       0.71            5.50             0\n",
       "3479  0.99910       0.63           14.30             0\n",
       "905   0.99800       0.59            3.00             0\n",
       "5041  0.99058       0.33            5.00             1\n",
       "5173  0.99396       0.52            1.60             0\n",
       "3314  0.99120       0.59            1.60             1\n",
       "126   0.99640       0.49            1.70             0\n",
       "...       ...        ...             ...           ...\n",
       "4925  0.99204       0.42            1.80             0\n",
       "1004  0.99603       0.54            1.60             0\n",
       "4418  0.99052       0.42            2.00             0\n",
       "5964  0.99561       0.41           10.10             0\n",
       "1666  0.99200       0.42            1.20             0\n",
       "2636  0.99560       0.56            6.00             0\n",
       "2388  0.99815       0.30           10.60             0\n",
       "488   1.00020       0.92            2.80             1\n",
       "4221  0.99089       0.38            2.90             1\n",
       "3265  0.99380       0.43            1.00             0\n",
       "6103  0.99430       0.42            8.50             0\n",
       "4962  0.98862       0.38            1.10             0\n",
       "373   0.99590       0.63            2.20             0\n",
       "4378  0.99022       0.45            1.65             0\n",
       "5522  0.99249       0.39            0.90             0\n",
       "5219  0.99278       0.75            4.70             1\n",
       "5430  0.99300       0.44            3.50             0\n",
       "601   1.00060       0.56            2.20             0\n",
       "649   0.99480       0.57            8.60             0\n",
       "5813  0.99718       0.50           12.10             0\n",
       "5751  0.99767       0.53           15.00             0\n",
       "883   0.99745       0.55            2.50             0\n",
       "3449  0.99250       0.42            1.60             1\n",
       "4529  0.99010       0.95            1.30             1\n",
       "2901  0.99580       0.33            6.40             0\n",
       "4718  0.98970       0.31            0.80             0\n",
       "1743  0.99210       0.54            2.00             0\n",
       "6306  0.99564       0.38           12.55             0\n",
       "5348  0.99374       0.59            6.80             0\n",
       "6249  0.99432       0.44            6.80             0\n",
       "\n",
       "[4872 rows x 4 columns]"
      ]
     },
     "execution_count": 43,
     "metadata": {},
     "output_type": "execute_result"
    }
   ],
   "source": [
    "train"
   ]
  },
  {
   "cell_type": "code",
   "execution_count": 44,
   "metadata": {
    "collapsed": false
   },
   "outputs": [
    {
     "data": {
      "text/plain": [
       "array([[  0.99636,   0.56   ,   2.2    ,   0.     ],\n",
       "       [  0.99752,   0.43   ,  13.4    ,   0.     ],\n",
       "       [  0.9964 ,   0.48   ,   1.8    ,   0.     ],\n",
       "       ..., \n",
       "       [  0.99564,   0.38   ,  12.55   ,   0.     ],\n",
       "       [  0.99374,   0.59   ,   6.8    ,   0.     ],\n",
       "       [  0.99432,   0.44   ,   6.8    ,   0.     ]])"
      ]
     },
     "execution_count": 44,
     "metadata": {},
     "output_type": "execute_result"
    }
   ],
   "source": [
    "train = np.asarray(train)\n",
    "train"
   ]
  },
  {
   "cell_type": "code",
   "execution_count": 45,
   "metadata": {
    "collapsed": false
   },
   "outputs": [
    {
     "data": {
      "text/plain": [
       "array([[  1.0002 ,   0.38   ,  20.4    ,   0.     ],\n",
       "       [  0.9986 ,   0.35   ,  15.55   ,   0.     ],\n",
       "       [  0.9968 ,   0.51   ,   6.2    ,   0.     ],\n",
       "       ..., \n",
       "       [  0.9941 ,   0.37   ,   7.     ,   1.     ],\n",
       "       [  0.9932 ,   0.75   ,   1.4    ,   0.     ],\n",
       "       [  0.99168,   0.43   ,   4.9    ,   0.     ]])"
      ]
     },
     "execution_count": 45,
     "metadata": {},
     "output_type": "execute_result"
    }
   ],
   "source": [
    "test = np.asarray(test) \n",
    "test"
   ]
  },
  {
   "cell_type": "code",
   "execution_count": 53,
   "metadata": {
    "collapsed": false
   },
   "outputs": [],
   "source": [
    "x_train = train[:,:3]\n",
    "y_train = train[:,3]"
   ]
  },
  {
   "cell_type": "code",
   "execution_count": 54,
   "metadata": {
    "collapsed": false
   },
   "outputs": [],
   "source": [
    "x_test = test[:,:3]\n",
    "y_test = test[:,3]"
   ]
  },
  {
   "cell_type": "markdown",
   "metadata": {},
   "source": [
    "###Let's start with a k of 1 to predict high quality"
   ]
  },
  {
   "cell_type": "code",
   "execution_count": 55,
   "metadata": {
    "collapsed": false
   },
   "outputs": [],
   "source": [
    "clf = KNeighborsClassifier(n_neighbors=1)"
   ]
  },
  {
   "cell_type": "code",
   "execution_count": 57,
   "metadata": {
    "collapsed": false
   },
   "outputs": [
    {
     "data": {
      "text/plain": [
       "KNeighborsClassifier(algorithm='auto', leaf_size=30, metric='minkowski',\n",
       "           metric_params=None, n_neighbors=1, p=2, weights='uniform')"
      ]
     },
     "execution_count": 57,
     "metadata": {},
     "output_type": "execute_result"
    }
   ],
   "source": [
    "clf.fit(x_train,y_train)"
   ]
  },
  {
   "cell_type": "code",
   "execution_count": 58,
   "metadata": {
    "collapsed": false
   },
   "outputs": [],
   "source": [
    "preds = clf.predict(x_test)"
   ]
  },
  {
   "cell_type": "code",
   "execution_count": 59,
   "metadata": {
    "collapsed": true
   },
   "outputs": [],
   "source": [
    "accuracy = np.where(preds==y_test, 1, 0).sum() / float(len(test))"
   ]
  },
  {
   "cell_type": "code",
   "execution_count": 60,
   "metadata": {
    "collapsed": false
   },
   "outputs": [
    {
     "name": "stdout",
     "output_type": "stream",
     "text": [
      "Accuracy: 0.806154\n"
     ]
    }
   ],
   "source": [
    "print \"Accuracy: %3f\" % (accuracy,)"
   ]
  },
  {
   "cell_type": "markdown",
   "metadata": {},
   "source": [
    "###Not bad. Let's see what happens as the k changes"
   ]
  },
  {
   "cell_type": "code",
   "execution_count": 62,
   "metadata": {
    "collapsed": false
   },
   "outputs": [
    {
     "name": "stdout",
     "output_type": "stream",
     "text": [
      "Neighbors: 1, Accuracy: 0.806154\n",
      "Neighbors: 3, Accuracy: 0.778462\n",
      "Neighbors: 5, Accuracy: 0.776615\n",
      "Neighbors: 7, Accuracy: 0.781538\n",
      "Neighbors: 9, Accuracy: 0.789538\n",
      "Neighbors: 11, Accuracy: 0.785231\n",
      "Neighbors: 13, Accuracy: 0.793846\n",
      "Neighbors: 15, Accuracy: 0.791385\n",
      "Neighbors: 17, Accuracy: 0.790154\n",
      "Neighbors: 19, Accuracy: 0.791385\n",
      "Neighbors: 21, Accuracy: 0.787077\n",
      "Neighbors: 23, Accuracy: 0.785846\n",
      "Neighbors: 25, Accuracy: 0.787692\n",
      "Neighbors: 27, Accuracy: 0.788923\n",
      "Neighbors: 29, Accuracy: 0.789538\n",
      "Neighbors: 31, Accuracy: 0.789538\n",
      "Neighbors: 33, Accuracy: 0.785846\n",
      "Neighbors: 35, Accuracy: 0.787077\n",
      "Neighbors: 37, Accuracy: 0.790154\n",
      "Neighbors: 39, Accuracy: 0.790769\n",
      "Neighbors: 41, Accuracy: 0.788923\n",
      "Neighbors: 43, Accuracy: 0.789538\n",
      "Neighbors: 45, Accuracy: 0.789538\n",
      "Neighbors: 47, Accuracy: 0.792000\n",
      "Neighbors: 49, Accuracy: 0.792000\n"
     ]
    },
    {
     "data": {
      "image/png": "[encoded data removed]",
      "text/plain": [
       "<matplotlib.figure.Figure at 0x108f17b10>"
      ]
     },
     "metadata": {},
     "output_type": "display_data"
    }
   ],
   "source": [
    "results = []\n",
    "for k in range(1, 51, 2):\n",
    "    clf = KNeighborsClassifier(n_neighbors=k)\n",
    "    clf.fit(x_train,y_train)\n",
    "    preds = clf.predict(x_test)\n",
    "    accuracy = np.where(preds==y_test, 1, 0).sum() / float(len(test))\n",
    "    print \"Neighbors: %d, Accuracy: %3f\" % (k, accuracy)\n",
    "\n",
    "    results.append([k, accuracy])\n",
    "\n",
    "results = pd.DataFrame(results, columns=[\"k\", \"accuracy\"])\n",
    "\n",
    "plt.plot(results.k, results.accuracy)\n",
    "plt.title(\"Accuracy with Increasing K\")\n",
    "plt.show()"
   ]
  },
  {
   "cell_type": "markdown",
   "metadata": {},
   "source": [
    "###Looks like about 80% is the best we can do. The way it plateaus, suggests there's not much more to be gained by increasing k"
   ]
  },
  {
   "cell_type": "markdown",
   "metadata": {},
   "source": [
    "###We can also tune this a bit by not weighting each instance the same, but decreasing the weight as the distance increases"
   ]
  },
  {
   "cell_type": "code",
   "execution_count": 63,
   "metadata": {
    "collapsed": false
   },
   "outputs": [
    {
     "name": "stdout",
     "output_type": "stream",
     "text": [
      "Neighbors: 1, Accuracy: 0.806154\n",
      "Neighbors: 3, Accuracy: 0.807385\n",
      "Neighbors: 5, Accuracy: 0.816615\n",
      "Neighbors: 7, Accuracy: 0.827077\n",
      "Neighbors: 9, Accuracy: 0.828923\n",
      "Neighbors: 11, Accuracy: 0.827077\n",
      "Neighbors: 13, Accuracy: 0.832615\n",
      "Neighbors: 15, Accuracy: 0.830769\n",
      "Neighbors: 17, Accuracy: 0.832000\n",
      "Neighbors: 19, Accuracy: 0.833231\n",
      "Neighbors: 21, Accuracy: 0.836923\n",
      "Neighbors: 23, Accuracy: 0.835692\n",
      "Neighbors: 25, Accuracy: 0.836308\n",
      "Neighbors: 27, Accuracy: 0.838154\n",
      "Neighbors: 29, Accuracy: 0.840615\n",
      "Neighbors: 31, Accuracy: 0.838769\n",
      "Neighbors: 33, Accuracy: 0.838154\n",
      "Neighbors: 35, Accuracy: 0.838769\n",
      "Neighbors: 37, Accuracy: 0.838769\n",
      "Neighbors: 39, Accuracy: 0.839385\n",
      "Neighbors: 41, Accuracy: 0.839385\n",
      "Neighbors: 43, Accuracy: 0.838769\n",
      "Neighbors: 45, Accuracy: 0.839385\n",
      "Neighbors: 47, Accuracy: 0.838769\n",
      "Neighbors: 49, Accuracy: 0.840615\n"
     ]
    },
    {
     "data": {
      "image/png": "[encoded data removed]",
      "text/plain": [
       "<matplotlib.figure.Figure at 0x102a1d490>"
      ]
     },
     "metadata": {},
     "output_type": "display_data"
    }
   ],
   "source": [
    "results = []\n",
    "for k in range(1, 51, 2):\n",
    "    clf = KNeighborsClassifier(n_neighbors=k,weights='distance')\n",
    "    clf.fit(x_train,y_train)\n",
    "    preds = clf.predict(x_test)\n",
    "    accuracy = np.where(preds==y_test, 1, 0).sum() / float(len(test))\n",
    "    print \"Neighbors: %d, Accuracy: %3f\" % (k, accuracy)\n",
    "\n",
    "    results.append([k, accuracy])\n",
    "\n",
    "results = pd.DataFrame(results, columns=[\"k\", \"accuracy\"])\n",
    "\n",
    "plt.plot(results.k, results.accuracy)\n",
    "plt.title(\"Accuracy with Increasing K\")\n",
    "plt.show()"
   ]
  },
  {
   "cell_type": "markdown",
   "metadata": {},
   "source": [
    "###This actually increases the accuracy of our prediction"
   ]
  },
  {
   "cell_type": "code",
   "execution_count": null,
   "metadata": {
    "collapsed": true
   },
   "outputs": [],
   "source": []
  }
 ],
 "metadata": {
  "kernelspec": {
   "display_name": "Python 2",
   "language": "python",
   "name": "python2"
  },
  "language_info": {
   "codemirror_mode": {
    "name": "ipython",
    "version": 2
   },
   "file_extension": ".py",
   "mimetype": "text/x-python",
   "name": "python",
   "nbconvert_exporter": "python",
   "pygments_lexer": "ipython2",
   "version": "2.7.10"
  }
 },
 "nbformat": 4,
 "nbformat_minor": 0
}
