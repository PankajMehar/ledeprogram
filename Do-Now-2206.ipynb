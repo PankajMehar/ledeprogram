{
 "cells": [
  {
   "cell_type": "markdown",
   "metadata": {},
   "source": [
    "# Do Now 7\n",
    "## June 22, 2015\n",
    "## Reviewing functions\n"
   ]
  },
  {
   "cell_type": "markdown",
   "metadata": {},
   "source": [
    "# 1. The code below tells you how fast you're driving. I figure that a lot of people are more familiar with kilometers an hour, though, so let's write a function that does the conversion.\n",
    "\n",
    "I wrote a skeleton, now you can fill in the conversion.\n",
    "\n",
    "`def to_kmh(speeed):\n",
    "    \"YOUR CODE HERE\"`\n",
    "\n",
    "`mph = 40`\n",
    "\n",
    "`print \"You are driving\", mph, \"in mph\"`\n",
    "\n",
    "`print \"Driving\", to_kmh(mph), \"in kmh\"`\n"
   ]
  },
  {
   "cell_type": "code",
   "execution_count": 13,
   "metadata": {
    "collapsed": false
   },
   "outputs": [
    {
     "name": "stdout",
     "output_type": "stream",
     "text": [
      "You are driving 40 in mph\n",
      "Driving 64 in kmh\n"
     ]
    }
   ],
   "source": [
    "mph = 40\n",
    "\n",
    "def to_kmh(speed):\n",
    "     return int(speed * 1.60934)\n",
    "\n",
    "print \"You are driving\", mph, \"in mph\"\n",
    "print \"Driving\", to_kmh(mph), \"in kmh\"\n",
    "    "
   ]
  },
  {
   "cell_type": "markdown",
   "metadata": {},
   "source": [
    "# 1b. Write a function called to_mpm that, when given miles per hour, computes the meters per minute."
   ]
  },
  {
   "cell_type": "code",
   "execution_count": 6,
   "metadata": {
    "collapsed": false
   },
   "outputs": [
    {
     "name": "stdout",
     "output_type": "stream",
     "text": [
      "One mile are 26.8224 meter per minutes.\n"
     ]
    }
   ],
   "source": [
    "def to_mpm(speed):\n",
    "    mpm = speed * 1609.344\n",
    "    return mpm\n",
    "\n",
    "print \"One mile are\", to_mpm(mile), \"meter per minutes.\""
   ]
  },
  {
   "cell_type": "markdown",
   "metadata": {},
   "source": [
    "# 1c. Rewrite to_mpm to use the to_kmh function. D.R.Y.!"
   ]
  },
  {
   "cell_type": "code",
   "execution_count": 11,
   "metadata": {
    "collapsed": false
   },
   "outputs": [
    {
     "ename": "SyntaxError",
     "evalue": "unexpected EOF while parsing (<ipython-input-11-2821d3ed1297>, line 1)",
     "output_type": "error",
     "traceback": [
      "\u001b[0;36m  File \u001b[0;32m\"<ipython-input-11-2821d3ed1297>\"\u001b[0;36m, line \u001b[0;32m1\u001b[0m\n\u001b[0;31m    print to_kmh((to_mpm(mile))\u001b[0m\n\u001b[0m                               ^\u001b[0m\n\u001b[0;31mSyntaxError\u001b[0m\u001b[0;31m:\u001b[0m unexpected EOF while parsing\n"
     ]
    }
   ],
   "source": [
    "def to_mpm2(speed):\n",
    "    "
   ]
  },
  {
   "cell_type": "markdown",
   "metadata": {},
   "source": [
    "# 2. The code below won't work. Why not?\n",
    "\n",
    "    def total(n):\n",
    "    return n * 10\n",
    "\n",
    "    Here are the streets\n",
    "    streets = ['10th Ave', '11th Street', '45th Ave']\n",
    "\n",
    "    Let's count them up\n",
    "    total = len(streets)\n",
    "\n",
    "    And add one\n",
    "    count = total + 1\n",
    "\n",
    "    And see how many cars we have to wash\n",
    "    print total(count)\n"
   ]
  },
  {
   "cell_type": "code",
   "execution_count": 10,
   "metadata": {
    "collapsed": false
   },
   "outputs": [
    {
     "name": "stdout",
     "output_type": "stream",
     "text": [
      "40\n"
     ]
    }
   ],
   "source": [
    "def total(n):\n",
    "    return n*10\n",
    "\n",
    "streets = ['10th Ave', '11th Street', '45th Ave']\n",
    "all = len(streets) # instead of \"total\" we call it \"all\" \n",
    "\n",
    "count = all + 1\n",
    "\n",
    "print total(count)"
   ]
  },
  {
   "cell_type": "markdown",
   "metadata": {},
   "source": [
    "# Earthquakes\n",
    "\n",
    "## Date Times"
   ]
  },
  {
   "cell_type": "code",
   "execution_count": 14,
   "metadata": {
    "collapsed": true
   },
   "outputs": [],
   "source": [
    "earthquake = {\n",
    " 'rms': '1.85', \n",
    " 'updated': '2014-06-11T05:22:21.596Z', \n",
    " 'type': 'earthquake', \n",
    " 'magType': 'mwp', \n",
    " 'longitude': '-136.6561', \n",
    " 'gap': '48', \n",
    " 'depth': '10', \n",
    " 'dmin': '0.811', \n",
    " 'mag': '5.7', \n",
    " 'time': '2014-06-04T11:58:58.200Z', \n",
    " 'latitude': '59.0001', \n",
    " 'place': '73km WSW of Haines, Alaska', \n",
    " 'net': 'us', \n",
    " 'nst': '', \n",
    " 'id': 'usc000rauc'}"
   ]
  },
  {
   "cell_type": "code",
   "execution_count": 16,
   "metadata": {
    "collapsed": false
   },
   "outputs": [],
   "source": [
    "# We want a new function to convert the date\n",
    "\n",
    "# UTC\n",
    "# ISO 8601\n",
    "\n",
    "import datetime\n",
    "\n",
    "happened_at = '2014-06-04T11:58:58.200Z'"
   ]
  },
  {
   "cell_type": "code",
   "execution_count": 21,
   "metadata": {
    "collapsed": false
   },
   "outputs": [
    {
     "data": {
      "text/plain": [
       "datetime.datetime(2015, 6, 22, 12, 19, 18, 459534)"
      ]
     },
     "execution_count": 21,
     "metadata": {},
     "output_type": "execute_result"
    }
   ],
   "source": [
    "current = datetime.datetime.now()\n",
    "current"
   ]
  },
  {
   "cell_type": "code",
   "execution_count": 22,
   "metadata": {
    "collapsed": true
   },
   "outputs": [],
   "source": [
    "# Jun 22\n",
    "# strftime\n",
    "current.strftime?\n"
   ]
  },
  {
   "cell_type": "code",
   "execution_count": 23,
   "metadata": {
    "collapsed": false
   },
   "outputs": [
    {
     "data": {
      "text/plain": [
       "'12:19 PM on Jun 22'"
      ]
     },
     "execution_count": 23,
     "metadata": {},
     "output_type": "execute_result"
    }
   ],
   "source": [
    "current.strftime(\"%I:%M %p on %b %d\")"
   ]
  },
  {
   "cell_type": "code",
   "execution_count": 30,
   "metadata": {
    "collapsed": false
   },
   "outputs": [
    {
     "data": {
      "text/plain": [
       "datetime.datetime(1900, 6, 22, 12, 18)"
      ]
     },
     "execution_count": 30,
     "metadata": {},
     "output_type": "execute_result"
    }
   ],
   "source": [
    "# strftime \n",
    "now_str = \"12:18 PM on Jun 22\"\n",
    "now_date = datetime.datetime.strptime(now_str, \"%I:%M %p on %b %d\")\n",
    "now_date"
   ]
  },
  {
   "cell_type": "code",
   "execution_count": 31,
   "metadata": {
    "collapsed": false
   },
   "outputs": [
    {
     "data": {
      "text/plain": [
       "datetime.datetime(2015, 6, 22, 12, 18)"
      ]
     },
     "execution_count": 31,
     "metadata": {},
     "output_type": "execute_result"
    }
   ],
   "source": [
    "# Manually set the year\n",
    "now_date.replace(year=2015)"
   ]
  },
  {
   "cell_type": "code",
   "execution_count": 32,
   "metadata": {
    "collapsed": false
   },
   "outputs": [
    {
     "data": {
      "text/plain": [
       "'2014-06-04T11:58:58.200Z'"
      ]
     },
     "execution_count": 32,
     "metadata": {},
     "output_type": "execute_result"
    }
   ],
   "source": [
    "happened_at"
   ]
  },
  {
   "cell_type": "code",
   "execution_count": 37,
   "metadata": {
    "collapsed": true
   },
   "outputs": [],
   "source": [
    "import dateutil.parser"
   ]
  },
  {
   "cell_type": "code",
   "execution_count": 38,
   "metadata": {
    "collapsed": false
   },
   "outputs": [
    {
     "data": {
      "text/plain": [
       "datetime.datetime(2014, 6, 4, 11, 58, 58, 200000, tzinfo=tzutc())"
      ]
     },
     "execution_count": 38,
     "metadata": {},
     "output_type": "execute_result"
    }
   ],
   "source": [
    "dateutil.parser.parse(happened_at)"
   ]
  },
  {
   "cell_type": "code",
   "execution_count": null,
   "metadata": {
    "collapsed": true
   },
   "outputs": [],
   "source": []
  }
 ],
 "metadata": {
  "kernelspec": {
   "display_name": "Python 2",
   "language": "python",
   "name": "python2"
  },
  "language_info": {
   "codemirror_mode": {
    "name": "ipython",
    "version": 2
   },
   "file_extension": ".py",
   "mimetype": "text/x-python",
   "name": "python",
   "nbconvert_exporter": "python",
   "pygments_lexer": "ipython2",
   "version": "2.7.10"
  }
 },
 "nbformat": 4,
 "nbformat_minor": 0
}
