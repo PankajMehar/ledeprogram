{
 "cells": [
  {
   "cell_type": "markdown",
   "metadata": {},
   "source": [
    "# Working with the forecast.io-API\n",
    "\n",
    "06/29/15\n",
    "\n",
    "\n",
    "# 1. Make a request from forecast.io for where you were born.\n",
    "\n",
    "http://forecast.io/#/f/49.1763,8.6736"
   ]
  },
  {
   "cell_type": "code",
   "execution_count": 97,
   "metadata": {
    "collapsed": true
   },
   "outputs": [],
   "source": [
    "import urllib2\n",
    "import json"
   ]
  },
  {
   "cell_type": "code",
   "execution_count": 98,
   "metadata": {
    "collapsed": false
   },
   "outputs": [
    {
     "data": {
      "text/plain": [
       "<addinfourl at 4381959376 whose fp = <socket._fileobject object at 0x105263a50>>"
      ]
     },
     "execution_count": 98,
     "metadata": {},
     "output_type": "execute_result"
    }
   ],
   "source": [
    "response = urllib2.urlopen(\"http://forecast.io/#/f/49.1763,8.6736\")\n",
    "response"
   ]
  },
  {
   "cell_type": "code",
   "execution_count": 99,
   "metadata": {
    "collapsed": false
   },
   "outputs": [],
   "source": [
    "url = \"https://api.forecast.io/forecast/649f525f15cee8b52618ad84c0e9bdf7/49.1763,8.6736\""
   ]
  },
  {
   "cell_type": "code",
   "execution_count": 100,
   "metadata": {
    "collapsed": true
   },
   "outputs": [],
   "source": [
    "response = urllib2.urlopen(url)"
   ]
  },
  {
   "cell_type": "code",
   "execution_count": 101,
   "metadata": {
    "collapsed": false
   },
   "outputs": [],
   "source": [
    "contents = response.read()"
   ]
  },
  {
   "cell_type": "code",
   "execution_count": 102,
   "metadata": {
    "collapsed": false
   },
   "outputs": [],
   "source": [
    "data = json.loads(contents)"
   ]
  },
  {
   "cell_type": "markdown",
   "metadata": {},
   "source": [
    "# 2. What's the current wind speed?\n"
   ]
  },
  {
   "cell_type": "code",
   "execution_count": 103,
   "metadata": {
    "collapsed": false
   },
   "outputs": [
    {
     "data": {
      "text/plain": [
       "{u'apparentTemperature': 76.2,\n",
       " u'cloudCover': 0.69,\n",
       " u'dewPoint': 59.87,\n",
       " u'humidity': 0.57,\n",
       " u'icon': u'partly-cloudy-night',\n",
       " u'ozone': 325.88,\n",
       " u'precipIntensity': 0,\n",
       " u'precipProbability': 0,\n",
       " u'pressure': 1020.86,\n",
       " u'summary': u'Mostly Cloudy',\n",
       " u'temperature': 76.2,\n",
       " u'time': 1435606156,\n",
       " u'windBearing': 338,\n",
       " u'windSpeed': 4.86}"
      ]
     },
     "execution_count": 103,
     "metadata": {},
     "output_type": "execute_result"
    }
   ],
   "source": [
    "currently = data[\"currently\"]\n",
    "currently"
   ]
  },
  {
   "cell_type": "code",
   "execution_count": 105,
   "metadata": {
    "collapsed": false
   },
   "outputs": [
    {
     "data": {
      "text/plain": [
       "4.86"
      ]
     },
     "execution_count": 105,
     "metadata": {},
     "output_type": "execute_result"
    }
   ],
   "source": [
    "currently['windSpeed']"
   ]
  },
  {
   "cell_type": "markdown",
   "metadata": {},
   "source": [
    "# 3. The first daily forecast is the forecast for today, and the second is tomorrow, etc. For the place you decided on up above, how much of the moon will be visible tomorrow? What's will be the swing between the high and low temperatures?"
   ]
  },
  {
   "cell_type": "code",
   "execution_count": 106,
   "metadata": {
    "collapsed": true
   },
   "outputs": [],
   "source": [
    "forecasts = data[\"daily\"][\"data\"]"
   ]
  },
  {
   "cell_type": "code",
   "execution_count": 107,
   "metadata": {
    "collapsed": false
   },
   "outputs": [
    {
     "data": {
      "text/plain": [
       "[{u'apparentTemperatureMax': 82.3,\n",
       "  u'apparentTemperatureMaxTime': 1435590000,\n",
       "  u'apparentTemperatureMin': 58.13,\n",
       "  u'apparentTemperatureMinTime': 1435546800,\n",
       "  u'cloudCover': 0.59,\n",
       "  u'dewPoint': 56.94,\n",
       "  u'humidity': 0.64,\n",
       "  u'icon': u'partly-cloudy-day',\n",
       "  u'moonPhase': 0.41,\n",
       "  u'ozone': 332.3,\n",
       "  u'precipIntensity': 0,\n",
       "  u'precipIntensityMax': 0,\n",
       "  u'precipProbability': 0,\n",
       "  u'pressure': 1020.85,\n",
       "  u'summary': u'Mostly cloudy throughout the day.',\n",
       "  u'sunriseTime': 1435548249,\n",
       "  u'sunsetTime': 1435606532,\n",
       "  u'temperatureMax': 82.57,\n",
       "  u'temperatureMaxTime': 1435590000,\n",
       "  u'temperatureMin': 58.13,\n",
       "  u'temperatureMinTime': 1435546800,\n",
       "  u'time': 1435528800,\n",
       "  u'windBearing': 258,\n",
       "  u'windSpeed': 1.03},\n",
       " {u'apparentTemperatureMax': 84.28,\n",
       "  u'apparentTemperatureMaxTime': 1435676400,\n",
       "  u'apparentTemperatureMin': 56.92,\n",
       "  u'apparentTemperatureMinTime': 1435633200,\n",
       "  u'cloudCover': 0.12,\n",
       "  u'dewPoint': 56.5,\n",
       "  u'humidity': 0.6,\n",
       "  u'icon': u'partly-cloudy-day',\n",
       "  u'moonPhase': 0.44,\n",
       "  u'ozone': 325.1,\n",
       "  u'precipIntensity': 0,\n",
       "  u'precipIntensityMax': 0,\n",
       "  u'precipProbability': 0,\n",
       "  u'pressure': 1020.75,\n",
       "  u'summary': u'Partly cloudy in the morning.',\n",
       "  u'sunriseTime': 1435634682,\n",
       "  u'sunsetTime': 1435692922,\n",
       "  u'temperatureMax': 85.04,\n",
       "  u'temperatureMaxTime': 1435676400,\n",
       "  u'temperatureMin': 56.92,\n",
       "  u'temperatureMinTime': 1435633200,\n",
       "  u'time': 1435615200,\n",
       "  u'windBearing': 45,\n",
       "  u'windSpeed': 3.59},\n",
       " {u'apparentTemperatureMax': 89.79,\n",
       "  u'apparentTemperatureMaxTime': 1435762800,\n",
       "  u'apparentTemperatureMin': 61.15,\n",
       "  u'apparentTemperatureMinTime': 1435719600,\n",
       "  u'cloudCover': 0,\n",
       "  u'dewPoint': 60.46,\n",
       "  u'humidity': 0.61,\n",
       "  u'icon': u'clear-day',\n",
       "  u'moonPhase': 0.47,\n",
       "  u'ozone': 321.38,\n",
       "  u'precipIntensity': 0,\n",
       "  u'precipIntensityMax': 0,\n",
       "  u'precipProbability': 0,\n",
       "  u'pressure': 1019.36,\n",
       "  u'summary': u'Clear throughout the day.',\n",
       "  u'sunriseTime': 1435721117,\n",
       "  u'sunsetTime': 1435779309,\n",
       "  u'temperatureMax': 88.99,\n",
       "  u'temperatureMaxTime': 1435762800,\n",
       "  u'temperatureMin': 61.15,\n",
       "  u'temperatureMinTime': 1435719600,\n",
       "  u'time': 1435701600,\n",
       "  u'windBearing': 98,\n",
       "  u'windSpeed': 7.03},\n",
       " {u'apparentTemperatureMax': 95.93,\n",
       "  u'apparentTemperatureMaxTime': 1435849200,\n",
       "  u'apparentTemperatureMin': 64.74,\n",
       "  u'apparentTemperatureMinTime': 1435806000,\n",
       "  u'cloudCover': 0,\n",
       "  u'dewPoint': 63.47,\n",
       "  u'humidity': 0.61,\n",
       "  u'icon': u'clear-day',\n",
       "  u'moonPhase': 0.52,\n",
       "  u'ozone': 314,\n",
       "  u'precipIntensity': 0,\n",
       "  u'precipIntensityMax': 0,\n",
       "  u'precipProbability': 0,\n",
       "  u'pressure': 1021.16,\n",
       "  u'summary': u'Clear throughout the day.',\n",
       "  u'sunriseTime': 1435807554,\n",
       "  u'sunsetTime': 1435865694,\n",
       "  u'temperatureMax': 93.56,\n",
       "  u'temperatureMaxTime': 1435849200,\n",
       "  u'temperatureMin': 64.74,\n",
       "  u'temperatureMinTime': 1435806000,\n",
       "  u'time': 1435788000,\n",
       "  u'windBearing': 100,\n",
       "  u'windSpeed': 6.14},\n",
       " {u'apparentTemperatureMax': 98.52,\n",
       "  u'apparentTemperatureMaxTime': 1435935600,\n",
       "  u'apparentTemperatureMin': 67.95,\n",
       "  u'apparentTemperatureMinTime': 1435892400,\n",
       "  u'cloudCover': 0.02,\n",
       "  u'dewPoint': 65.78,\n",
       "  u'humidity': 0.63,\n",
       "  u'icon': u'clear-day',\n",
       "  u'moonPhase': 0.55,\n",
       "  u'ozone': 308.06,\n",
       "  u'precipIntensity': 0.0008,\n",
       "  u'precipIntensityMax': 0.0013,\n",
       "  u'precipIntensityMaxTime': 1435885200,\n",
       "  u'precipProbability': 0.01,\n",
       "  u'precipType': u'rain',\n",
       "  u'pressure': 1023.37,\n",
       "  u'summary': u'Clear throughout the day.',\n",
       "  u'sunriseTime': 1435893994,\n",
       "  u'sunsetTime': 1435952075,\n",
       "  u'temperatureMax': 94.89,\n",
       "  u'temperatureMaxTime': 1435935600,\n",
       "  u'temperatureMin': 67.95,\n",
       "  u'temperatureMinTime': 1435892400,\n",
       "  u'time': 1435874400,\n",
       "  u'windBearing': 96,\n",
       "  u'windSpeed': 5.28},\n",
       " {u'apparentTemperatureMax': 96.91,\n",
       "  u'apparentTemperatureMaxTime': 1436022000,\n",
       "  u'apparentTemperatureMin': 67.93,\n",
       "  u'apparentTemperatureMinTime': 1435978800,\n",
       "  u'cloudCover': 0,\n",
       "  u'dewPoint': 64.5,\n",
       "  u'humidity': 0.58,\n",
       "  u'icon': u'clear-day',\n",
       "  u'moonPhase': 0.58,\n",
       "  u'ozone': 304.82,\n",
       "  u'precipIntensity': 0,\n",
       "  u'precipIntensityMax': 0,\n",
       "  u'precipProbability': 0,\n",
       "  u'pressure': 1021.48,\n",
       "  u'summary': u'Clear throughout the day.',\n",
       "  u'sunriseTime': 1435980436,\n",
       "  u'sunsetTime': 1436038454,\n",
       "  u'temperatureMax': 96,\n",
       "  u'temperatureMaxTime': 1436022000,\n",
       "  u'temperatureMin': 67.93,\n",
       "  u'temperatureMinTime': 1435978800,\n",
       "  u'time': 1435960800,\n",
       "  u'windBearing': 101,\n",
       "  u'windSpeed': 3.79},\n",
       " {u'apparentTemperatureMax': 96.79,\n",
       "  u'apparentTemperatureMaxTime': 1436104800,\n",
       "  u'apparentTemperatureMin': 69.92,\n",
       "  u'apparentTemperatureMinTime': 1436065200,\n",
       "  u'cloudCover': 0.25,\n",
       "  u'dewPoint': 65.69,\n",
       "  u'humidity': 0.61,\n",
       "  u'icon': u'rain',\n",
       "  u'moonPhase': 0.62,\n",
       "  u'ozone': 301.33,\n",
       "  u'precipIntensity': 0.0035,\n",
       "  u'precipIntensityMax': 0.0292,\n",
       "  u'precipIntensityMaxTime': 1436130000,\n",
       "  u'precipProbability': 0.78,\n",
       "  u'precipType': u'rain',\n",
       "  u'pressure': 1020.48,\n",
       "  u'summary': u'Light rain starting in the evening.',\n",
       "  u'sunriseTime': 1436066880,\n",
       "  u'sunsetTime': 1436124830,\n",
       "  u'temperatureMax': 92.5,\n",
       "  u'temperatureMaxTime': 1436104800,\n",
       "  u'temperatureMin': 69.92,\n",
       "  u'temperatureMinTime': 1436065200,\n",
       "  u'time': 1436047200,\n",
       "  u'windBearing': 283,\n",
       "  u'windSpeed': 2.63},\n",
       " {u'apparentTemperatureMax': 90.4,\n",
       "  u'apparentTemperatureMaxTime': 1436198400,\n",
       "  u'apparentTemperatureMin': 62.89,\n",
       "  u'apparentTemperatureMinTime': 1436151600,\n",
       "  u'cloudCover': 0.15,\n",
       "  u'dewPoint': 64.48,\n",
       "  u'humidity': 0.72,\n",
       "  u'icon': u'partly-cloudy-night',\n",
       "  u'moonPhase': 0.66,\n",
       "  u'ozone': 299.57,\n",
       "  u'precipIntensity': 0.0042,\n",
       "  u'precipIntensityMax': 0.0281,\n",
       "  u'precipIntensityMaxTime': 1436133600,\n",
       "  u'precipProbability': 0.84,\n",
       "  u'precipType': u'rain',\n",
       "  u'pressure': 1020.14,\n",
       "  u'summary': u'Mostly cloudy overnight.',\n",
       "  u'sunriseTime': 1436153326,\n",
       "  u'sunsetTime': 1436211204,\n",
       "  u'temperatureMax': 86.96,\n",
       "  u'temperatureMaxTime': 1436198400,\n",
       "  u'temperatureMin': 62.89,\n",
       "  u'temperatureMinTime': 1436151600,\n",
       "  u'time': 1436133600,\n",
       "  u'windBearing': 19,\n",
       "  u'windSpeed': 3.78}]"
      ]
     },
     "execution_count": 107,
     "metadata": {},
     "output_type": "execute_result"
    }
   ],
   "source": [
    "forecasts"
   ]
  },
  {
   "cell_type": "code",
   "execution_count": 108,
   "metadata": {
    "collapsed": false
   },
   "outputs": [
    {
     "data": {
      "text/plain": [
       "0.44"
      ]
     },
     "execution_count": 108,
     "metadata": {},
     "output_type": "execute_result"
    }
   ],
   "source": [
    "tomorow_moon = [forecast[\"moonPhase\"] for forecast in forecasts][1]\n",
    "tomorow_moon"
   ]
  },
  {
   "cell_type": "code",
   "execution_count": 109,
   "metadata": {
    "collapsed": false
   },
   "outputs": [
    {
     "data": {
      "text/plain": [
       "28.120000000000005"
      ]
     },
     "execution_count": 109,
     "metadata": {},
     "output_type": "execute_result"
    }
   ],
   "source": [
    "temperatures = [forecast[\"temperatureMax\"]-forecast[\"temperatureMin\"] for forecast in forecasts][1]\n",
    "temperatures"
   ]
  },
  {
   "cell_type": "markdown",
   "metadata": {},
   "source": [
    "# What was the temperature in Central Park at noon on Christmas Day, 1980? \n"
   ]
  },
  {
   "cell_type": "markdown",
   "metadata": {},
   "source": [
    "Forecast at a given time\n",
    "\n",
    "    https://api.forecast.io/forecast/APIKEY/LATITUDE,LONGITUDE,TIME\n"
   ]
  },
  {
   "cell_type": "code",
   "execution_count": 110,
   "metadata": {
    "collapsed": false
   },
   "outputs": [
    {
     "data": {
      "text/plain": [
       "<addinfourl at 4381829384 whose fp = <socket._fileobject object at 0x1052d9150>>"
      ]
     },
     "execution_count": 110,
     "metadata": {},
     "output_type": "execute_result"
    }
   ],
   "source": [
    "response = urllib2.urlopen(\"http://forecast.io/#/f/40.7824,-73.9654,346593600\")\n",
    "response"
   ]
  },
  {
   "cell_type": "code",
   "execution_count": 111,
   "metadata": {
    "collapsed": false
   },
   "outputs": [],
   "source": [
    "url = \"https://api.forecast.io/forecast/649f525f15cee8b52618ad84c0e9bdf7/40.7824,-73.9654,346593600\"\n",
    "response = urllib2.urlopen(url)"
   ]
  },
  {
   "cell_type": "code",
   "execution_count": 112,
   "metadata": {
    "collapsed": false
   },
   "outputs": [],
   "source": [
    "contents = response.read()"
   ]
  },
  {
   "cell_type": "code",
   "execution_count": 113,
   "metadata": {
    "collapsed": false
   },
   "outputs": [],
   "source": [
    "data = json.loads(contents)"
   ]
  },
  {
   "cell_type": "code",
   "execution_count": 93,
   "metadata": {
    "collapsed": false
   },
   "outputs": [
    {
     "data": {
      "text/plain": [
       "{u'apparentTemperature': -21.66,\n",
       " u'cloudCover': 0.24,\n",
       " u'dewPoint': -16.27,\n",
       " u'humidity': 0.38,\n",
       " u'icon': u'wind',\n",
       " u'precipIntensity': 0,\n",
       " u'precipProbability': 0,\n",
       " u'pressure': 1021.1,\n",
       " u'summary': u'Windy',\n",
       " u'temperature': 3.43,\n",
       " u'time': 346593600,\n",
       " u'visibility': 10,\n",
       " u'windBearing': 319,\n",
       " u'windSpeed': 31.46}"
      ]
     },
     "execution_count": 93,
     "metadata": {},
     "output_type": "execute_result"
    }
   ],
   "source": [
    "christmasday = data[\"currently\"]\n",
    "christmasday"
   ]
  },
  {
   "cell_type": "code",
   "execution_count": 94,
   "metadata": {
    "collapsed": false
   },
   "outputs": [
    {
     "data": {
      "text/plain": [
       "3.43"
      ]
     },
     "execution_count": 94,
     "metadata": {},
     "output_type": "execute_result"
    }
   ],
   "source": [
    "christmasday[\"temperature\"]"
   ]
  },
  {
   "cell_type": "markdown",
   "metadata": {},
   "source": [
    "# 5. Convert the UNIX timestamp 1435601280 into a datetime using Python."
   ]
  },
  {
   "cell_type": "code",
   "execution_count": 96,
   "metadata": {
    "collapsed": false
   },
   "outputs": [
    {
     "name": "stdout",
     "output_type": "stream",
     "text": [
      "2015-06-29 14:08:00\n"
     ]
    }
   ],
   "source": [
    "import datetime\n",
    "print(\n",
    "    datetime.datetime.fromtimestamp(\n",
    "        int(\"1435601280\")\n",
    "    ).strftime('%Y-%m-%d %H:%M:%S')\n",
    ")"
   ]
  }
 ],
 "metadata": {
  "kernelspec": {
   "display_name": "Python 2",
   "language": "python",
   "name": "python2"
  },
  "language_info": {
   "codemirror_mode": {
    "name": "ipython",
    "version": 2
   },
   "file_extension": ".py",
   "mimetype": "text/x-python",
   "name": "python",
   "nbconvert_exporter": "python",
   "pygments_lexer": "ipython2",
   "version": "2.7.10"
  }
 },
 "nbformat": 4,
 "nbformat_minor": 0
}
