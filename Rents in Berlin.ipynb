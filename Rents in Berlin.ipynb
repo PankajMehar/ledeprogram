{
 "cells": [
  {
   "cell_type": "markdown",
   "metadata": {},
   "source": [
    "#Rents in Berlin\n",
    "\n",
    "The guys of the Berliner Morgenpost made [this nice interactive data viz](http://www.morgenpost.de/interaktiv/mieten/article136875377/So-stark-steigen-die-Mieten-in-Berlins-Kiezen.html?config=interactive). They also published the [data](https://docs.google.com/spreadsheets/d/1x77-onfnmmbSf7xMQf4H-Ak4ushbG-GzKyTd6_8h0nQ/edit?usp=sharing), so we can play with it. Let's do!  \n",
    "\n",
    "offer = units per zip code\n",
    "\n",
    "rent = price in Euro per square meter (Median)\n",
    "\n",
    "size = average size in square meter\n",
    "\n",
    "year = year of data (2009-14)\n",
    "\n",
    "zip = zip code"
   ]
  },
  {
   "cell_type": "code",
   "execution_count": 1,
   "metadata": {
    "collapsed": false
   },
   "outputs": [],
   "source": [
    "# That's the way we import and open a csv file in IPython Notebook\n",
    "\n",
    "import csv\n",
    "file = open(\"/Users/vanessawormer/desktop/lede/berlin-rent.csv\")\n",
    "rents = list(csv.DictReader(file))"
   ]
  },
  {
   "cell_type": "markdown",
   "metadata": {},
   "source": [
    "Unfortunately the integers are defined to be strings (\"\"). I want to do some calculations so I have to convert them into real integers.\n",
    "\n",
    "That's one way I can do this (maybe you know an easier way?):"
   ]
  },
  {
   "cell_type": "code",
   "execution_count": 2,
   "metadata": {
    "collapsed": false
   },
   "outputs": [],
   "source": [
    "# I convert the strings into integers\n",
    "\n",
    "for row in rents:\n",
    "    if row[\"size\"] != \"\":\n",
    "        row[\"size\"] = int(row[\"size\"])\n",
    "    if row[\"year\"] != \"\":\n",
    "        row[\"year\"] = int(row[\"year\"])\n",
    "    if row[\"zip\"] != \"\":\n",
    "        row[\"zip\"] = int(row[\"zip\"])\n",
    "    if row[\"rent\"] != \"\":\n",
    "        row[\"rent\"] = float(row[\"rent\"])\n",
    "    if row[\"offer\"] != \"\":\n",
    "        row[\"offer\"] = int(row[\"offer\"])\n"
   ]
  },
  {
   "cell_type": "code",
   "execution_count": 13,
   "metadata": {
    "collapsed": false
   },
   "outputs": [],
   "source": [
    "# or like this:\n",
    "\n",
    "# rent = [float(rent[\"rent\"]) for rent in rents if rent[\"rent\"] != \"\"]"
   ]
  },
  {
   "cell_type": "markdown",
   "metadata": {},
   "source": [
    "I'm pretty sure that I want to compare the data of each year (2009 - 2014). So I make for each year a new list of dictionaries."
   ]
  },
  {
   "cell_type": "code",
   "execution_count": 3,
   "metadata": {
    "collapsed": false
   },
   "outputs": [],
   "source": [
    "rent2009 = [rent for rent in rents if rent[\"year\"]==2009]\n",
    "rent2010 = [rent for rent in rents if rent[\"year\"]==2010]\n",
    "rent2011 = [rent for rent in rents if rent[\"year\"]==2011]\n",
    "rent2012 = [rent for rent in rents if rent[\"year\"]==2012]\n",
    "rent2013 = [rent for rent in rents if rent[\"year\"]==2013]\n",
    "rent2014 = [rent for rent in rents if rent[\"year\"]==2014]\n",
    "\n",
    "rent2009\n",
    "\n",
    "change = []\n",
    "\n",
    "for r14 in rent2014:\n",
    "    for r13 in rent2013:\n",
    "        if r13[\"zip\"]==r14[\"zip\"]:\n",
    "            if r14[\"rent\"] !=\"\" and r13[\"rent\"] != \"\":\n",
    "                dif = r14[\"rent\"] - r13[\"rent\"]\n",
    "                r14[\"change13-14\"] = dif\n",
    "                change.append(r14)\n",
    "                \n",
    "\n",
    "            "
   ]
  },
  {
   "cell_type": "code",
   "execution_count": 50,
   "metadata": {
    "collapsed": false
   },
   "outputs": [
    {
     "name": "stdout",
     "output_type": "stream",
     "text": [
      "change 187\n",
      "original 2014 190\n"
     ]
    },
    {
     "data": {
      "text/plain": [
       "16"
      ]
     },
     "execution_count": 50,
     "metadata": {},
     "output_type": "execute_result"
    }
   ],
   "source": [
    "print \"change\",len(change)\n",
    "print \"original 2014\",len(rent2014)\n",
    "\n",
    "negatives = []\n",
    "for c in change: \n",
    "    if c[\"change13-14\"] < 0:\n",
    "       negatives.append(c)\n",
    "len(negatives)\n",
    "\n"
   ]
  },
  {
   "cell_type": "markdown",
   "metadata": {},
   "source": [
    "## So, finally I cleaned my dataset and now we can do some fancy calculations! Hooray!"
   ]
  },
  {
   "cell_type": "code",
   "execution_count": 12,
   "metadata": {
    "collapsed": true
   },
   "outputs": [],
   "source": [
    "# Let's import numpy - numpy is a fundamental package for scientific computing with Python\n",
    "\n",
    "import numpy as np"
   ]
  },
  {
   "cell_type": "code",
   "execution_count": 22,
   "metadata": {
    "collapsed": false,
    "scrolled": true
   },
   "outputs": [
    {
     "data": {
      "text/plain": [
       "7.0"
      ]
     },
     "execution_count": 22,
     "metadata": {},
     "output_type": "execute_result"
    }
   ],
   "source": [
    "prices = [float(rent[\"rent\"]) for rent in rents if rent[\"rent\"]!= \"\"]\n",
    "\n",
    "prices\n",
    "np.median(prices)"
   ]
  },
  {
   "cell_type": "code",
   "execution_count": 31,
   "metadata": {
    "collapsed": false
   },
   "outputs": [
    {
     "data": {
      "text/plain": [
       "1.6442571161989961"
      ]
     },
     "execution_count": 31,
     "metadata": {},
     "output_type": "execute_result"
    }
   ],
   "source": [
    "np.std(rent)"
   ]
  },
  {
   "cell_type": "code",
   "execution_count": 16,
   "metadata": {
    "collapsed": false
   },
   "outputs": [
    {
     "data": {
      "text/plain": [
       "7.0"
      ]
     },
     "execution_count": 16,
     "metadata": {},
     "output_type": "execute_result"
    }
   ],
   "source": [
    "np.median(rent)"
   ]
  },
  {
   "cell_type": "code",
   "execution_count": 22,
   "metadata": {
    "collapsed": true
   },
   "outputs": [],
   "source": [
    "# matplotlib\n",
    "%matplotlib inline"
   ]
  },
  {
   "cell_type": "code",
   "execution_count": 23,
   "metadata": {
    "collapsed": false
   },
   "outputs": [],
   "source": [
    "import matplotlib.pyplot as plt"
   ]
  },
  {
   "cell_type": "code",
   "execution_count": 28,
   "metadata": {
    "collapsed": false
   },
   "outputs": [
    {
     "data": {
      "text/plain": [
       "(array([   2.,    0.,    0.,   88.,  343.,  341.,  217.,   87.,   42.,   10.]),\n",
       " array([  0.   ,   1.311,   2.622,   3.933,   5.244,   6.555,   7.866,\n",
       "          9.177,  10.488,  11.799,  13.11 ]),\n",
       " <a list of 10 Patch objects>)"
      ]
     },
     "execution_count": 28,
     "metadata": {},
     "output_type": "execute_result"
    },
    {
     "data": {
      "image/png": "[encoded data removed]",
      "text/plain": [
       "<matplotlib.figure.Figure at 0x1066ee610>"
      ]
     },
     "metadata": {},
     "output_type": "display_data"
    }
   ],
   "source": [
    "plt.hist(rent)"
   ]
  },
  {
   "cell_type": "code",
   "execution_count": 29,
   "metadata": {
    "collapsed": false
   },
   "outputs": [
    {
     "data": {
      "text/plain": [
       "{'boxes': [<matplotlib.lines.Line2D at 0x106bcfe50>],\n",
       " 'caps': [<matplotlib.lines.Line2D at 0x106bdedd0>,\n",
       "  <matplotlib.lines.Line2D at 0x106be9450>],\n",
       " 'fliers': [<matplotlib.lines.Line2D at 0x106bf6110>],\n",
       " 'means': [],\n",
       " 'medians': [<matplotlib.lines.Line2D at 0x106be9a90>],\n",
       " 'whiskers': [<matplotlib.lines.Line2D at 0x106bde0d0>,\n",
       "  <matplotlib.lines.Line2D at 0x106bde790>]}"
      ]
     },
     "execution_count": 29,
     "metadata": {},
     "output_type": "execute_result"
    },
    {
     "data": {
      "image/png": "[encoded data removed]",
      "text/plain": [
       "<matplotlib.figure.Figure at 0x106ae9f90>"
      ]
     },
     "metadata": {},
     "output_type": "display_data"
    }
   ],
   "source": [
    "plt.boxplot(rent)"
   ]
  },
  {
   "cell_type": "code",
   "execution_count": 19,
   "metadata": {
    "collapsed": false
   },
   "outputs": [
    {
     "ename": "TypeError",
     "evalue": "list indices must be integers, not list",
     "output_type": "error",
     "traceback": [
      "\u001b[0;31m---------------------------------------------------------------------------\u001b[0m",
      "\u001b[0;31mTypeError\u001b[0m                                 Traceback (most recent call last)",
      "\u001b[0;32m<ipython-input-19-3b28892c62ee>\u001b[0m in \u001b[0;36m<module>\u001b[0;34m()\u001b[0m\n\u001b[0;32m----> 1\u001b[0;31m \u001b[0mx\u001b[0m \u001b[0;34m=\u001b[0m \u001b[0mrents\u001b[0m\u001b[0;34m[\u001b[0m\u001b[0mrent\u001b[0m\u001b[0;34m]\u001b[0m\u001b[0;34m\u001b[0m\u001b[0m\n\u001b[0m\u001b[1;32m      2\u001b[0m \u001b[0my\u001b[0m \u001b[0;34m=\u001b[0m \u001b[0mrents\u001b[0m\u001b[0;34m[\u001b[0m\u001b[0mzip\u001b[0m\u001b[0;34m]\u001b[0m\u001b[0;34m\u001b[0m\u001b[0m\n\u001b[1;32m      3\u001b[0m \u001b[0mplt\u001b[0m\u001b[0;34m.\u001b[0m\u001b[0mscatter\u001b[0m\u001b[0;34m(\u001b[0m\u001b[0mx\u001b[0m\u001b[0;34m,\u001b[0m\u001b[0my\u001b[0m\u001b[0;34m)\u001b[0m\u001b[0;34m\u001b[0m\u001b[0m\n",
      "\u001b[0;31mTypeError\u001b[0m: list indices must be integers, not list"
     ]
    }
   ],
   "source": [
    "x = rents[rent]\n",
    "y = rents[zip]\n",
    "plt.scatter(x,y)"
   ]
  },
  {
   "cell_type": "code",
   "execution_count": null,
   "metadata": {
    "collapsed": true
   },
   "outputs": [],
   "source": []
  }
 ],
 "metadata": {
  "kernelspec": {
   "display_name": "Python 2",
   "language": "python",
   "name": "python2"
  },
  "language_info": {
   "codemirror_mode": {
    "name": "ipython",
    "version": 2
   },
   "file_extension": ".py",
   "mimetype": "text/x-python",
   "name": "python",
   "nbconvert_exporter": "python",
   "pygments_lexer": "ipython2",
   "version": "2.7.10"
  }
 },
 "nbformat": 4,
 "nbformat_minor": 0
}
