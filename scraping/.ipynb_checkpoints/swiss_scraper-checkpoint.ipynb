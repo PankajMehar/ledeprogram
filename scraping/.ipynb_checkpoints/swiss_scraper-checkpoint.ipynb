{
 "cells": [
  {
   "cell_type": "markdown",
   "metadata": {},
   "source": [
    "# Scraping and storing all pdfs related to \"Eidgenössische Steuerverwaltung\""
   ]
  },
  {
   "cell_type": "code",
   "execution_count": 1,
   "metadata": {
    "collapsed": false
   },
   "outputs": [],
   "source": [
    "import urllib\n",
    "import requests\n",
    "from bs4 import BeautifulSoup\n",
    "from re import compile, sub, match, findall"
   ]
  },
  {
   "cell_type": "code",
   "execution_count": 2,
   "metadata": {
    "collapsed": true
   },
   "outputs": [],
   "source": [
    "url = \"https://www.admin.ch/opc/de/federal-gazette/2015/index_32.html\""
   ]
  },
  {
   "cell_type": "markdown",
   "metadata": {},
   "source": [
    "On this website you can find pdfs of the The Federal Gazette, which is a publication of the Swiss government. The pdfs related to \"Eidgenössische Steuerverwaltung\" and \"Amtshilfe\" contain names of foreign people, which are asked to get in touch immediately with the Swiss government. It is probably a matter of tax fraud.\n"
   ]
  },
  {
   "cell_type": "code",
   "execution_count": null,
   "metadata": {
    "collapsed": false
   },
   "outputs": [],
   "source": [
    "pdflinks = []\n",
    "\n",
    "url = \"https://www.admin.ch/opc/de/federal-gazette/2015/index_32\"\n",
    "page = BeautifulSoup(requests.get(url,headers={\"User-Agent\":\"Mozilla/5.0 (Macintosh; Intel Mac OS X 10.6; rv:5.0)\",\"Referer\":\"http://google.com\"}).text )\n",
    "\n",
    "for year in range(2011,2016):\n",
    "    for week in range(1,53):\n",
    "        url = \"https://www.admin.ch/opc/de/federal-gazette/\"+str(year)+\"/index_\"+str(week)\n",
    "        page = BeautifulSoup(requests.get(url,headers={}).text )\n",
    "\n",
    "        table = page.find(\"table\",\"table table-striped\")\n",
    "        if table:\n",
    "            trs = table.find_all(\"tr\")\n",
    "            for row in trs:\n",
    "                doclink = row.find(\"td\", attrs = {\"class\":\"nowrap\"})\n",
    "                if doclink:\n",
    "                    title = doclink.find_next_sibling(\"td\")\n",
    "                    if title:\n",
    "                        if \"estv\" in title.getText().lower() and \"amtshilfe\" in title.getText().lower():\n",
    "                            link = doclink.find(\"a\")\n",
    "                            filelink = \"http://www.admin.ch\"+urllib.unquote(link.get(\"href\")).replace(\"&amp;\",\"&\")\n",
    "                            filename = link.text\n",
    "                            print filelink\n",
    "\n",
    "                            #urllib.urlretrieve(filelink,\"steuer/\"+filename+\".pdf\") BLOCKED by the Swiss gov\n",
    "\n",
    "                            pdflinks.append(filelink)\n",
    "                            \n",
    "                            time.sleep(15)"
   ]
  },
  {
   "cell_type": "markdown",
   "metadata": {
    "collapsed": true
   },
   "source": [
    "# New try with WGET"
   ]
  },
  {
   "cell_type": "code",
   "execution_count": null,
   "metadata": {
    "collapsed": true
   },
   "outputs": [],
   "source": [
    "# ! brew install wget"
   ]
  },
  {
   "cell_type": "code",
   "execution_count": 12,
   "metadata": {
    "collapsed": false
   },
   "outputs": [
    {
     "name": "stdout",
     "output_type": "stream",
     "text": [
      "--2015-08-22 16:13:15--  https://www.admin.ch/opc/de/federal-gazette/2015/6091.pdf\n",
      "Resolving www.admin.ch... 162.23.128.199\n",
      "Connecting to www.admin.ch|162.23.128.199|:443... connected.\n",
      "HTTP request sent, awaiting response... 200 OK\n",
      "Length: 87914 (86K) [application/pdf]\n",
      "Saving to: 'www.admin.ch/opc/de/federal-gazette/2015/6091.pdf'\n",
      "\n",
      "www.admin.ch/opc/de 100%[=====================>]  85.85K  --.-KB/s   in 0.1s   \n",
      "\n",
      "2015-08-22 16:13:16 (778 KB/s) - 'www.admin.ch/opc/de/federal-gazette/2015/6091.pdf' saved [87914/87914]\n",
      "\n",
      "FINISHED --2015-08-22 16:13:16--\n",
      "Total wall clock time: 1.0s\n",
      "Downloaded: 1 files, 86K in 0.1s (778 KB/s)\n"
     ]
    }
   ],
   "source": [
    "! wget -r -A.pdf https://www.admin.ch/opc/de/federal-gazette/2015/6091.pdf\n",
    "# downloading one pdf works"
   ]
  },
  {
   "cell_type": "code",
   "execution_count": null,
   "metadata": {
    "collapsed": true
   },
   "outputs": [],
   "source": [
    "for pdflink in pdflinks:\n",
    "    !wget -nc --random-wait -P steuer {pdflink}"
   ]
  },
  {
   "cell_type": "code",
   "execution_count": null,
   "metadata": {
    "collapsed": true
   },
   "outputs": [],
   "source": []
  },
  {
   "cell_type": "code",
   "execution_count": 4,
   "metadata": {
    "collapsed": true
   },
   "outputs": [],
   "source": [
    "# Next step: parsing > pdf to text"
   ]
  },
  {
   "cell_type": "code",
   "execution_count": null,
   "metadata": {
    "collapsed": true
   },
   "outputs": [],
   "source": []
  }
 ],
 "metadata": {
  "kernelspec": {
   "display_name": "Python 2",
   "language": "python",
   "name": "python2"
  },
  "language_info": {
   "codemirror_mode": {
    "name": "ipython",
    "version": 2
   },
   "file_extension": ".py",
   "mimetype": "text/x-python",
   "name": "python",
   "nbconvert_exporter": "python",
   "pygments_lexer": "ipython2",
   "version": "2.7.10"
  }
 },
 "nbformat": 4,
 "nbformat_minor": 0
}
