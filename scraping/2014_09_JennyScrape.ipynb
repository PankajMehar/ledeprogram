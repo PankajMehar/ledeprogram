{
 "cells": [
  {
   "cell_type": "markdown",
   "metadata": {},
   "source": [
    "# Scraping the Department of Corrections"
   ]
  },
  {
   "cell_type": "raw",
   "metadata": {},
   "source": [
    "First, we loop through each county listed in the sex offender website to pull the unique url for each sex offender."
   ]
  },
  {
   "cell_type": "code",
   "execution_count": null,
   "metadata": {
    "collapsed": false
   },
   "outputs": [],
   "source": [
    "from urllib2 import Request, urlopen\n",
    "from bs4 import BeautifulSoup\n",
    "from re import compile, sub, match, findall\n",
    "InmateLinks = []\n",
    "for i in range(1,65):\n",
    "    url = \"http://www.criminaljustice.ny.gov/SomsSUBDirectory/search_index.jsp?offenderSubmit=true&LastName=&County=\"+str(i)+\"&Zip=&Submit=Search\"\n",
    "    request = Request(url)\n",
    "    request.add_header('From',\"ram2233@columbia.edu\")\n",
    "    connection = urlopen(request)\n",
    "    data = connection.read()\n",
    "    page = BeautifulSoup(data)\n",
    "    rows = page.findAll(\"td\")\n",
    "    for row in rows:\n",
    "        link = row.findChild(\"a\")\n",
    "        if link and \"http://www.criminaljustice.ny.gov\"+str(link.get(\"href\")) not in InmateLinks:\n",
    "            InmateLinks.append(\"http://www.criminaljustice.ny.gov\"+str(link.get(\"href\")))\n",
    "    print i"
   ]
  },
  {
   "cell_type": "raw",
   "metadata": {},
   "source": [
    "Next, we loop through each one of those urls, and pull out all of the information for each inmate, and store that info in a list of dictionaries."
   ]
  },
  {
   "cell_type": "code",
   "execution_count": null,
   "metadata": {
    "collapsed": false
   },
   "outputs": [],
   "source": [
    "InmateInfo = []\n",
    "for inmates in InmateLinks:\n",
    "    request = Request(inmates)\n",
    "    request.add_header('From',\"roger.miller@thenewyorkworld.com\")\n",
    "    connection = urlopen(request)\n",
    "    data = connection.read()\n",
    "    page = BeautifulSoup(data)\n",
    "    rows = page.findAll(\"li\")\n",
    "    info = {\"url\":inmates}\n",
    "    repeats = []\n",
    "    for row in rows: \n",
    "        key = row.findChild(\"span\",\"label\")\n",
    "        value = row.findChild(\"span\",\"value\")\n",
    "        if key and value:\n",
    "            if key.getText().strip() not in info:\n",
    "                info[key.getText().strip()]=value.getText(separator=\" \").encode(\"ascii\",\"replace\").replace(\"?\",\" \").replace(\"  \",\"\").replace(\"\\t\",\"\").strip()\n",
    "            else:\n",
    "                repeats.append(key.getText().strip())\n",
    "                info[key.getText().strip()+str(repeats.count(key.getText().strip())+1)]=value.getText(separator=\" \").encode(\"ascii\",\"replace\").replace(\"?\",\" \").replace(\"  \",\"\").replace(\"\\t\",\"\").strip()\n",
    "    InmateInfo.append(info)"
   ]
  },
  {
   "cell_type": "raw",
   "metadata": {},
   "source": [
    "With this list of dictionaries, we can then make a data frame with pandas that can be turned into a csvf"
   ]
  },
  {
   "cell_type": "code",
   "execution_count": null,
   "metadata": {
    "collapsed": false
   },
   "outputs": [],
   "source": [
    "len(InmateInfo)"
   ]
  },
  {
   "cell_type": "code",
   "execution_count": null,
   "metadata": {
    "collapsed": false
   },
   "outputs": [],
   "source": [
    "#started scrape at 10:46 am\n",
    "from pandas import DataFrame\n",
    "\n",
    "inmates = DataFrame(InmateInfo)\n",
    "\n",
    "inmates"
   ]
  },
  {
   "cell_type": "code",
   "execution_count": null,
   "metadata": {
    "collapsed": false
   },
   "outputs": [],
   "source": [
    "from pandas import set_option\n",
    "set_option(\"max_columns\",500)\n",
    "set_option(\"max_colwidth\",500)\n",
    "inmates[\"Color47\"].value_counts()\n",
    "inmates[inmates[\"Color47\"]==\"Orange\"]"
   ]
  },
  {
   "cell_type": "code",
   "execution_count": null,
   "metadata": {
    "collapsed": false
   },
   "outputs": [],
   "source": [
    "inmates.to_csv(\"InmateInfo.csv\")"
   ]
  },
  {
   "cell_type": "markdown",
   "metadata": {},
   "source": [
    "# Analyzing the sex offender data"
   ]
  },
  {
   "cell_type": "code",
   "execution_count": null,
   "metadata": {
    "collapsed": false
   },
   "outputs": [],
   "source": [
    "from pandas import read_csv, set_option\n",
    "set_option(\"max_columns\",500)\n",
    "set_option(\"max_colwidth\",500)\n",
    "\n",
    "o = read_csv(open(\"InmateInfo.csv\"))\n",
    "\n",
    "o[\"County\"].value_counts()"
   ]
  },
  {
   "cell_type": "code",
   "execution_count": null,
   "metadata": {
    "collapsed": false
   },
   "outputs": [],
   "source": [
    "from re import match\n",
    "def is_number(s):\n",
    "    try:\n",
    "        float(s)\n",
    "        return True\n",
    "    except ValueError:\n",
    "        return False\n",
    "def zipcode(x):\n",
    "    x = x.strip()\n",
    "    if is_number(x[-5:]):\n",
    "        return x[-5:]\n",
    "    else:\n",
    "        return \"No Zip\"\n",
    "\n",
    "o[\"Zip\"] = o[\"Address\"].apply(zipcode)\n",
    "o\n",
    "        "
   ]
  },
  {
   "cell_type": "code",
   "execution_count": null,
   "metadata": {
    "collapsed": false
   },
   "outputs": [],
   "source": []
  },
  {
   "cell_type": "code",
   "execution_count": null,
   "metadata": {
    "collapsed": true
   },
   "outputs": [],
   "source": []
  }
 ],
 "metadata": {
  "kernelspec": {
   "display_name": "Python 2",
   "language": "python",
   "name": "python2"
  },
  "language_info": {
   "codemirror_mode": {
    "name": "ipython",
    "version": 2
   },
   "file_extension": ".py",
   "mimetype": "text/x-python",
   "name": "python",
   "nbconvert_exporter": "python",
   "pygments_lexer": "ipython2",
   "version": "2.7.10"
  }
 },
 "nbformat": 4,
 "nbformat_minor": 0
}
