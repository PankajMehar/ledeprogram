{
 "cells": [
  {
   "cell_type": "markdown",
   "metadata": {},
   "source": [
    "# Scraping with Beautiful Soup"
   ]
  },
  {
   "cell_type": "markdown",
   "metadata": {},
   "source": [
    "http://www.crummy.com/software/BeautifulSoup/"
   ]
  },
  {
   "cell_type": "code",
   "execution_count": 49,
   "metadata": {
    "collapsed": true
   },
   "outputs": [],
   "source": [
    "import urllib\n",
    "\n",
    "url = \"http://static.decontextualize.com/kittens.html\"\n",
    "html_str = urllib.urlopen(url).read()"
   ]
  },
  {
   "cell_type": "code",
   "execution_count": 50,
   "metadata": {
    "collapsed": false
   },
   "outputs": [
    {
     "name": "stdout",
     "output_type": "stream",
     "text": [
      "<!doctype html>\n",
      "<html>\n",
      "\t<head>\n",
      "\t\t<title>Kittens!</title>\n",
      "\t\t<style type=\"text/css\">\n",
      "\t\t\tspan.lastcheckup { font-family: \"Courier\", fixed; font-size: 11px; }\n",
      "\t\t</style>\n",
      "\t</head>\n",
      "\t<body>\n",
      "\t\t<h1>Kittens and the TV Shows They Love</h1>\n",
      "\t\t<div class=\"kitten\">\n",
      "\t\t\t<h2>Fluffy</h2>\n",
      "\t\t\t<div><img src=\"http://placekitten.com/120/120\"></div>\n",
      "\t\t\t<ul class=\"tvshows\">\n",
      "\t\t\t\t<li>\n",
      "\t\t\t\t\t<a href=\"http://www.imdb.com/title/tt0106145/\">Deep Space Nine</a>\n",
      "\t\t\t\t</li>\n",
      "\t\t\t\t<li>\n",
      "\t\t\t\t\t<a href=\"http://www.imdb.com/title/tt0088576/\">Mr. Belvedere</a>\n",
      "\t\t\t\t</li>\n",
      "\t\t\t</ul>\n",
      "\t\t\tLast check-up: <span class=\"lastcheckup\">2014-01-17</span>\n",
      "\t\t</div>\n",
      "\t\t<div class=\"kitten\">\n",
      "\t\t\t<h2>Monsieur Whiskeurs</h2>\n",
      "\t\t\t<div><img src=\"http://placekitten.com/110/110\"></div>\n",
      "\t\t\t<ul class=\"tvshows\">\n",
      "\t\t\t\t<li>\n",
      "\t\t\t\t\t<a href=\"http://www.imdb.com/title/tt0106179/\">The X-Files</a>\n",
      "\t\t\t\t</li>\n",
      "\t\t\t\t<li>\n",
      "\t\t\t\t\t<a href=\"http://www.imdb.com/title/tt0098800/\">Fresh Prince</a>\n",
      "\t\t\t\t</li>\n",
      "\t\t\t</ul>\n",
      "\t\t\tLast check-up: <span class=\"lastcheckup\">2013-11-02</span>\n",
      "\t\t</div>\n",
      "\t</body>\n",
      "</html>\n",
      "\n",
      "\n"
     ]
    }
   ],
   "source": [
    "print html_str"
   ]
  },
  {
   "cell_type": "code",
   "execution_count": 51,
   "metadata": {
    "collapsed": false
   },
   "outputs": [
    {
     "name": "stdout",
     "output_type": "stream",
     "text": [
      "<class 'bs4.BeautifulSoup'>\n"
     ]
    }
   ],
   "source": [
    "from bs4 import BeautifulSoup\n",
    "\n",
    "document = BeautifulSoup(html_str)\n",
    "print type(document)\n",
    "\n"
   ]
  },
  {
   "cell_type": "markdown",
   "metadata": {},
   "source": [
    "### finding an individual tag"
   ]
  },
  {
   "cell_type": "code",
   "execution_count": 52,
   "metadata": {
    "collapsed": false
   },
   "outputs": [
    {
     "name": "stdout",
     "output_type": "stream",
     "text": [
      "<h1>Kittens and the TV Shows They Love</h1>\n"
     ]
    }
   ],
   "source": [
    "h1_tag = document.find(\"h1\")\n",
    "print h1_tag"
   ]
  },
  {
   "cell_type": "code",
   "execution_count": 53,
   "metadata": {
    "collapsed": false
   },
   "outputs": [
    {
     "data": {
      "text/plain": [
       "u'Kittens and the TV Shows They Love'"
      ]
     },
     "execution_count": 53,
     "metadata": {},
     "output_type": "execute_result"
    }
   ],
   "source": [
    "h1_tag.string"
   ]
  },
  {
   "cell_type": "code",
   "execution_count": 54,
   "metadata": {
    "collapsed": false
   },
   "outputs": [
    {
     "name": "stdout",
     "output_type": "stream",
     "text": [
      "http://placekitten.com/120/120\n"
     ]
    }
   ],
   "source": [
    "img_tag = document.find(\"img\")\n",
    "print img_tag[\"src\"]"
   ]
  },
  {
   "cell_type": "code",
   "execution_count": 55,
   "metadata": {
    "collapsed": false
   },
   "outputs": [
    {
     "name": "stdout",
     "output_type": "stream",
     "text": [
      "[<img src=\"http://placekitten.com/120/120\"/>, <img src=\"http://placekitten.com/110/110\"/>]\n",
      "<img src=\"http://placekitten.com/120/120\"/>\n"
     ]
    }
   ],
   "source": [
    "img_tags = document.find_all(\"img\")\n",
    "print img_tags\n",
    "print img_tags[0]"
   ]
  },
  {
   "cell_type": "code",
   "execution_count": 56,
   "metadata": {
    "collapsed": false
   },
   "outputs": [
    {
     "name": "stdout",
     "output_type": "stream",
     "text": [
      "Fluffy\n",
      "Monsieur Whiskeurs\n"
     ]
    }
   ],
   "source": [
    "h2_tags = document.find_all(\"h2\")\n",
    "for tag in h2_tags:\n",
    "    print tag.string"
   ]
  },
  {
   "cell_type": "markdown",
   "metadata": {},
   "source": [
    "### particular attributes"
   ]
  },
  {
   "cell_type": "code",
   "execution_count": 57,
   "metadata": {
    "collapsed": true
   },
   "outputs": [],
   "source": [
    "checkup_tags = document.find_all(\"span\", attrs={\"class\": \"lastcheckup\"}) "
   ]
  },
  {
   "cell_type": "code",
   "execution_count": 58,
   "metadata": {
    "collapsed": false
   },
   "outputs": [
    {
     "name": "stdout",
     "output_type": "stream",
     "text": [
      "2014-01-17\n",
      "2013-11-02\n"
     ]
    }
   ],
   "source": [
    "for tag in checkup_tags:\n",
    "    print tag.string"
   ]
  },
  {
   "cell_type": "markdown",
   "metadata": {},
   "source": [
    "### finding tags within tags\n",
    "\n",
    "what I want to end up with:\n",
    "\n",
    "```\n",
    "[\n",
    "    {\"name\": \"Fluffy\", \"shows\" : [\"Deep Space Nine\", \"Mr. Belvedere\"]},\n",
    "    {\"name\": \"Monsieur Whiskeurs\", \"shows\": [\"The X-Files\", \"Fresh Prince\"]}\n",
    "]\n",
    "```\n",
    "\n",
    "buuut let's get *just* the televions shows first."
   ]
  },
  {
   "cell_type": "code",
   "execution_count": 59,
   "metadata": {
    "collapsed": false
   },
   "outputs": [
    {
     "name": "stdout",
     "output_type": "stream",
     "text": [
      "Deep Space Nine\n",
      "Mr. Belvedere\n",
      "The X-Files\n",
      "Fresh Prince\n"
     ]
    }
   ],
   "source": [
    "a_tags = document.find_all(\"a\")\n",
    "for tag in a_tags:\n",
    "    print tag.string"
   ]
  },
  {
   "cell_type": "code",
   "execution_count": 60,
   "metadata": {
    "collapsed": false
   },
   "outputs": [
    {
     "data": {
      "text/plain": [
       "[{'name': u'Fluffy', 'shows': [u'Deep Space Nine', u'Mr. Belvedere']},\n",
       " {'name': u'Monsieur Whiskeurs', 'shows': [u'The X-Files', u'Fresh Prince']}]"
      ]
     },
     "execution_count": 60,
     "metadata": {},
     "output_type": "execute_result"
    }
   ],
   "source": [
    "kittens = []\n",
    "kitten_tags = document.find_all(\"div\", attrs = {\"class\": \"kitten\"})\n",
    "for tag in kitten_tags:\n",
    "    # find h2 tag that is the child of this tag\n",
    "    h2_tag = tag.find(\"h2\")\n",
    "    kitten_name = h2_tag.string\n",
    "    tvshow_tags = tag.find_all(\"a\")\n",
    "    kitten_shows = [tvshow.string for tvshow in tvshow_tags]\n",
    "    kitten_info = {\"name\": kitten_name, \"shows\": kitten_shows}\n",
    "    kittens.append(kitten_info)\n",
    "kittens"
   ]
  },
  {
   "cell_type": "markdown",
   "metadata": {},
   "source": [
    "# Finding siblings"
   ]
  },
  {
   "cell_type": "code",
   "execution_count": 61,
   "metadata": {
    "collapsed": false
   },
   "outputs": [],
   "source": [
    "cheese_html = \"\"\"\n",
    "<h2>Camebert</h2>\n",
    "<p>A soft cheese made in the Camebert region.</p>\n",
    "\n",
    "<h2>Cheddar</h2>\n",
    "<p>A yellow chees made in the Cheddar region.</p>\n",
    "\"\"\"\n",
    "\n",
    "cheese_dict = {\"Camebert\": \"A soft cheese made in the Camebert region\", \"Cheddar\": \"A yellow chees made in the Cheddar region.\"}\n"
   ]
  },
  {
   "cell_type": "code",
   "execution_count": 62,
   "metadata": {
    "collapsed": true
   },
   "outputs": [],
   "source": [
    "tag.find_next_sibling(\"tag name\")"
   ]
  },
  {
   "cell_type": "code",
   "execution_count": 63,
   "metadata": {
    "collapsed": false
   },
   "outputs": [
    {
     "data": {
      "text/plain": [
       "[u'Camebert', u'Cheddar']"
      ]
     },
     "execution_count": 63,
     "metadata": {},
     "output_type": "execute_result"
    }
   ],
   "source": [
    "document = BeautifulSoup(cheese_html)\n",
    "h2_tags = document.find_all(\"h2\")\n",
    "[tag.string for tag in h2_tags]"
   ]
  },
  {
   "cell_type": "code",
   "execution_count": 64,
   "metadata": {
    "collapsed": false
   },
   "outputs": [
    {
     "data": {
      "text/plain": [
       "{'Camebert': u'A soft cheese made in the Camebert region.',\n",
       " 'Cheddar': u'A yellow chees made in the Cheddar region.'}"
      ]
     },
     "execution_count": 64,
     "metadata": {},
     "output_type": "execute_result"
    }
   ],
   "source": [
    "for tag in h2_tags:\n",
    "    cheese_name = tag.string\n",
    "    p_tag = tag.find_next_sibling(\"p\")\n",
    "    cheese_desc = p_tag.string\n",
    "    cheese_dict[cheese_name] = cheese_desc\n",
    "cheese_dict"
   ]
  },
  {
   "cell_type": "markdown",
   "metadata": {},
   "source": [
    "# Practice"
   ]
  },
  {
   "cell_type": "code",
   "execution_count": 68,
   "metadata": {
    "collapsed": true
   },
   "outputs": [],
   "source": [
    "url2 = \"http://hashtagdigilab.tumblr.com\"\n",
    "html_str = urllib.urlopen(url2).read()\n",
    "import requests\n"
   ]
  },
  {
   "cell_type": "code",
   "execution_count": 69,
   "metadata": {
    "collapsed": false
   },
   "outputs": [
    {
     "name": "stdout",
     "output_type": "stream",
     "text": [
      "None\n",
      "/\n",
      "/\n",
      "/\n",
      "/archive\n",
      "/innovation\n",
      "/ddj\n",
      "/socialmedia\n",
      "/toolbox\n",
      "/about\n",
      "http://hashtagdigilab.tumblr.com/post/116823524393/ein-bisschen-perugia-fuer-alle-highlights-des\n",
      "http://www.vanessawormer.de\n",
      "http://www.journalismfestival.com\n",
      "https://www.youtube.com/user/festivalgiornalismo/videos\n",
      "http://hashtagdigilab.tumblr.com/post/116823524393/ein-bisschen-perugia-fuer-alle-highlights-des\n",
      "http://hashtagdigilab.tumblr.com/tagged/DDJ\n",
      "http://hashtagdigilab.tumblr.com/tagged/Datenjournalismus\n",
      "http://hashtagdigilab.tumblr.com/tagged/Journalismus\n",
      "http://hashtagdigilab.tumblr.com/tagged/Perugia\n",
      "http://hashtagdigilab.tumblr.com/tagged/ijf15\n",
      "http://hashtagdigilab.tumblr.com/post/116823524393/ein-bisschen-perugia-fuer-alle-highlights-des#notes\n",
      "http://hashtagdigilab.tumblr.com/post/116823524393/ein-bisschen-perugia-fuer-alle-highlights-des\n",
      "#\n",
      "#\n",
      "http://facebook.com/sharer.php?u=http%3A%2F%2Fhashtagdigilab.tumblr.com%2Fpost%2F116823524393%2Fein-bisschen-perugia-fuer-alle-highlights-des&t=Ein%20bisschen%20Perugia%20f%26uuml%3Br%20alle%3A%20Highlights%20des%20International%20Journalism%20Festival\n",
      "https://twitter.com/intent/tweet?text=Ein%20bisschen%20Perugia%20f%C3%BCr%20alle%3A%20Highlights%20des%20International%20Journalism%20Festival%20-%20Von%20Vanessa%20Wormer%20In...%20http%3A%2F%2Ftmblr.co%2FZO78Wn1ipEOGf\n",
      "mailto:?subject=Ein%20Eintrag%20von%20%23DIGILAB&body=Ein%20bisschen%20Perugia%20f%C3%BCr%20alle%3A%20Highlights%20des%20International%20Journalism%20Festival%20-%20Von%20Vanessa%20Wormer%20In%20Perugia%20fand%20gerade%20das%20International%20Journalism...%20http%3A%2F%2Fhashtagdigilab.tumblr.com%2Fpost%2F116823524393%2Fein-bisschen-perugia-fuer-alle-highlights-des\n",
      "http://hashtagdigilab.tumblr.com/post/116823524393/ein-bisschen-perugia-fuer-alle-highlights-des\n",
      "https://www.tumblr.com/reblog/116823524393/n8wrkG0J\n",
      "http://hashtagdigilab.tumblr.com/post/114746427808/new-york-calling-datenjournalismus-an-der\n",
      "http://www.vanessawormer.de/\n",
      "http://ledeprogram.com\n",
      "http://ledeprogram.com\n",
      "http://ledeprogram.com\n",
      "http://ledeprogram.com\n",
      "http://hashtagdigilab.tumblr.com/tagged/DDJ\n",
      "http://hashtagdigilab.tumblr.com/tagged/Datenjournalismus\n",
      "http://hashtagdigilab.tumblr.com/tagged/Lede-Program\n",
      "http://hashtagdigilab.tumblr.com/tagged/Columbia\n",
      "http://hashtagdigilab.tumblr.com/post/114746427808/new-york-calling-datenjournalismus-an-der#notes\n",
      "http://hashtagdigilab.tumblr.com/post/114746427808/new-york-calling-datenjournalismus-an-der\n",
      "#\n",
      "#\n",
      "http://facebook.com/sharer.php?u=http%3A%2F%2Fhashtagdigilab.tumblr.com%2Fpost%2F114746427808%2Fnew-york-calling-datenjournalismus-an-der&t=New%20York%26nbsp%3Bcalling%3A%20Datenjournalismus%20an%20der%20Columbia%20University\n",
      "https://twitter.com/intent/tweet?text=New%20York%C2%A0calling%3A%20Datenjournalismus%20an%20der%20Columbia%20University%20-%20Von%20Vanessa%20Wormer%20Gute%20Neuigkeiten%3A%20Ich...%20http%3A%2F%2Ftmblr.co%2FZO78Wn1gtQucW\n",
      "mailto:?subject=Ein%20Eintrag%20von%20%23DIGILAB&body=New%20York%C2%A0calling%3A%20Datenjournalismus%20an%20der%20Columbia%20University%20-%20Von%20Vanessa%20Wormer%20Gute%20Neuigkeiten%3A%20Ich%20habe%20einen%20Platz%20an%20der%20Columbia%20University%20Graduate...%20http%3A%2F%2Fhashtagdigilab.tumblr.com%2Fpost%2F114746427808%2Fnew-york-calling-datenjournalismus-an-der\n",
      "http://hashtagdigilab.tumblr.com/post/114746427808/new-york-calling-datenjournalismus-an-der\n",
      "https://www.tumblr.com/reblog/114746427808/0h66zJ1v\n",
      "http://hashtagdigilab.tumblr.com/post/107443019763/wie-unser-talkie-zur-operation-sawfish\n",
      "http://sawfish.stimme.de\n",
      "http://www.vanessawormer.de/\n",
      "http://hashtagdigilab.tumblr.com/post/107443019763/wie-unser-talkie-zur-operation-sawfish\n",
      "http://hashtagdigilab.tumblr.com/tagged/Talkie\n",
      "http://hashtagdigilab.tumblr.com/tagged/4dez\n",
      "http://hashtagdigilab.tumblr.com/tagged/werkstattbericht\n",
      "http://hashtagdigilab.tumblr.com/post/107443019763/wie-unser-talkie-zur-operation-sawfish#notes\n",
      "http://hashtagdigilab.tumblr.com/post/107443019763/wie-unser-talkie-zur-operation-sawfish\n",
      "#\n",
      "#\n",
      "http://facebook.com/sharer.php?u=http%3A%2F%2Fhashtagdigilab.tumblr.com%2Fpost%2F107443019763%2Fwie-unser-talkie-zur-operation-sawfish&t=Wie%20unser%20Talkie%20zur%20%26%238220%3BOperation%20Sawfish%26%238221%3B%20entstanden%20ist\n",
      "https://twitter.com/intent/tweet?text=Wie%20unser%20Talkie%20zur%20%22Operation%20Sawfish%22%20entstanden%20ist%20-%20Von%20Vanessa%20Wormer%20Am%204.%20Dezember%201944%20zerst%C3%B6rten...%20http%3A%2F%2Ftmblr.co%2FZO78Wn1a46b-p\n",
      "mailto:?subject=Ein%20Eintrag%20von%20%23DIGILAB&body=Wie%20unser%20Talkie%20zur%20%22Operation%20Sawfish%22%20entstanden%20ist%20-%20Von%20Vanessa%20Wormer%20Am%204.%20Dezember%201944%20zerst%C3%B6rten%20knapp%20300%20Flugzeuge%20der%20britischen%20Royal%20Air%20Force...%20http%3A%2F%2Fhashtagdigilab.tumblr.com%2Fpost%2F107443019763%2Fwie-unser-talkie-zur-operation-sawfish\n",
      "http://hashtagdigilab.tumblr.com/post/107443019763/wie-unser-talkie-zur-operation-sawfish\n",
      "https://www.tumblr.com/reblog/107443019763/o0OLXV8P\n",
      "http://hashtagdigilab.tumblr.com/post/106882206028/wie-laeuft-meine-website-tipps-fuer-den-einstieg-in\n",
      "http://hashtagdigilab.tumblr.com/post/106882206028/wie-laeuft-meine-website-tipps-fuer-den-einstieg-in\n",
      "http://hashtagdigilab.tumblr.com/tagged/analytics\n",
      "http://hashtagdigilab.tumblr.com/tagged/googleanalytics\n",
      "http://hashtagdigilab.tumblr.com/post/106882206028/wie-laeuft-meine-website-tipps-fuer-den-einstieg-in#notes\n",
      "http://hashtagdigilab.tumblr.com/post/106882206028/wie-laeuft-meine-website-tipps-fuer-den-einstieg-in\n",
      "#\n",
      "#\n",
      "http://facebook.com/sharer.php?u=http%3A%2F%2Fhashtagdigilab.tumblr.com%2Fpost%2F106882206028%2Fwie-laeuft-meine-website-tipps-fuer-den-einstieg-in&t=Wie%20l%26auml%3Buft%20meine%20Website%3F%20Tipps%20f%26uuml%3Br%20den%20Einstieg%20in%20Google%20Analytics\n",
      "https://twitter.com/intent/tweet?text=Wie%20l%C3%A4uft%20meine%20Website%3F%20Tipps%20f%C3%BCr%20den%20Einstieg%20in%20Google%20Analytics%20-%20Die%20Google-Analytics-Welt%20sieht%20auf...%20http%3A%2F%2Ftmblr.co%2FZO78Wn1ZYhGbC\n",
      "mailto:?subject=Ein%20Eintrag%20von%20%23DIGILAB&body=Wie%20l%C3%A4uft%20meine%20Website%3F%20Tipps%20f%C3%BCr%20den%20Einstieg%20in%20Google%20Analytics%20-%20Die%20Google-Analytics-Welt%20sieht%20auf%20den%20ersten%20Blick%20kompliziert%20aus%3A%20Unz%C3%A4hlige...%20http%3A%2F%2Fhashtagdigilab.tumblr.com%2Fpost%2F106882206028%2Fwie-laeuft-meine-website-tipps-fuer-den-einstieg-in\n",
      "http://hashtagdigilab.tumblr.com/post/106882206028/wie-laeuft-meine-website-tipps-fuer-den-einstieg-in\n",
      "https://www.tumblr.com/reblog/106882206028/bBz3qyVR\n",
      "http://hashtagdigilab.tumblr.com/post/106492287143/warum-videos-viral-gehen-und-mehr-tolle-ted-talks\n",
      "http://www.twitter.com/isa_mue\n",
      "http://hashtagdigilab.tumblr.com/post/106882206028/wie-laeuft-meine-website-tipps-fuer-den-einstieg-in\n",
      "https://twitter.com/isa_mue/status/548228375249444865\n",
      "http://hashtagdigilab.tumblr.com/post/106492287143/warum-videos-viral-gehen-und-mehr-tolle-ted-talks\n",
      "http://hashtagdigilab.tumblr.com/tagged/socialmedia\n",
      "http://hashtagdigilab.tumblr.com/tagged/viral\n",
      "http://hashtagdigilab.tumblr.com/tagged/youtube\n",
      "http://hashtagdigilab.tumblr.com/tagged/twitter\n",
      "http://hashtagdigilab.tumblr.com/tagged/facebook\n",
      "http://hashtagdigilab.tumblr.com/post/106492287143/warum-videos-viral-gehen-und-mehr-tolle-ted-talks\n",
      "#\n",
      "#\n",
      "http://facebook.com/sharer.php?u=http%3A%2F%2Fhashtagdigilab.tumblr.com%2Fpost%2F106492287143%2Fwarum-videos-viral-gehen-und-mehr-tolle-ted-talks&t=Warum%20Videos%20viral%20gehen%20und%20mehr%3A%20Tolle%20TED-Talks%20zu%20Social%20Media%20\n",
      "https://twitter.com/intent/tweet?text=Warum%20Videos%20viral%20gehen%20und%20mehr%3A%20Tolle%20TED-Talks%20zu%20Social%20Media%20-%20Von%20Isabelle%20M%C3%BCller%20Zwischen%20den...%20http%3A%2F%2Ftmblr.co%2FZO78Wn1ZBRrYd\n",
      "mailto:?subject=Ein%20Eintrag%20von%20%23DIGILAB&body=Warum%20Videos%20viral%20gehen%20und%20mehr%3A%20Tolle%20TED-Talks%20zu%20Social%20Media%20-%20Von%20Isabelle%20M%C3%BCller%20Zwischen%20den%20Jahren%20hat%20man%20endlich%20einmal%20Zeit%2C%20um%20sich%20auf...%20http%3A%2F%2Fhashtagdigilab.tumblr.com%2Fpost%2F106492287143%2Fwarum-videos-viral-gehen-und-mehr-tolle-ted-talks\n",
      "http://hashtagdigilab.tumblr.com/post/106492287143/warum-videos-viral-gehen-und-mehr-tolle-ted-talks\n",
      "https://www.tumblr.com/reblog/106492287143/Z6rjKJVx\n",
      "http://hashtagdigilab.tumblr.com/post/105511990203/interaktives-storytelling-talkie-ftw\n",
      "http://www.twitter.com/remrow\n",
      "http://www.kiln.it/talkie/\n",
      "http://konradweber.ch/2014/11/21/das-ende-des-artikels/\n",
      "http://www.stimme.de/interaktiv\n",
      "http://folio.nzz.ch/2014/oktober/die-arroganz-des-wortes\n",
      "http://hashtagdigilab.tumblr.com/post/104427056933/storytelling-in-whatsapp-unsere-erfahrungen-aus\n",
      "http://hashtagdigilab.tumblr.com/post/105511990203/interaktives-storytelling-talkie-ftw\n",
      "http://hashtagdigilab.tumblr.com/tagged/Talkie\n",
      "http://hashtagdigilab.tumblr.com/tagged/Interactive\n",
      "http://hashtagdigilab.tumblr.com/tagged/multimedia\n",
      "http://hashtagdigilab.tumblr.com/tagged/storytelling\n",
      "http://hashtagdigilab.tumblr.com/post/105511990203/interaktives-storytelling-talkie-ftw\n",
      "#\n",
      "#\n",
      "http://facebook.com/sharer.php?u=http%3A%2F%2Fhashtagdigilab.tumblr.com%2Fpost%2F105511990203%2Finteraktives-storytelling-talkie-ftw&t=Interaktives%20Storytelling%3A%20Talkie%20ftw%21%20\n",
      "https://twitter.com/intent/tweet?text=Interaktives%20Storytelling%3A%20Talkie%20ftw%21%20-%20Von%20Vanessa%20Wormer%20Der%20klassische%20Artikel%20als%20journalistisches...%20http%3A%2F%2Ftmblr.co%2FZO78Wn1YH0JEx\n",
      "mailto:?subject=Ein%20Eintrag%20von%20%23DIGILAB&body=Interaktives%20Storytelling%3A%20Talkie%20ftw%21%20-%20Von%20Vanessa%20Wormer%20Der%20klassische%20Artikel%20als%20journalistisches%20Standard-Format%20ist%20im%20Netz%20%C3%BCberraschend%20langlebig.%C2%A0Den...%20http%3A%2F%2Fhashtagdigilab.tumblr.com%2Fpost%2F105511990203%2Finteraktives-storytelling-talkie-ftw\n",
      "http://hashtagdigilab.tumblr.com/post/105511990203/interaktives-storytelling-talkie-ftw\n",
      "https://www.tumblr.com/reblog/105511990203/0TY9Qqo7\n",
      "http://hashtagdigilab.tumblr.com/post/104427056933/storytelling-in-whatsapp-unsere-erfahrungen-aus\n",
      "http://www.twitter.com/stahlniel\n",
      "http://www.twitter.com/remrow\n",
      "https://medium.com/@Remrow/how-we-used-whatsapp-for-storytelling-a7afe82054ed\n",
      "https://medium.com/@Remrow/how-we-used-whatsapp-for-storytelling-a7afe82054ed\n",
      "http://hashtagdigilab.tumblr.com/post/104427056933/storytelling-in-whatsapp-unsere-erfahrungen-aus\n",
      "http://hashtagdigilab.tumblr.com/tagged/WhatsApp\n",
      "http://hashtagdigilab.tumblr.com/tagged/4dez\n",
      "http://hashtagdigilab.tumblr.com/tagged/Heilbronn\n",
      "http://hashtagdigilab.tumblr.com/tagged/Luftangriff\n",
      "http://hashtagdigilab.tumblr.com/tagged/4.-Dezember-1944\n",
      "http://hashtagdigilab.tumblr.com/tagged/werkstattbericht\n",
      "http://hashtagdigilab.tumblr.com/post/104427056933/storytelling-in-whatsapp-unsere-erfahrungen-aus#notes\n",
      "http://hashtagdigilab.tumblr.com/post/104427056933/storytelling-in-whatsapp-unsere-erfahrungen-aus\n",
      "#\n",
      "#\n",
      "http://facebook.com/sharer.php?u=http%3A%2F%2Fhashtagdigilab.tumblr.com%2Fpost%2F104427056933%2Fstorytelling-in-whatsapp-unsere-erfahrungen-aus&t=Storytelling%20in%20WhatsApp%20-%20Unsere%20Erfahrungen%20aus%20dem%20%234dez-Projekt\n",
      "https://twitter.com/intent/tweet?text=Storytelling%20in%20WhatsApp%20-%20Unsere%20Erfahrungen%20aus%20dem%20%234dez-Projekt%20-%20Von%20Daniel%20Stahl%20und%20Vanessa%20Wormer...%20http%3A%2F%2Ftmblr.co%2FZO78Wn1XGLcyb\n",
      "mailto:?subject=Ein%20Eintrag%20von%20%23DIGILAB&body=Storytelling%20in%20WhatsApp%20-%20Unsere%20Erfahrungen%20aus%20dem%20%234dez-Projekt%20-%20Von%20Daniel%20Stahl%20und%20Vanessa%20Wormer%20-%3E%20%C2%A0English%20version%20Am%204.%20Dezember%20haben%20wir...%20http%3A%2F%2Fhashtagdigilab.tumblr.com%2Fpost%2F104427056933%2Fstorytelling-in-whatsapp-unsere-erfahrungen-aus\n",
      "http://hashtagdigilab.tumblr.com/post/104427056933/storytelling-in-whatsapp-unsere-erfahrungen-aus\n",
      "https://www.tumblr.com/reblog/104427056933/GVY4y3oO\n",
      "http://hashtagdigilab.tumblr.com/post/102695709838/datenjournalismus-tools-fuer-den-einstieg\n",
      "https://twitter.com/Remrow\n",
      "https://twitter.com/hashtag/ifpjt14?src=hash\n",
      "https://twitter.com/chrire/status/533553636170027008\n",
      "https://twitter.com/stahlniel\n",
      "http://www.ifp-kma.de/netzwerk/jahrestreffen\n",
      "https://twitter.com/hashtag/ddj?src=hash\n",
      "https://twitter.com/stahlniel\n",
      "https://twitter.com/Remrow\n",
      "https://twitter.com/hashtag/ifpjt14?src=hash\n",
      "http://t.co/3DoYYiyECp\n",
      "https://twitter.com/av85/status/533553537826164736\n",
      "http://hashtagdigilab.tumblr.com/tagged/Datenjournalismus\n",
      "http://hashtagdigilab.tumblr.com/tagged/DDJ\n",
      "http://hashtagdigilab.tumblr.com/tagged/Tools\n",
      "http://hashtagdigilab.tumblr.com/tagged/CartoDB\n",
      "http://hashtagdigilab.tumblr.com/tagged/Infogram\n",
      "http://hashtagdigilab.tumblr.com/tagged/Datawrapper\n",
      "http://hashtagdigilab.tumblr.com/post/102695709838/datenjournalismus-tools-fuer-den-einstieg#notes\n",
      "http://hashtagdigilab.tumblr.com/post/102695709838/datenjournalismus-tools-fuer-den-einstieg\n",
      "#\n",
      "#\n",
      "http://facebook.com/sharer.php?u=http%3A%2F%2Fhashtagdigilab.tumblr.com%2Fpost%2F102695709838%2Fdatenjournalismus-tools-fuer-den-einstieg&t=Datenjournalismus-Tools%20f%26uuml%3Br%20den%20Einstieg\n",
      "https://twitter.com/intent/tweet?text=Datenjournalismus-Tools%20f%C3%BCr%20den%20Einstieg%20-%20Von%20Vanessa%20Wormer%20Kollegen%20fragen%20uns%20oft%2C%20mit%20welchen%20Tools...%20http%3A%2F%2Ftmblr.co%2FZO78Wn1Vf92oE\n",
      "mailto:?subject=Ein%20Eintrag%20von%20%23DIGILAB&body=Datenjournalismus-Tools%20f%C3%BCr%20den%20Einstieg%20-%20Von%20Vanessa%20Wormer%20Kollegen%20fragen%20uns%20oft%2C%20mit%20welchen%20Tools%20wir%20datenjournalistische%20Projekte%20umsetzen.%20Pauschal...%20http%3A%2F%2Fhashtagdigilab.tumblr.com%2Fpost%2F102695709838%2Fdatenjournalismus-tools-fuer-den-einstieg\n",
      "http://hashtagdigilab.tumblr.com/post/102695709838/datenjournalismus-tools-fuer-den-einstieg\n"
     ]
    }
   ],
   "source": [
    "r  = requests.get(\"http://hashtagdigilab.tumblr.com\")\n",
    "\n",
    "data = r.text\n",
    "\n",
    "soup = BeautifulSoup(data)\n",
    "\n",
    "for link in soup.find_all('a'):\n",
    "    print(link.get('href'))"
   ]
  },
  {
   "cell_type": "code",
   "execution_count": null,
   "metadata": {
    "collapsed": true
   },
   "outputs": [],
   "source": []
  }
 ],
 "metadata": {
  "kernelspec": {
   "display_name": "Python 2",
   "language": "python",
   "name": "python2"
  },
  "language_info": {
   "codemirror_mode": {
    "name": "ipython",
    "version": 2
   },
   "file_extension": ".py",
   "mimetype": "text/x-python",
   "name": "python",
   "nbconvert_exporter": "python",
   "pygments_lexer": "ipython2",
   "version": "2.7.10"
  }
 },
 "nbformat": 4,
 "nbformat_minor": 0
}
