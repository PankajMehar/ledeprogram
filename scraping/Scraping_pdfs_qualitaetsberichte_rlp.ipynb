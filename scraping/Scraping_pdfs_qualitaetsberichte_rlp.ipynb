{
 "cells": [
  {
   "cell_type": "markdown",
   "metadata": {},
   "source": [
    "# Scraper that stores pdfs from a website into a local folder"
   ]
  },
  {
   "cell_type": "code",
   "execution_count": 19,
   "metadata": {
    "collapsed": true
   },
   "outputs": [],
   "source": [
    "from urllib2 import Request, urlopen\n",
    "from bs4 import BeautifulSoup\n",
    "from re import compile, sub, match, findall\n",
    "url = \"http://www.sozialportal.rlp.de/angebote-fuer-aeltere-und-pflegebeduerftige-menschen/wohnen-fuer-aeltere-und-pflegebeduerftige-menschen/profil-der-einrichtung.html?portal%5Beinrichtung%5D=21501\""
   ]
  },
  {
   "cell_type": "code",
   "execution_count": 20,
   "metadata": {
    "collapsed": false
   },
   "outputs": [
    {
     "name": "stdout",
     "output_type": "stream",
     "text": [
      "Qualitätsbericht Seniorenheim der Verbandsgemeinde\n",
      "Qualitätsbericht Seniorenzentrum Linzer Berg \n",
      "Qualitätskurzbericht Alte Burg 2013\n",
      "Qualitaetsbericht2012FliednerResidenz\n",
      "QualitaetskurzberichtMarienburg2014\n",
      "QualitaetskurzberichtMaranatha\n",
      "QualitaetskurzberichtCuranum\n",
      "Qualitaetskurzbericht2015\n",
      "QualitaetskurzberichtMariaJosef\n",
      "QualitaetskurzberichtVillaB2014\n",
      "QualitaetsberichtVillaRomantica\n",
      "QulitaetskurzberichtAhrtalResidenz2014\n",
      "Qualitätsbericht*Haus am Park\n",
      "Qualitätsbericht 2013\n",
      "Qualitätsbericht\n",
      "Qualitätsbericht St. Barbara\n",
      "Qualitätsberericht St. Hildegard\n",
      "Qualitätsbericht St. Vinzenzhaus\n",
      "Qualitätsbericht Seniorenhaus Sonnenhang\n",
      "Qualitätsbericht*Marienhaus AZ St. Josef\n",
      "Qualitätskurzbericht 2014\n",
      "Qualitätsbericht 2013\n",
      "Qualitätsbericht SR Waldhof\n",
      "Qualitätsbericht Theodor-Fliednder- Haus\n",
      "Qualitätsbericht 2013\n",
      "Ev Altenzentrum Hamm Qualitätsbericht\n",
      "Qualitätskurzbericht2013\n",
      "Qualitätskurzbericht 2012 - Darstellender Teil\n",
      "Qualitätsbericht 2012\n",
      "Qualitätskurzbericht - 2013\n",
      "Qualiätskurzbericht 2012 - Darstellender Teil\n",
      "Qualitätskurzbericht 2012 - Darstellender Teil\n",
      "Qualitaetskurzbericht2013\n",
      "Qualitaetsbericht-Pflegedomizil-Humboldthöhe\n",
      "Qualitätsbericht Christinenstift Unkel\n",
      "Qualitätsbericht Josef-Ecker-Stift Neuwied\n",
      "Qualitätsbericht Margaretha-Flesch-Haus Hausen\n",
      "Qualitätsbericht Seniorenheim Oberbieber\n",
      "Qualitätsbericht Westfälischer Hof\n",
      "Qualitätsbericht Senioren Residenz St. Antonius\n",
      "Qualitätsbericht Am Rosenberg, Hardert\n",
      "Qualitätsbericht Dr. Theodor Fricke APH \n",
      "Qualitätsbericht Haus Ursula Gemünden\n",
      "HausamHainQulitaetskurzbericht\n",
      "Qualitaetsbericht 2012\n",
      "Qualitätskurzbericht 2012 - Darstellender teil\n",
      "Qualitätsbericht Haus St. Martin\n",
      "Qualitätsbericht Katharinenhof \n",
      "Qualitätskurzbericht DRK Am Stadtwald\n",
      "Qualitätskurzbericht Anna Margareta\n",
      "Qualitätskurzbericht Haus Helena\n",
      "Qualitätskurzbericht Welterswald 2013\n",
      "Qualitätskurzbericht APH Dickmann\n",
      "Qualitätskurzbericht SZ Irmtraut\n",
      "Qualitätskurzbericht Haus Tannenhof\n",
      "Qualitätskurzbericht Schlossblick\n",
      "Qualitätskurzbericht St. Josef\n",
      "Qualitätskurzbericht AZURIT Hildegardis\n",
      "Qualitätskurzbericht GBH 2013\n",
      "Qualitätskurzbericht APH Hospitalfonds\n",
      "Qualitätskurzbericht Ignatius-Lötschert-Haus\n",
      "Qualitätskurzbericht DRK Sonnenhof\n",
      "Qualitätskurzbericht Am Kurpark\n",
      "Qualitätskurzbericht Casa Reha 2013\n",
      "Qualitätskurzbericht Am Merzenborn\n",
      "Qualitätskurzbericht Villa Sonnenmond\n",
      "Qualitaetsbericht2012MariavomSiege\n",
      "Qualitaetsbericht2012Theresiahaus\n",
      "Qualitätsbericht \n",
      "Qualitätskurzbericht HvB 2013\n",
      "Qualitätsbericht Seniorenzentrum Uhrturm Dierdorf\n",
      "Qualitätsbericht 2012 - Darstellender Teil\n",
      "Qualitätskurzbericht 2012 - Darstellender Teil\n",
      "QualitaetsberichtHausFranziskusOberwinter\n",
      "Qualitätsbericht Villa Moritz\n",
      "QualitaetskurzberichtStMartin\n",
      "Qualitaetsbericht2012\n",
      "Qualitätsbericht Haus Mutter Teresa\n",
      "Qualitätsbericht St. Josefshaus\n",
      "QualitaetskurzberichtDomizil2014\n",
      "Qualitätskurzbericht AWO BM\n",
      "Qualitaetsbericht-Therapiezentrum Bassenheim\n",
      "Qualitätskurzbericht Hofgut Adenroth\n",
      "Qualitaetskurzbericht2012HausBachtal\n",
      "Qualitätskurzbericht Haus Seeblick\n",
      "Qualitätsbericht 2012 - Darstellender Teil\n",
      "Qualitaetskurzbericht2013\n",
      "Qualitätskurzbericht WS Hachenburg\n",
      "Qualitätsbericht St. Josefshaus Hausen \n",
      "Qualitätsbericht 2012 - Darstellender Teil\n",
      "Qualitätsbericht FWS Haus Leutesdorf\n",
      "Qualitätskurzbericht CaseProject Selters\n",
      "QualitaestkurzberichtLebenshilfehaus\n",
      "Qualitätsbericht Haus Stockhausen\n",
      "Qualitätsbericht 2012 - Darstellender Teil\n",
      "Qualitätskurzbericht\n",
      "Qualitätskurzbericht\n",
      "Qualitätsbericht Haus Obentraut\n",
      "Qualitätskurzbericht\n",
      "Qualitätskurzbericht\n",
      "Qualitätsbericht DRK Seniorenheim Rheingrafenstein\n",
      "Qualitätsbericht Haus St. Josef\n",
      "Qualitätsbericht Senioren Domizil Wohnsiedler\n",
      "Qualitätsbericht Mainzer Altenheime\n",
      "Qualitätsbericht BruderKonradStift\n",
      "St.Bilhildis\n",
      "Qualitätsbericht DRK APH Worms\n",
      "Qualitätsbericht Caritas Burkhardhaus\n",
      "Qualitätsbericht Sophienstift Worms\n",
      "Qualitätsbericht Haus Michael\n",
      "Qualitätsbericht AZ Osthofen\n",
      "Qualitätskurzbericht\n",
      "Qualitätsbericht Johannes Centrum GmbH\n",
      "Qualitätsbericht Pro Seniore Residenz\n",
      "Qualitätsbericht Altenzentrum Oppenheim\n",
      "Qualitaetskurzbericht 2012\n"
     ]
    }
   ],
   "source": [
    "pdflinks = []\n",
    "for i in range(21000,22000): # we assume that the range is sufficient?\n",
    "    url = \"http://www.sozialportal.rlp.de/angebote-fuer-aeltere-und-pflegebeduerftige-menschen/wohnen-fuer-aeltere-und-pflegebeduerftige-menschen/profil-der-einrichtung.html?portal%5Beinrichtung%5D=\"+str(i)\n",
    "    request = Request(url)\n",
    "    request.add_header('From',\"vanessawormer@gmail.com\")\n",
    "    connection = urlopen(request)\n",
    "    data = connection.read()\n",
    "    page = BeautifulSoup(data)\n",
    "    div = page.find(\"div\", attrs = {\"class\":\"portal_area_detail_part\"})\n",
    "    if div:\n",
    "        link = div.find(\"a\")\n",
    "        if link:\n",
    "            filelink = \"http://www.sozialportal.rlp.de/\"+urllib.unquote( link.get(\"href\") ).replace( \"&amp;\",\"&\" ) # we have to decode the encoded URL...\n",
    "            filename = link.string\n",
    "            print filename\n",
    "            urllib.urlretrieve( filelink,\"awesomefiles/\"+filename+\".pdf\" ) #retrieve stores the pdfs in my awesomefiles folder\n",
    "            \n",
    "            pdflinks.append( filelink )\n",
    "                         "
   ]
  },
  {
   "cell_type": "code",
   "execution_count": 21,
   "metadata": {
    "collapsed": false
   },
   "outputs": [],
   "source": [
    "#pdflinks\n",
    "#import urllib\n",
    "#[ urllib.unquote( link ).replace( \"&amp;\",\"&\" )  for link in pdflinks]\n"
   ]
  },
  {
   "cell_type": "code",
   "execution_count": null,
   "metadata": {
    "collapsed": true
   },
   "outputs": [],
   "source": [
    "for link in pdflinks:\n",
    "    urllib.urlretrieve( link,\"qualitaetsbericht\"+\".pdf\" )"
   ]
  }
 ],
 "metadata": {
  "kernelspec": {
   "display_name": "Python 2",
   "language": "python",
   "name": "python2"
  },
  "language_info": {
   "codemirror_mode": {
    "name": "ipython",
    "version": 2
   },
   "file_extension": ".py",
   "mimetype": "text/x-python",
   "name": "python",
   "nbconvert_exporter": "python",
   "pygments_lexer": "ipython2",
   "version": "2.7.10"
  }
 },
 "nbformat": 4,
 "nbformat_minor": 0
}
