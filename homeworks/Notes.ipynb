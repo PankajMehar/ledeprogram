{
 "cells": [
  {
   "cell_type": "markdown",
   "metadata": {},
   "source": [
    "#How I Learn To Code In Columbia's Lede Program\n",
    "\n",
    "This is a IPython notebook build as a practice exercice in Columbia's Lede Program. \n",
    "\n",
    "\n",
    "#The Python Basics\n",
    "\n",
    "\n",
    "\n",
    "##Day 1: Data Type, Variables \n",
    "\n",
    "\n"
   ]
  },
  {
   "cell_type": "markdown",
   "metadata": {},
   "source": [
    "### DATA TYPES\n",
    "\n",
    "quoted texts are called strings\n",
    "\t"
   ]
  },
  {
   "cell_type": "code",
   "execution_count": 1,
   "metadata": {
    "collapsed": false
   },
   "outputs": [
    {
     "name": "stdout",
     "output_type": "stream",
     "text": [
      "Hello world!\n"
     ]
    }
   ],
   "source": [
    "print \"Hello world!\""
   ]
  },
  {
   "cell_type": "markdown",
   "metadata": {},
   "source": [
    "whole numbers are called integers"
   ]
  },
  {
   "cell_type": "code",
   "execution_count": 2,
   "metadata": {
    "collapsed": false
   },
   "outputs": [
    {
     "name": "stdout",
     "output_type": "stream",
     "text": [
      "10\n"
     ]
    }
   ],
   "source": [
    "print 10"
   ]
  },
  {
   "cell_type": "markdown",
   "metadata": {},
   "source": [
    "numbers with decimal points are called floats"
   ]
  },
  {
   "cell_type": "code",
   "execution_count": 3,
   "metadata": {
    "collapsed": false
   },
   "outputs": [
    {
     "name": "stdout",
     "output_type": "stream",
     "text": [
      "10.0\n"
     ]
    }
   ],
   "source": [
    "print 10.0"
   ]
  },
  {
   "cell_type": "markdown",
   "metadata": {},
   "source": [
    "### DOING ARITHMETIC\n",
    "\n",
    "(Using a ``#`` we can include comments. Comments are to clarify code and are not interpreted by Python.)"
   ]
  },
  {
   "cell_type": "code",
   "execution_count": 8,
   "metadata": {
    "collapsed": false
   },
   "outputs": [
    {
     "name": "stdout",
     "output_type": "stream",
     "text": [
      "20\n",
      "10 + 10\n",
      "10 Hello\n"
     ]
    },
    {
     "ename": "TypeError",
     "evalue": "unsupported operand type(s) for +: 'int' and 'str'",
     "output_type": "error",
     "traceback": [
      "\u001b[0;31m---------------------------------------------------------------------------\u001b[0m",
      "\u001b[0;31mTypeError\u001b[0m                                 Traceback (most recent call last)",
      "\u001b[0;32m<ipython-input-8-dc067debc1aa>\u001b[0m in \u001b[0;36m<module>\u001b[0;34m()\u001b[0m\n\u001b[1;32m      5\u001b[0m \u001b[0;32mprint\u001b[0m \u001b[0;36m10\u001b[0m\u001b[0;34m,\u001b[0m \u001b[0;34m\"Hello\"\u001b[0m \u001b[0;31m# This prints 10 Hello\u001b[0m\u001b[0;34m\u001b[0m\u001b[0m\n\u001b[1;32m      6\u001b[0m \u001b[0;34m\u001b[0m\u001b[0m\n\u001b[0;32m----> 7\u001b[0;31m \u001b[0;32mprint\u001b[0m \u001b[0;36m10\u001b[0m \u001b[0;34m+\u001b[0m \u001b[0;34m\"Hello\"\u001b[0m \u001b[0;31m# TypeError because \"Hello\" is a string, calculation is not possible\u001b[0m\u001b[0;34m\u001b[0m\u001b[0m\n\u001b[0m",
      "\u001b[0;31mTypeError\u001b[0m: unsupported operand type(s) for +: 'int' and 'str'"
     ]
    }
   ],
   "source": [
    "print 10 + 10 # This prints 20\n",
    "\n",
    "print \"10 + 10\" # This prints 10 + 10\n",
    "\n",
    "print 10, \"Hello\" # This prints 10 Hello\n",
    "\n",
    "print 10 + \"Hello\" # TypeError because \"Hello\" is a string, calculation is not possible"
   ]
  },
  {
   "cell_type": "markdown",
   "metadata": {},
   "source": [
    "With ``str`` we can make a string out of an integer and with ``int`` we can make an integer out of a string."
   ]
  },
  {
   "cell_type": "code",
   "execution_count": 9,
   "metadata": {
    "collapsed": false
   },
   "outputs": [
    {
     "name": "stdout",
     "output_type": "stream",
     "text": [
      "10Hello\n",
      "20\n"
     ]
    },
    {
     "ename": "ValueError",
     "evalue": "invalid literal for int() with base 10: 'Hello'",
     "output_type": "error",
     "traceback": [
      "\u001b[0;31m---------------------------------------------------------------------------\u001b[0m",
      "\u001b[0;31mValueError\u001b[0m                                Traceback (most recent call last)",
      "\u001b[0;32m<ipython-input-9-1ccdf3fea9b5>\u001b[0m in \u001b[0;36m<module>\u001b[0;34m()\u001b[0m\n\u001b[1;32m      3\u001b[0m \u001b[0;32mprint\u001b[0m \u001b[0;36m10\u001b[0m \u001b[0;34m+\u001b[0m \u001b[0mint\u001b[0m\u001b[0;34m(\u001b[0m\u001b[0;34m\"10\"\u001b[0m\u001b[0;34m)\u001b[0m \u001b[0;31m# This prints 20\u001b[0m\u001b[0;34m\u001b[0m\u001b[0m\n\u001b[1;32m      4\u001b[0m \u001b[0;34m\u001b[0m\u001b[0m\n\u001b[0;32m----> 5\u001b[0;31m \u001b[0;32mprint\u001b[0m \u001b[0;36m10\u001b[0m \u001b[0;34m+\u001b[0m \u001b[0mint\u001b[0m\u001b[0;34m(\u001b[0m\u001b[0;34m\"Hello\"\u001b[0m\u001b[0;34m)\u001b[0m \u001b[0;31m# ValueError, because \"Hello\" is a string\u001b[0m\u001b[0;34m\u001b[0m\u001b[0m\n\u001b[0m",
      "\u001b[0;31mValueError\u001b[0m: invalid literal for int() with base 10: 'Hello'"
     ]
    }
   ],
   "source": [
    "print str(10) + \"Hello\" # This prints 10Hello \n",
    "\n",
    "print 10 + int(\"10\") # This prints 20\n",
    "\n",
    "print 10 + int(\"Hello\") # ValueError, because \"Hello\" is a string"
   ]
  },
  {
   "cell_type": "markdown",
   "metadata": {},
   "source": [
    "### VARIABLES"
   ]
  },
  {
   "cell_type": "code",
   "execution_count": 10,
   "metadata": {
    "collapsed": false
   },
   "outputs": [
    {
     "name": "stdout",
     "output_type": "stream",
     "text": [
      "Vanessa\n"
     ]
    }
   ],
   "source": [
    "name = \"Vanessa\"\n",
    "print name"
   ]
  },
  {
   "cell_type": "markdown",
   "metadata": {},
   "source": [
    "###FUNCTIONS\n",
    "\n",
    "``raw_input()`` and ``int()``are functions"
   ]
  },
  {
   "cell_type": "markdown",
   "metadata": {},
   "source": [
    "We ask the user for a name."
   ]
  },
  {
   "cell_type": "code",
   "execution_count": 11,
   "metadata": {
    "collapsed": false
   },
   "outputs": [
    {
     "name": "stdout",
     "output_type": "stream",
     "text": [
      "Enter your name: Vanessa\n",
      "Hello, Vanessa\n"
     ]
    }
   ],
   "source": [
    "name = raw_input(\"Enter your name: \")\n",
    "print \"Hello,\",name"
   ]
  },
  {
   "cell_type": "markdown",
   "metadata": {},
   "source": [
    "We can calculate the user's age by asking for his year of birth."
   ]
  },
  {
   "cell_type": "code",
   "execution_count": 1,
   "metadata": {
    "collapsed": false
   },
   "outputs": [
    {
     "name": "stdout",
     "output_type": "stream",
     "text": [
      "Enter your year of birth: 1987\n",
      "You are approximately 28 years old.\n"
     ]
    }
   ],
   "source": [
    "year_of_birth = raw_input(\"Enter your year of birth: \")\n",
    "age = 2015 - int(year_of_birth)\n",
    "print \"You are approximately\", age, \"years old.\""
   ]
  },
  {
   "cell_type": "markdown",
   "metadata": {},
   "source": [
    "##Day 2: Dictionaries, Lists, Functions and Methods"
   ]
  },
  {
   "cell_type": "markdown",
   "metadata": {},
   "source": [
    "### DICTIONARY\n",
    "\n",
    "We can make a dictionary using ``{}``.\n",
    "\n",
    "A dictionary consists of keys and values."
   ]
  },
  {
   "cell_type": "code",
   "execution_count": 3,
   "metadata": {
    "collapsed": false
   },
   "outputs": [
    {
     "name": "stdout",
     "output_type": "stream",
     "text": [
      "Manhattan\n"
     ]
    }
   ],
   "source": [
    "me = {'name': 'Vanessa', 'city': 'Manhattan', 'age': 27} \n",
    "print me['city']"
   ]
  },
  {
   "cell_type": "code",
   "execution_count": 4,
   "metadata": {
    "collapsed": false
   },
   "outputs": [
    {
     "name": "stdout",
     "output_type": "stream",
     "text": [
      "Four years ago I was 23 years old.\n"
     ]
    }
   ],
   "source": [
    "# 4 years ago I was 23\n",
    "print \"Four years ago I was\", me['age'] - 4, \"years old.\""
   ]
  },
  {
   "cell_type": "markdown",
   "metadata": {},
   "source": [
    "With the ``.keys`` function we can asks for the keys of a dictionary.\n",
    "\n",
    "With the ``type`` function we can ask for the data type."
   ]
  },
  {
   "cell_type": "code",
   "execution_count": 6,
   "metadata": {
    "collapsed": false
   },
   "outputs": [
    {
     "name": "stdout",
     "output_type": "stream",
     "text": [
      "Obama became president in 2009\n",
      "Bush became president in 1989\n",
      "['Clinton', 'Carter', 'Reagan', 'Bush', 'Bush2', 'Obama']\n",
      "<type 'dict'>\n",
      "<type 'str'>\n",
      "<type 'list'>\n"
     ]
    }
   ],
   "source": [
    "presidents = {\n",
    "\"Obama\": 2009,\n",
    "\"Bush2\" : 2001,\n",
    "\"Clinton\": 1993,\n",
    "\"Bush\": 1989,\n",
    "\"Reagan\": 1981,\n",
    "\"Carter\": 1977\n",
    "}\n",
    "\n",
    "print \"Obama became president in\", presidents[\"Obama\"]\n",
    "\n",
    "print \"Bush became president in\", presidents[\"Bush\"]\n",
    "\n",
    "print presidents.keys() # We get a list.\n",
    "\n",
    "print type(presidents)\n",
    "print type(\"Hello\")\n",
    "print type(presidents.keys())"
   ]
  },
  {
   "cell_type": "markdown",
   "metadata": {},
   "source": [
    "### LISTS"
   ]
  },
  {
   "cell_type": "markdown",
   "metadata": {},
   "source": [
    "We can build a list using [ ]."
   ]
  },
  {
   "cell_type": "code",
   "execution_count": 7,
   "metadata": {
    "collapsed": false
   },
   "outputs": [
    {
     "name": "stdout",
     "output_type": "stream",
     "text": [
      "<type 'list'>\n"
     ]
    }
   ],
   "source": [
    "years = [4, 20, 6, 0, 20, 5, 1, 3, 1, 0, 7, 2, 1.5, 11, 0, 15, 2, 2, 10, 0]\n",
    "\n",
    "print type(years)"
   ]
  },
  {
   "cell_type": "markdown",
   "metadata": {},
   "source": [
    "Using the ``len`` function we get the amount of values in the list. Further we can use ``max``, ``min``, ``sum`` functions to make some calculations."
   ]
  },
  {
   "cell_type": "code",
   "execution_count": 8,
   "metadata": {
    "collapsed": false
   },
   "outputs": [
    {
     "name": "stdout",
     "output_type": "stream",
     "text": [
      "there are 20 elements in years\n",
      "the last number in the list is 0\n",
      "0\n",
      "20\n",
      "0\n",
      "110.5\n",
      "5.525\n",
      "2\n"
     ]
    }
   ],
   "source": [
    "print \"there are\", len(years), \"elements in years\"\n",
    "print \"the last number in the list is\", years[19]\n",
    "\n",
    "print years[len(years) - 1]\n",
    "\n",
    "print max(years)\n",
    "print min(years)\n",
    "print sum(years)\n",
    "print sum(years)/len(years)\n",
    "print years[11]"
   ]
  },
  {
   "cell_type": "markdown",
   "metadata": {},
   "source": [
    "And python also can sort the list for us - just use the ``sorted`` function."
   ]
  },
  {
   "cell_type": "code",
   "execution_count": 9,
   "metadata": {
    "collapsed": false
   },
   "outputs": [
    {
     "name": "stdout",
     "output_type": "stream",
     "text": [
      "here are the sorted years [0, 0, 0, 0, 1, 1, 1.5, 2, 2, 2, 3, 4, 5, 6, 7, 10, 11, 15, 20, 20]\n",
      "years is still unsorted [4, 20, 6, 0, 20, 5, 1, 3, 1, 0, 7, 2, 1.5, 11, 0, 15, 2, 2, 10, 0]\n"
     ]
    }
   ],
   "source": [
    "sorted_years = sorted(years)\n",
    "print \"here are the sorted years\", sorted_years\n",
    "print \"years is still unsorted\", years "
   ]
  },
  {
   "cell_type": "markdown",
   "metadata": {},
   "source": [
    "Instead of the function we can also use a method for sorting: ``sorted[ ]``"
   ]
  },
  {
   "cell_type": "code",
   "execution_count": 14,
   "metadata": {
    "collapsed": false
   },
   "outputs": [
    {
     "name": "stdout",
     "output_type": "stream",
     "text": [
      "[0, 0, 0, 0, 1, 1, 1.5, 2, 2, 2, 3, 4, 5, 6, 7, 10, 11, 15, 20, 20]\n",
      "3\n"
     ]
    }
   ],
   "source": [
    "print sorted_years\n",
    "print sorted_years[10]"
   ]
  },
  {
   "cell_type": "markdown",
   "metadata": {},
   "source": [
    "Let's add a color to colors using the ``.append`` method:"
   ]
  },
  {
   "cell_type": "code",
   "execution_count": 13,
   "metadata": {
    "collapsed": false
   },
   "outputs": [
    {
     "name": "stdout",
     "output_type": "stream",
     "text": [
      "red\n",
      "blue\n",
      "yellow\n",
      "green\n",
      "['red', 'blue', 'yellow', 'green', 'purple']\n"
     ]
    }
   ],
   "source": [
    "colors = [\"red\", \"blue\", \"yellow\", \"green\"]\n",
    "\n",
    "print colors[0]\n",
    "print colors[1]\n",
    "print colors[2]\n",
    "print colors[3]\n",
    "\n",
    "colors.append(\"purple\")\n",
    "print colors\n"
   ]
  },
  {
   "cell_type": "markdown",
   "metadata": {},
   "source": [
    "## Day 3: For Loops, If Statements\n",
    "\n",
    "### FOR LOOPS\n",
    "\n",
    "You will love for loops. Someday.\n",
    "\n",
    "Python’s for statement iterates over the items of any sequence (a list or a string), in the order that they appear in the sequence.\n"
   ]
  },
  {
   "cell_type": "code",
   "execution_count": 19,
   "metadata": {
    "collapsed": false
   },
   "outputs": [
    {
     "name": "stdout",
     "output_type": "stream",
     "text": [
      "red is 3 letters long\n",
      "blue is 4 letters long\n",
      "yellow is 6 letters long\n",
      "green is 5 letters long\n",
      "purple is 6 letters long\n"
     ]
    }
   ],
   "source": [
    "for color in colors:\n",
    "    print color, \"is\", len(color), \"letters long\""
   ]
  },
  {
   "cell_type": "markdown",
   "metadata": {},
   "source": [
    "### IF STATEMENTS"
   ]
  },
  {
   "cell_type": "code",
   "execution_count": 40,
   "metadata": {
    "collapsed": false
   },
   "outputs": [
    {
     "name": "stdout",
     "output_type": "stream",
     "text": [
      "0\n",
      "1\n",
      "1\n",
      "1\n",
      "2\n"
     ]
    }
   ],
   "source": [
    "dogs = [\n",
    "{ 'dog_name': 'Harry' },\n",
    "{ 'dog_name': 'Trouble' },\n",
    "{ 'dog_name': 'Toyota' },\n",
    "{ 'dog_name': 'Brenda' },\n",
    "{ 'dog_name': 'Trouble' }\n",
    "]\n",
    "\n",
    "results = 0\n",
    "for dog in dogs:\n",
    "    if dog[\"dog_name\"] == \"Trouble\":\n",
    "        results = results + 1 \n",
    "    print results"
   ]
  },
  {
   "cell_type": "code",
   "execution_count": null,
   "metadata": {
    "collapsed": true
   },
   "outputs": [],
   "source": []
  }
 ],
 "metadata": {
  "kernelspec": {
   "display_name": "Python 2",
   "language": "python",
   "name": "python2"
  },
  "language_info": {
   "codemirror_mode": {
    "name": "ipython",
    "version": 2
   },
   "file_extension": ".py",
   "mimetype": "text/x-python",
   "name": "python",
   "nbconvert_exporter": "python",
   "pygments_lexer": "ipython2",
   "version": "2.7.8"
  }
 },
 "nbformat": 4,
 "nbformat_minor": 0
}
