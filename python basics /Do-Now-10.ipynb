{
 "cells": [
  {
   "cell_type": "markdown",
   "metadata": {},
   "source": [
    "# Do Now\n",
    "\n",
    "Monday, June 29, 2015\n",
    "\n",
    "## Reviewing: functions, lists\n"
   ]
  },
  {
   "cell_type": "markdown",
   "metadata": {},
   "source": [
    "# 1. Write a function called is_even that returns whether a value is even or not."
   ]
  },
  {
   "cell_type": "code",
   "execution_count": 2,
   "metadata": {
    "collapsed": false
   },
   "outputs": [
    {
     "name": "stdout",
     "output_type": "stream",
     "text": [
      "odd\n"
     ]
    }
   ],
   "source": [
    "def is_even(value):\n",
    "    if value % 2 == 0:\n",
    "        return \"even\"\n",
    "    else:\n",
    "        return \"odd\"\n",
    "\n",
    "print is_even(5)"
   ]
  },
  {
   "cell_type": "markdown",
   "metadata": {},
   "source": [
    "# 2. Add together the second and fourth members of the list below."
   ]
  },
  {
   "cell_type": "code",
   "execution_count": 29,
   "metadata": {
    "collapsed": false
   },
   "outputs": [
    {
     "name": "stdout",
     "output_type": "stream",
     "text": [
      "144.0\n"
     ]
    }
   ],
   "source": [
    "num = [4, 99, 32.0, 45.0, 2 ]\n",
    "\n",
    "print num[1] + num[3]"
   ]
  },
  {
   "cell_type": "markdown",
   "metadata": {},
   "source": [
    "# 3. Count the number of Democrats that represent New York State in the Senate."
   ]
  },
  {
   "cell_type": "code",
   "execution_count": 38,
   "metadata": {
    "collapsed": false
   },
   "outputs": [
    {
     "name": "stdout",
     "output_type": "stream",
     "text": [
      "2\n"
     ]
    }
   ],
   "source": [
    "senators = [\n",
    "{ 'name': 'Gillibrand', 'party': 'Democrat' },\n",
    "{ 'name': 'Schumer', 'party': 'Democrat' }\n",
    "]\n",
    "\n",
    "parties = [senator['party'] for senator in senators]\n",
    "print len(parties)"
   ]
  },
  {
   "cell_type": "markdown",
   "metadata": {},
   "source": [
    "# 4a. Using the code below, make a list of all of the Supreme Court Justices' names. "
   ]
  },
  {
   "cell_type": "code",
   "execution_count": 32,
   "metadata": {
    "collapsed": false
   },
   "outputs": [
    {
     "data": {
      "text/plain": [
       "['Scalia',\n",
       " 'Kennedy',\n",
       " 'Ginsburg',\n",
       " 'Kagan',\n",
       " 'Roberts',\n",
       " 'Alito',\n",
       " 'Thomas',\n",
       " 'Breyer',\n",
       " 'Sotomayor']"
      ]
     },
     "execution_count": 32,
     "metadata": {},
     "output_type": "execute_result"
    }
   ],
   "source": [
    "justices = [{ 'name': 'Scalia', 'vote': 'dissent' }, { 'name': 'Kennedy', 'vote': 'majority' }, { 'name': 'Ginsburg', 'vote': 'majority' }, { 'name': 'Kagan', 'vote': 'majority' }, { 'name': 'Roberts', 'vote': 'dissent' }, { 'name': 'Alito', 'vote': 'dissent' }, { 'name': 'Thomas', 'vote': 'dissent' }, { 'name': 'Breyer', 'vote': 'majority' }, { 'name': 'Sotomayor', 'vote': 'majority' } ]\n",
    "\n",
    "names = []\n",
    "[justice['name'] for justice in justices]\n"
   ]
  },
  {
   "cell_type": "markdown",
   "metadata": {},
   "source": [
    "# 4b. Using a single list comprehension, list only the judges who sided with the majority opinion. "
   ]
  },
  {
   "cell_type": "code",
   "execution_count": 33,
   "metadata": {
    "collapsed": false
   },
   "outputs": [
    {
     "ename": "SyntaxError",
     "evalue": "invalid syntax (<ipython-input-33-58c70f14f887>, line 2)",
     "output_type": "error",
     "traceback": [
      "\u001b[0;36m  File \u001b[0;32m\"<ipython-input-33-58c70f14f887>\"\u001b[0;36m, line \u001b[0;32m2\u001b[0m\n\u001b[0;31m    [if justice['vote'] == 'majority' for just in justices]\u001b[0m\n\u001b[0m      ^\u001b[0m\n\u001b[0;31mSyntaxError\u001b[0m\u001b[0;31m:\u001b[0m invalid syntax\n"
     ]
    }
   ],
   "source": [
    "majority = []\n",
    "[justice['name'] for justice in justices if justice['vote'] == "
   ]
  },
  {
   "cell_type": "code",
   "execution_count": null,
   "metadata": {
    "collapsed": true
   },
   "outputs": [],
   "source": []
  }
 ],
 "metadata": {
  "kernelspec": {
   "display_name": "Python 2",
   "language": "python",
   "name": "python2"
  },
  "language_info": {
   "codemirror_mode": {
    "name": "ipython",
    "version": 2
   },
   "file_extension": ".py",
   "mimetype": "text/x-python",
   "name": "python",
   "nbconvert_exporter": "python",
   "pygments_lexer": "ipython2",
   "version": "2.7.10"
  }
 },
 "nbformat": 4,
 "nbformat_minor": 0
}
