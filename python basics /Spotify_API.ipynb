{
 "cells": [
  {
   "cell_type": "markdown",
   "metadata": {},
   "source": [
    "# Working with Spotify's API\n",
    "\n",
    "The streaming music service Spotify has a nice, API that doesn't even require a key to access! Documentation is at https://developer.spotify.com/web-api/endpoint-reference/\n",
    "\n",
    "\n",
    "# 1. The right-hand column says what kind of authentication you need for the request. What's \"OAuth\"? Does it sound appealing?\n",
    "\n",
    "OAuth is an open standard for authorization. \n",
    "\n",
    "# 2. If I had an album with the ID 2hzFRVGr7Y2Lc78ymABtyv, what URL would I visit in order to get information about it?\n",
    "\n",
    "GET https://api.spotify.com/v1/albums/2hzFRVGr7Y2Lc78ymABtyv\n"
   ]
  },
  {
   "cell_type": "markdown",
   "metadata": {},
   "source": [
    "# 3. Using the API, find Taylor Swift's artist ID."
   ]
  },
  {
   "cell_type": "code",
   "execution_count": 161,
   "metadata": {
    "collapsed": false
   },
   "outputs": [],
   "source": [
    "import requests\n",
    "\n",
    "url = \"https://api.spotify.com/v1/search?q=taylor%20swift&type=artist\"\n",
    "\n",
    "response = requests.get(url)\n",
    "data = response.json()"
   ]
  },
  {
   "cell_type": "code",
   "execution_count": 162,
   "metadata": {
    "collapsed": false
   },
   "outputs": [
    {
     "data": {
      "text/plain": [
       "u'06HL4z0CvFAxyc27GXpf02'"
      ]
     },
     "execution_count": 162,
     "metadata": {},
     "output_type": "execute_result"
    }
   ],
   "source": [
    "data[\"artists\"][\"items\"][0][\"id\"]"
   ]
  },
  {
   "cell_type": "markdown",
   "metadata": {},
   "source": [
    "# 4. Write a function called get_artist_id that takes a search term and returns the artist ID of the first result."
   ]
  },
  {
   "cell_type": "code",
   "execution_count": 163,
   "metadata": {
    "collapsed": false
   },
   "outputs": [
    {
     "data": {
      "text/plain": [
       "u'06HL4z0CvFAxyc27GXpf02'"
      ]
     },
     "execution_count": 163,
     "metadata": {},
     "output_type": "execute_result"
    }
   ],
   "source": [
    "def get_artist_id(name):\n",
    "    url = \"https://api.spotify.com/v1/search?q=\"+name+\"&type=artist\"\n",
    "    response = requests.get(url)\n",
    "    data = response.json()\n",
    "    return data[\"artists\"][\"items\"][0][\"id\"]\n",
    "\n",
    "get_artist_id(\"Taylor Swift\")"
   ]
  },
  {
   "cell_type": "markdown",
   "metadata": {},
   "source": [
    "# 5. Make an alphabetized list of Taylor Swift's album titles. "
   ]
  },
  {
   "cell_type": "code",
   "execution_count": 170,
   "metadata": {
    "collapsed": false
   },
   "outputs": [],
   "source": [
    "url = \"https://api.spotify.com/v1/artists/06HL4z0CvFAxyc27GXpf02/albums\"\n",
    "response = requests.get(url)\n",
    "data = response.json()"
   ]
  },
  {
   "cell_type": "code",
   "execution_count": 171,
   "metadata": {
    "collapsed": false
   },
   "outputs": [
    {
     "data": {
      "text/plain": [
       "u'Today Was a Fairytale (From \"Valentine\\'s Day\") [Piano Version]'"
      ]
     },
     "execution_count": 171,
     "metadata": {},
     "output_type": "execute_result"
    }
   ],
   "source": [
    "data[\"items\"][0][\"name\"]"
   ]
  },
  {
   "cell_type": "code",
   "execution_count": 172,
   "metadata": {
    "collapsed": false
   },
   "outputs": [
    {
     "data": {
      "text/plain": [
       "[u'After The Storm',\n",
       " u'Country Hits 2014',\n",
       " u'Impreska Vol. 12',\n",
       " u'Lo M\\xe1s 40',\n",
       " u'Los N\\xba1 de 40 Principales (2013)',\n",
       " u'Multishow Ao Vivo Paula Fernandes - Um Ser Amor (Deluxe Version / Multishow Ao Vivo / 2013)',\n",
       " u'One Chance (Original Motion Picture Soundtrack)',\n",
       " u'Shake It Off (Piano Version)',\n",
       " u'Simon Mayo\\u2019s Drivetime',\n",
       " u'Strange Clouds',\n",
       " u'Today Was a Fairytale (From \"Valentine\\'s Day\") [Piano Version]',\n",
       " u'Two Lanes Of Freedom',\n",
       " u'Two Lanes Of Freedom (Accelerated Deluxe)',\n",
       " u'VTM Kzoom 2013-1']"
      ]
     },
     "execution_count": 172,
     "metadata": {},
     "output_type": "execute_result"
    }
   ],
   "source": [
    "list = [d[\"name\"] for d in data[\"items\"]]\n",
    "sorted(set(list))"
   ]
  },
  {
   "cell_type": "markdown",
   "metadata": {},
   "source": [
    "# 6. How many of Taylor Swift's related artists have \"teen pop\" as one of their genres?  You can just print their names if you'd like."
   ]
  },
  {
   "cell_type": "code",
   "execution_count": 173,
   "metadata": {
    "collapsed": false
   },
   "outputs": [],
   "source": [
    "url = \"https://api.spotify.com/v1/artists/06HL4z0CvFAxyc27GXpf02/related-artists\"\n",
    "response = requests.get(url)\n",
    "data = response.json()\n",
    "artists = data[\"artists\"]"
   ]
  },
  {
   "cell_type": "code",
   "execution_count": 174,
   "metadata": {
    "collapsed": false
   },
   "outputs": [
    {
     "data": {
      "text/plain": [
       "[u'Miley Cyrus',\n",
       " u'Demi Lovato',\n",
       " u'Katy Perry',\n",
       " u'Hilary Duff',\n",
       " u'Justin Bieber',\n",
       " u'Jonas Brothers']"
      ]
     },
     "execution_count": 174,
     "metadata": {},
     "output_type": "execute_result"
    }
   ],
   "source": [
    "[d[\"name\"] for d in artists if \"teen pop\" in d[\"genres\"]]"
   ]
  },
  {
   "cell_type": "markdown",
   "metadata": {},
   "source": [
    "# 7. The hip-hop group N.W.A. was made out of five members: DJ Yella, Dr. Dre, Eazy-E, Ice Cube and MC Ren. Create a list of their names, then use a list comprehension and your function from 4 to make a list of their artist IDs (treat N.W.A. as a member)."
   ]
  },
  {
   "cell_type": "code",
   "execution_count": 175,
   "metadata": {
    "collapsed": true
   },
   "outputs": [],
   "source": [
    "nwa = [\"N.W.A\", \"DJ Yella\", \"Dr. Dre\", \"Eazy-E\", \"Ice Cube\", \"MC Ren\"]"
   ]
  },
  {
   "cell_type": "code",
   "execution_count": 224,
   "metadata": {
    "collapsed": false
   },
   "outputs": [
    {
     "data": {
      "text/plain": [
       "[u'4EnEZVjo3w1cwcQYePccay',\n",
       " u'1Wfh3Tz3xOB4JjqTk2zT5K',\n",
       " u'6DPYiyq5kWVQS4RGwxzPC7',\n",
       " u'7B4hKK0S9QYnaoqa9OuwgX',\n",
       " u'3Mcii5XWf6E0lrY3Uky4cA',\n",
       " u'4fbyGOEjViyE97W58eGEgU']"
      ]
     },
     "execution_count": 224,
     "metadata": {},
     "output_type": "execute_result"
    }
   ],
   "source": [
    "ids = [get_artist_id(n) for n in nwa]\n",
    "ids"
   ]
  },
  {
   "cell_type": "markdown",
   "metadata": {},
   "source": [
    "# 8. Using the multiple artists API endpoint, print out each member of N.W.A and their follower count."
   ]
  },
  {
   "cell_type": "code",
   "execution_count": 226,
   "metadata": {
    "collapsed": false
   },
   "outputs": [
    {
     "name": "stdout",
     "output_type": "stream",
     "text": [
      "N.W.A. 138313\n",
      "DJ Yella 173\n",
      "Dr. Dre 676645\n",
      "Eazy-E 113404\n",
      "Ice Cube 309276\n",
      "MC Ren 5767\n"
     ]
    }
   ],
   "source": [
    "for id in ids:\n",
    "    url = \"https://api.spotify.com/v1/artists/?ids=\" + id\n",
    "    response = requests.get(url)\n",
    "    data = response.json()\n",
    "    print data['artists'][0]['name'],data['artists'][0]['followers']['total']"
   ]
  },
  {
   "cell_type": "markdown",
   "metadata": {},
   "source": [
    "# 9. Using the top tracks API endpoint and the popularity measure, how do the artists compare within each other and to N.W.A itself?"
   ]
  },
  {
   "cell_type": "code",
   "execution_count": 227,
   "metadata": {
    "collapsed": false
   },
   "outputs": [
    {
     "name": "stdout",
     "output_type": "stream",
     "text": [
      "69 N.W.A.\n",
      "17 DJ Yella\n",
      "75 Dr. Dre\n",
      "63 Eazy-E\n",
      "71 Ice Cube\n",
      "40 MC Ren\n"
     ]
    }
   ],
   "source": [
    "for id in ids:\n",
    "    url = \"https://api.spotify.com/v1/artists/\"+ id +\"/top-tracks?country=SE\"\n",
    "    response = requests.get(url)\n",
    "    data = response.json()\n",
    "    print data['tracks'][0][\"popularity\"], data['tracks'][0]['artists'][0]['name']"
   ]
  },
  {
   "cell_type": "markdown",
   "metadata": {},
   "source": [
    "# 10. Create a function that takes an artist ID and returns the median popularity of their top tracks (use NumPy!). Use that function to find out which member of N.W.A. had the highest average performance.\n",
    "\n"
   ]
  },
  {
   "cell_type": "code",
   "execution_count": 235,
   "metadata": {
    "collapsed": false
   },
   "outputs": [
    {
     "name": "stdout",
     "output_type": "stream",
     "text": [
      "26.5\n"
     ]
    }
   ],
   "source": [
    "import numpy\n",
    "\n",
    "def popularity(ID):\n",
    "    url = \"https://api.spotify.com/v1/artists/\" + id + \"/top-tracks?country=SE\"\n",
    "    response = requests.get(url)\n",
    "    data = response.json()\n",
    "    pop = [info['popularity'] for info in data['tracks']]\n",
    "    return numpy.median(pop)\n",
    "print popularity('1Wfh3Tz3xOB4JjqTk2zT5K')"
   ]
  }
 ],
 "metadata": {
  "kernelspec": {
   "display_name": "Python 2",
   "language": "python",
   "name": "python2"
  },
  "language_info": {
   "codemirror_mode": {
    "name": "ipython",
    "version": 2
   },
   "file_extension": ".py",
   "mimetype": "text/x-python",
   "name": "python",
   "nbconvert_exporter": "python",
   "pygments_lexer": "ipython2",
   "version": "2.7.10"
  }
 },
 "nbformat": 4,
 "nbformat_minor": 0
}
