{
 "cells": [
  {
   "cell_type": "markdown",
   "metadata": {},
   "source": [
    "# Working with the The New York Times' APIs\n",
    "\n",
    "http://developer.nytimes.com"
   ]
  },
  {
   "cell_type": "code",
   "execution_count": 1,
   "metadata": {
    "collapsed": true
   },
   "outputs": [],
   "source": [
    "import urllib2\n",
    "import json"
   ]
  },
  {
   "cell_type": "markdown",
   "metadata": {
    "collapsed": true
   },
   "source": [
    "# 1. What books topped the NYT best-sellers list on your birthday in 2009?"
   ]
  },
  {
   "cell_type": "code",
   "execution_count": 2,
   "metadata": {
    "collapsed": true
   },
   "outputs": [],
   "source": [
    "url_books = \"http://api.nytimes.com/svc/books/v3/lists/2009-09-26/hardcover-fiction.json?&api-key=ce80414991af0079fab0d883bee2b9c0:17:72421670\""
   ]
  },
  {
   "cell_type": "code",
   "execution_count": 3,
   "metadata": {
    "collapsed": false
   },
   "outputs": [
    {
     "data": {
      "text/plain": [
       "'http://api.nytimes.com/svc/books/v3/lists/2009-09-26/hardcover-fiction.json?&api-key=ce80414991af0079fab0d883bee2b9c0:17:72421670'"
      ]
     },
     "execution_count": 3,
     "metadata": {},
     "output_type": "execute_result"
    }
   ],
   "source": [
    "url_books"
   ]
  },
  {
   "cell_type": "code",
   "execution_count": 4,
   "metadata": {
    "collapsed": false
   },
   "outputs": [],
   "source": [
    "response = urllib2.urlopen(url_books)\n",
    "contents = response.read()"
   ]
  },
  {
   "cell_type": "code",
   "execution_count": 5,
   "metadata": {
    "collapsed": false
   },
   "outputs": [
    {
     "data": {
      "text/plain": [
       "[u'status', u'last_modified', u'num_results', u'results', u'copyright']"
      ]
     },
     "execution_count": 5,
     "metadata": {},
     "output_type": "execute_result"
    }
   ],
   "source": [
    "data = json.loads(contents)\n",
    "data.keys()"
   ]
  },
  {
   "cell_type": "code",
   "execution_count": 6,
   "metadata": {
    "collapsed": false
   },
   "outputs": [
    {
     "data": {
      "text/plain": [
       "[u'THE LAST SONG',\n",
       " u'SOUTH OF BROAD',\n",
       " u'THE HELP',\n",
       " u'ALEX CROSS\\u2019S \\u2018TRIAL\\u2019',\n",
       " u'SPARTAN GOLD',\n",
       " u'DARK SLAYER',\n",
       " u'THE WHITE QUEEN',\n",
       " u'DEXTER BY DESIGN',\n",
       " u'THE GIRL WHO PLAYED WITH FIRE',\n",
       " u'DEAD AND GONE',\n",
       " u'A GATE AT THE STAIRS',\n",
       " u'206 BONES',\n",
       " u'HOMER & LANGLEY',\n",
       " u'THE ELEVENTH VICTIM',\n",
       " u'THAT OLD CAPE MAGIC',\n",
       " u'THE GOLDEN CITY',\n",
       " u'THE HOST',\n",
       " u'THE SPIRE',\n",
       " u'DAY AFTER NIGHT',\n",
       " u'EVEN MONEY']"
      ]
     },
     "execution_count": 6,
     "metadata": {},
     "output_type": "execute_result"
    }
   ],
   "source": [
    "[book['title'] for book in data['results']['books']]"
   ]
  },
  {
   "cell_type": "markdown",
   "metadata": {},
   "source": [
    "# 2. Muammar Gaddafi's name can be transliterated many many ways. There are a million and one versions used for his last name - Gadafi, Gaddafi, Kadafi, and Qaddafi to name a few. How many times has the New York Times referred to him by each of those names?"
   ]
  },
  {
   "cell_type": "code",
   "execution_count": 7,
   "metadata": {
    "collapsed": true
   },
   "outputs": [],
   "source": [
    "api_key = \"6df4165384263aabcda090938bd2872c:8:72421670\""
   ]
  },
  {
   "cell_type": "code",
   "execution_count": 8,
   "metadata": {
    "collapsed": true
   },
   "outputs": [],
   "source": [
    "url_gadafi = \"http://api.nytimes.com/svc/search/v2/articlesearch.json?q=Gadafi+Libya&api-key=ffaf60d7d82258e112dd4fb2b5e4e2d6:3:72421680\""
   ]
  },
  {
   "cell_type": "code",
   "execution_count": 9,
   "metadata": {
    "collapsed": false
   },
   "outputs": [],
   "source": [
    "response = urllib2.urlopen(url_gadafi)\n",
    "contents = response.read()"
   ]
  },
  {
   "cell_type": "code",
   "execution_count": 10,
   "metadata": {
    "collapsed": false
   },
   "outputs": [
    {
     "data": {
      "text/plain": [
       "0"
      ]
     },
     "execution_count": 10,
     "metadata": {},
     "output_type": "execute_result"
    }
   ],
   "source": [
    "data = json.loads(contents)\n",
    "data['response']['meta']['hits']"
   ]
  },
  {
   "cell_type": "code",
   "execution_count": 11,
   "metadata": {
    "collapsed": true
   },
   "outputs": [],
   "source": [
    "url_gaddafi = \"http://api.nytimes.com/svc/search/v2/articlesearch.json?q=Gaddafi+Libya&api-key=ffaf60d7d82258e112dd4fb2b5e4e2d6:3:72421680\""
   ]
  },
  {
   "cell_type": "code",
   "execution_count": 12,
   "metadata": {
    "collapsed": false
   },
   "outputs": [
    {
     "data": {
      "text/plain": [
       "799"
      ]
     },
     "execution_count": 12,
     "metadata": {},
     "output_type": "execute_result"
    }
   ],
   "source": [
    "response = urllib2.urlopen(url_gaddafi)\n",
    "contents = response.read()\n",
    "data = json.loads(contents)\n",
    "data['response']['meta']['hits']"
   ]
  },
  {
   "cell_type": "code",
   "execution_count": 127,
   "metadata": {
    "collapsed": true
   },
   "outputs": [],
   "source": [
    "url_kadafi = \"http://api.nytimes.com/svc/search/v2/articlesearch.json?q=Kadafi+Libya&api-key=ffaf60d7d82258e112dd4fb2b5e4e2d6:3:72421680\""
   ]
  },
  {
   "cell_type": "code",
   "execution_count": 128,
   "metadata": {
    "collapsed": false
   },
   "outputs": [
    {
     "data": {
      "text/plain": [
       "4"
      ]
     },
     "execution_count": 128,
     "metadata": {},
     "output_type": "execute_result"
    }
   ],
   "source": [
    "response = urllib2.urlopen(url_kadafi)\n",
    "contents = response.read()\n",
    "data = json.loads(contents)\n",
    "data['response']['meta']['hits']"
   ]
  },
  {
   "cell_type": "code",
   "execution_count": 129,
   "metadata": {
    "collapsed": true
   },
   "outputs": [],
   "source": [
    "url_qaddafi = \"http://api.nytimes.com/svc/search/v2/articlesearch.json?q=Qaddafi+Libya&api-key=ffaf60d7d82258e112dd4fb2b5e4e2d6:3:72421680\""
   ]
  },
  {
   "cell_type": "code",
   "execution_count": 130,
   "metadata": {
    "collapsed": false
   },
   "outputs": [
    {
     "data": {
      "text/plain": [
       "5644"
      ]
     },
     "execution_count": 130,
     "metadata": {},
     "output_type": "execute_result"
    }
   ],
   "source": [
    "response = urllib2.urlopen(url_qaddafi)\n",
    "contents = response.read()\n",
    "data = json.loads(contents)\n",
    "data['response']['meta']['hits']"
   ]
  },
  {
   "cell_type": "markdown",
   "metadata": {},
   "source": [
    "# 3. What's the title of the first story to mention the word 'hipster' in 1995? What's the first paragraph?"
   ]
  },
  {
   "cell_type": "code",
   "execution_count": 178,
   "metadata": {
    "collapsed": true
   },
   "outputs": [],
   "source": [
    "url_hipster =\"http://api.nytimes.com/svc/search/v2/articlesearch.json?q=hipster&begin_date=19950101&end_date=19951231&sort=oldest&api-key=ffaf60d7d82258e112dd4fb2b5e4e2d6:3:72421680\""
   ]
  },
  {
   "cell_type": "code",
   "execution_count": 179,
   "metadata": {
    "collapsed": false
   },
   "outputs": [],
   "source": [
    "response = urllib2.urlopen(url_hipster)\n",
    "contents = response.read()\n",
    "data = json.loads(contents)"
   ]
  },
  {
   "cell_type": "code",
   "execution_count": 180,
   "metadata": {
    "collapsed": false
   },
   "outputs": [
    {
     "name": "stdout",
     "output_type": "stream",
     "text": [
      "Portable record players with built-in speakers, from the 1960's, are the latest points on hipster score cards. In some cases, they are the only way to listen to many of the old LP or 45-r.p.m. recordings still around but not released on cassette or CD. Usually available in white plastic or metal, they can be found in flea markets and secondhand stores. One style has the arm cast in the shape of a cobra. (Don Hogan Charles/The New York Times)\n"
     ]
    }
   ],
   "source": [
    "print data['response']['docs'][0]['lead_paragraph']"
   ]
  },
  {
   "cell_type": "markdown",
   "metadata": {},
   "source": [
    "# 4. How many times was gay marriage mentioned in the NYT between 1950-1959, 1960-1969, 1970-1978, 1980-1989, 1990-2099, 2000-2009, and 2010-present?\n",
    "\n",
    "Tip: You'll want to put quotes around the search term so it isn't just looking for \"gay\" and \"marriage\" in the same article.\n",
    "\n",
    "Tip: Write code to find the number of mentions between Jan 1, 1950 and Dec 31, 1959. Turn that code into a function that takes two parameters, a start date and an end date, and returns the number of mentions."
   ]
  },
  {
   "cell_type": "code",
   "execution_count": 251,
   "metadata": {
    "collapsed": false
   },
   "outputs": [],
   "source": [
    "url_gay_all = \"http://api.nytimes.com/svc/search/v2/articlesearch.json?q=%22gay+marriage%22&begin_date=19500101&end_date=20150702&api-key=ffaf60d7d82258e112dd4fb2b5e4e2d6:3:72421680\""
   ]
  },
  {
   "cell_type": "code",
   "execution_count": 252,
   "metadata": {
    "collapsed": false
   },
   "outputs": [
    {
     "data": {
      "text/plain": [
       "{u'docs': [], u'meta': {u'hits': 0, u'offset': 0, u'time': 55}}"
      ]
     },
     "execution_count": 252,
     "metadata": {},
     "output_type": "execute_result"
    }
   ],
   "source": [
    "response = urllib2.urlopen(url_gay)\n",
    "contents = response.read()\n",
    "data = json.loads(contents)\n",
    "data[\"response\"]"
   ]
  },
  {
   "cell_type": "code",
   "execution_count": 254,
   "metadata": {
    "collapsed": false
   },
   "outputs": [
    {
     "name": "stdout",
     "output_type": "stream",
     "text": [
      "79\n"
     ]
    }
   ],
   "source": [
    "def go_gay(begin_date,end_date):\n",
    "   url = \"http://api.nytimes.com/svc/search/v2/articlesearch.json?q=\"+\"gay+marriage\"+\"&begin_date=\"+str(begin_date)+\"&end_date=\"+str(end_date)+\"&sort=oldest&api-key=ffaf60d7d82258e112dd4fb2b5e4e2d6:3:72421680\"\n",
    "   response = urllib2.urlopen(url)\n",
    "   contents = response.read()\n",
    "   data = json.loads(contents)\n",
    "   return data['response']['meta']['hits']\n",
    "print go_gay(19950101,19951231)"
   ]
  },
  {
   "cell_type": "code",
   "execution_count": 255,
   "metadata": {
    "collapsed": false
   },
   "outputs": [
    {
     "name": "stdout",
     "output_type": "stream",
     "text": [
      "556\n",
      "485\n",
      "408\n",
      "368\n",
      "13228\n",
      "4870\n",
      "7248\n"
     ]
    }
   ],
   "source": [
    "time_list = [{'begin_date': 19500101,'end_date': 19591231}, {'begin_date': 19600101,'end_date': 19691231}, {\"begin_date\":19700101,\"end_date\":19781231},{\"begin_date\":19800101,\"end_date\":19891231 },{ \"begin_date\":19900101,\"end_date\":20991231 },{ \"begin_date\":20000101,\"end_date\":20091231}, {'begin_date':20100101, 'end_date' : 20151231}]\n",
    "\n",
    "for time in time_list :\n",
    "   print go_gay(time['begin_date'], time['end_date'])"
   ]
  },
  {
   "cell_type": "code",
   "execution_count": null,
   "metadata": {
    "collapsed": true
   },
   "outputs": [],
   "source": []
  }
 ],
 "metadata": {
  "kernelspec": {
   "display_name": "Python 2",
   "language": "python",
   "name": "python2"
  },
  "language_info": {
   "codemirror_mode": {
    "name": "ipython",
    "version": 2
   },
   "file_extension": ".py",
   "mimetype": "text/x-python",
   "name": "python",
   "nbconvert_exporter": "python",
   "pygments_lexer": "ipython2",
   "version": "2.7.10"
  }
 },
 "nbformat": 4,
 "nbformat_minor": 0
}
