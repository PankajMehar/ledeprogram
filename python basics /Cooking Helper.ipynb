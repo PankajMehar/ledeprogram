{
 "cells": [
  {
   "cell_type": "markdown",
   "metadata": {},
   "source": [
    "# Session 9 Homework\n",
    "\n",
    "06/25/2015\n",
    "\n",
    "## 1. COOKING HELPER\n",
    "\n",
    "Cooking from recipes can be tough if you don't know how to convert units. Let's write a program to help that out!\n",
    "\n",
    "Write three functions `to_cups`, `to_tablespoons` and `to_teaspoons`. Each function takes two parameters, an amount and a measurement. Convert the amount of that measurement into the target measurement. i.e., `to_teaspoons(3, 'tablespoons')` should return the number 9, since 3 tablespoons = 9 teaspoons.\n",
    "\n",
    "Use these to test your function, and ask Google or Wolfram Alpha (http://www.wolframalpha.com/input/?i=1+cup+in+tablespoons)\n",
    "\n",
    "    print to_cups(3, 'tablespoons')\n",
    "    print to_tablespoons(9, 'teaspoons')\n",
    "    print to_teaspoons(1, 'cups')\n"
   ]
  },
  {
   "cell_type": "code",
   "execution_count": 2,
   "metadata": {
    "collapsed": false
   },
   "outputs": [
    {
     "name": "stdout",
     "output_type": "stream",
     "text": [
      "0.1875\n",
      "3.0\n",
      "48.0\n",
      "0.125\n"
     ]
    }
   ],
   "source": [
    "def to_cups(amount, measurement):\n",
    "    if measurement == \"tablespoons\":\n",
    "        return float(amount/16.0)\n",
    "    elif measurement == \"teaspoons\":\n",
    "        return float(amount/48.0)\n",
    "    \n",
    "print to_cups(3, \"tablespoons\")    \n",
    "    \n",
    "\n",
    "def to_tablespoons(amount, measurement):\n",
    "    if measurement == \"cups\":\n",
    "        return float(amount*16.0)\n",
    "    elif measurement == \"teaspoons\":\n",
    "        return float(amount/3.0)\n",
    "\n",
    "print to_tablespoons(9, \"teaspoons\")\n",
    "    \n",
    "\n",
    "def to_teaspoons(amount, measurement):\n",
    "    if measurement == \"cups\":\n",
    "        return float(amount*48.0)\n",
    "    elif measurement == \"tablespoons\":\n",
    "        return float(amount*3.0)\n",
    "\n",
    "print to_teaspoons(1, \"cups\")\n",
    "\n",
    "print to_cups(2, \"tablespoons\")"
   ]
  },
  {
   "cell_type": "markdown",
   "metadata": {},
   "source": [
    "# 2. BRANCHING OUT\n",
    "\n",
    "If you're baking, measuring by weight is much much better than measuring by volume. Make a function called `to_grams` that takes an amount, a measurement and an ingredient name. It should return the number of grams the ingredient weighs.\n",
    "\n",
    "Unfortunately different ingredients weigh different amounts - one cup of flour is 125 grams, but one cup of water is 240 grams!\n",
    "\n",
    "Use these to test your function\n",
    "\n",
    "    print to_grams(3, 'cups', 'flour')\n",
    "    print to_grams(2, 'tablespoons', 'water')\n",
    "\n",
    "Dry ingredients (125 grams per cup): salt, flour, baking powder, baking soda, cinnamon, yeast\n",
    "\n",
    "Wet ingredients (240 grams per cup): water, butter, egg, milk, chocolate, sugar\n",
    "\n",
    "Warning: This list is reeeaaaally not accurate."
   ]
  },
  {
   "cell_type": "code",
   "execution_count": 3,
   "metadata": {
    "collapsed": false
   },
   "outputs": [
    {
     "name": "stdout",
     "output_type": "stream",
     "text": [
      "375.0\n",
      "30.0\n",
      "1680.0\n"
     ]
    }
   ],
   "source": [
    "dry = [\"salt\", \"flour\", \"baking powder\", \"baking soda\", \"cinnamon, yeast\"]\n",
    "wet = [\"water\", \"butter\", \"egg\", \"milk\", \"chocolate\", \"sugar\"]\n",
    "\n",
    "\n",
    "def to_grams(amount, measurement, ingredient):\n",
    "    if ingredient in dry:\n",
    "        amount = float(amount)\n",
    "        if measurement == \"cups\":\n",
    "            return amount*125\n",
    "        if measurement == \"tablespoons\":\n",
    "            return float(to_cups(amount, \"tablespoons\"))*125\n",
    "        if measurement == \"teaspoons\":\n",
    "            return float(to_cups(amount, \"teaspoons\"))*125\n",
    "    if ingredient in wet: \n",
    "        amount = float(amount)\n",
    "        if measurement == \"cups\":\n",
    "            return amount*240\n",
    "        if measurement == \"tablespoons\":\n",
    "            return float(to_cups(amount, \"tablespoons\"))*240\n",
    "        if measurement == \"teaspoons\":\n",
    "            return float(to_cups(amount, \"teaspoons\"))*240\n",
    "\n",
    "print to_grams(3, \"cups\", \"flour\")\n",
    "print to_grams(2, \"tablespoons\", \"water\")\n",
    "print to_grams(7, \"cups\", \"chocolate\")\n",
    "    "
   ]
  },
  {
   "cell_type": "markdown",
   "metadata": {},
   "source": [
    "# 3. RING IT UP\n",
    "\n",
    "Now we have a big ol' recipe\n",
    "\n",
    "    recipe = [\n",
    "      { 'amount': 3, 'measurement': 'cups', 'ingredient': 'flour' },\n",
    "      { 'amount': 1, 'measurement': 'tablespoons', 'ingredient': 'milk' },\n",
    "      { 'amount': 0.25, 'measurement': 'teaspoons', 'ingredient': 'salt' },\n",
    "      { 'amount': 1, 'measurement': 'cups', 'ingredient': 'butter' },\n",
    "      { 'amount': 0.75, 'measurement': 'cups', 'ingredient': 'baking powder' },\n",
    "      { 'amount': 0.25, 'measurement': 'cups', 'ingredient': 'egg' }\n",
    "    ]\n",
    "\n",
    "What's the total gram weight of the entire recipe?"
   ]
  },
  {
   "cell_type": "code",
   "execution_count": 4,
   "metadata": {
    "collapsed": false
   },
   "outputs": [
    {
     "name": "stdout",
     "output_type": "stream",
     "text": [
      "784.401041667\n"
     ]
    }
   ],
   "source": [
    "recipe = [\n",
    "      { 'amount': 3, 'measurement': 'cups', 'ingredient': 'flour' },\n",
    "      { 'amount': 1, 'measurement': 'tablespoons', 'ingredient': 'milk' },\n",
    "      { 'amount': 0.25, 'measurement': 'teaspoons', 'ingredient': 'salt' },\n",
    "      { 'amount': 1, 'measurement': 'cups', 'ingredient': 'butter' },\n",
    "      { 'amount': 0.75, 'measurement': 'cups', 'ingredient': 'baking powder' },\n",
    "      { 'amount': 0.25, 'measurement': 'cups', 'ingredient': 'egg' }\n",
    "    ]\n",
    "\n",
    "result = []\n",
    "for r in recipe:\n",
    "    result.append(to_grams(r['amount'], r['measurement'], r['ingredient']))\n",
    "print sum(result)\n",
    "\n",
    "# or [for r in recipe to_grams(r['amount'], r['measurement'], r['ingredient']]\n"
   ]
  },
  {
   "cell_type": "markdown",
   "metadata": {},
   "source": [
    "# 4. BREAD CITY\n",
    "\n",
    "If you really like either baking or programming or algorithms, you can do this one:\n",
    "\n",
    "There's this magic thing called the Baker's Percentage when cooking bread.\n",
    "\n",
    "https://en.wikipedia.org/wiki/Baker_percentage\n",
    "http://www.craftybaking.com/howto/bakers-percentage-method\n",
    "http://thebakersguide.com/the-bakers-percentage\n",
    "\n",
    "It's just the weight of an ingredient vs. the weight of flour - 200 grams of water, 4 grams of yeast and 400 grams of flour = 50% water and 10% yeast. It's NOT the percentage of the total recipe, just the amount of the ingredient over the amount of flour (in that case it would be ~33% water).\n",
    "\n",
    "Let's say I want to make a yeasted dough (100% flour, 35% water, 35% milk, 4% yeast, 1.8% salt). My friend says she has 6 cups of flour. How many cups of water and milk, and teaspoons of yeast and salt do I need? You don't need a loop or anything, you should be able to do it piece by piece. You'll need to convert from volume to weight, then back to volume.\n",
    "\n",
    "Use the code below to convert between grams and other measurements. For example, grams_to_measurement(300, 'flour', 'cups') should convert 3 grams of flour into cups.\n",
    "\n",
    "    def grams_to_measurement(amount, ingredient, measurement):\n",
    "\n",
    "Convert 1 measurement of the ingredient to grams to get the tablespoon:grams ratio\n",
    "\n",
    "    conversion = to_grams(1, measurement, ingredient)\n",
    "  \n",
    "Then invert it to get the grams:tablespoon ratio\n",
    "\n",
    "    inverse = 1 / conversion\n",
    "  \n",
    "Then multiply to get the amount of the measurement\n",
    "\n",
    "    return inverse * amount"
   ]
  },
  {
   "cell_type": "code",
   "execution_count": 73,
   "metadata": {
    "collapsed": false
   },
   "outputs": [
    {
     "name": "stdout",
     "output_type": "stream",
     "text": [
      "2.4\n"
     ]
    }
   ],
   "source": [
    "def grams_to_measurement(amount, ingredient, measurement):\n",
    "    conversion = to_grams(1, measurement, ingredient)\n",
    "    inverse = 1/conversion\n",
    "    return inverse*amount\n",
    "\n",
    "#return (amount/(to_grams(1, measurement, ingredient)))\n",
    "print grams_to_measurement(300, \"flour\", \"cups\")\n"
   ]
  },
  {
   "cell_type": "code",
   "execution_count": 81,
   "metadata": {
    "collapsed": false
   },
   "outputs": [
    {
     "name": "stdout",
     "output_type": "stream",
     "text": [
      "(375.0, 131.25, 131.25, 15.0, 6.749999999999999)\n"
     ]
    }
   ],
   "source": [
    "flour = 1\n",
    "water = 0.35\n",
    "milk = 0.35\n",
    "yeast = 0.04\n",
    "salt = 0.018\n",
    "\n",
    "# Convert to grams\n",
    "\n",
    "def baker(amount, measurement, ingredient):\n",
    "    amount = float(amount)\n",
    "    conversion = to_grams(amount, measurement, ingredient)\n",
    "    return conversion*flour, conversion*water, conversion*milk, conversion*yeast, conversion*salt\n",
    "print baker(3, \"cups\", \"flour\")\n",
    "\n"
   ]
  },
  {
   "cell_type": "code",
   "execution_count": 64,
   "metadata": {
    "collapsed": false
   },
   "outputs": [
    {
     "name": "stdout",
     "output_type": "stream",
     "text": [
      "(6.0, 'cups of flour', 2.0999999999999996, 'cups of water', 2.0999999999999996, 'cups of milk', 0.24, 'cups of yeast', 0.10799999999999998)\n"
     ]
    }
   ],
   "source": [
    "# Convert to cups and teaspoons\n",
    "\n",
    "def baker_to_measurement(amount, measurement, ingredient):\n",
    "    amount = float(amount)\n",
    "    return amount*flour, \"cups of flour\", amount*water, \"cups of water\", amount*milk, \"cups of milk\", amount*yeast, \"cups of yeast\", amount*salt\n",
    "\n",
    "print baker_to_measurement(6, \"cups\", \"flour\")\n",
    "\n"
   ]
  }
 ],
 "metadata": {
  "kernelspec": {
   "display_name": "Python 2",
   "language": "python",
   "name": "python2"
  },
  "language_info": {
   "codemirror_mode": {
    "name": "ipython",
    "version": 2
   },
   "file_extension": ".py",
   "mimetype": "text/x-python",
   "name": "python",
   "nbconvert_exporter": "python",
   "pygments_lexer": "ipython2",
   "version": "2.7.10"
  }
 },
 "nbformat": 4,
 "nbformat_minor": 0
}
